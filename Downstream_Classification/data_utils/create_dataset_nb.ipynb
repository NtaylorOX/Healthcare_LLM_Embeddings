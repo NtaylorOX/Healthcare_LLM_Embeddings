{
 "cells": [
  {
   "cell_type": "code",
   "execution_count": 1,
   "metadata": {},
   "outputs": [],
   "source": [
    "import pandas as pd\n",
    "import numpy as np\n",
    "import matplotlib.pyplot as plt\n",
    "import spacy\n",
    "import re\n",
    "from tqdm import tqdm\n",
    "import string\n",
    "import torch\n",
    "import os\n",
    "\n",
    "from datasets import load_dataset\n",
    "from sklearn.model_selection import train_test_split\n",
    "from dataset_processing import FewShotSampler, encode_classes"
   ]
  },
  {
   "attachments": {},
   "cell_type": "markdown",
   "metadata": {},
   "source": [
    "look at loading mednli dataset"
   ]
  },
  {
   "cell_type": "code",
   "execution_count": null,
   "metadata": {},
   "outputs": [],
   "source": []
  },
  {
   "cell_type": "code",
   "execution_count": null,
   "metadata": {},
   "outputs": [],
   "source": []
  },
  {
   "cell_type": "code",
   "execution_count": null,
   "metadata": {},
   "outputs": [],
   "source": []
  },
  {
   "cell_type": "code",
   "execution_count": 2,
   "metadata": {},
   "outputs": [],
   "source": [
    "data_dir = \"/mnt/sdg/niallt/mimic_iii/processed/HADM_ID_split/\"\n",
    "save_dir = \"/mnt/sdg/niallt/mimic_iii/processed/HADM_ID_split/pseudo_classification/\""
   ]
  },
  {
   "cell_type": "code",
   "execution_count": 3,
   "metadata": {},
   "outputs": [
    {
     "name": "stderr",
     "output_type": "stream",
     "text": [
      "/tmp/ipykernel_2128/850835427.py:1: DtypeWarning: Columns (5) have mixed types. Specify dtype option on import or set low_memory=False.\n",
      "  train_df = pd.read_csv(f\"{data_dir}/train_df_notes_interim_preprocessed.csv\")\n",
      "/tmp/ipykernel_2128/850835427.py:2: DtypeWarning: Columns (5) have mixed types. Specify dtype option on import or set low_memory=False.\n",
      "  test_df = pd.read_csv(f\"{data_dir}/test_df_notes_interim_preprocessed.csv\")\n"
     ]
    }
   ],
   "source": [
    "train_df = pd.read_csv(f\"{data_dir}/train_df_notes_interim_preprocessed.csv\")\n",
    "test_df = pd.read_csv(f\"{data_dir}/test_df_notes_interim_preprocessed.csv\")"
   ]
  },
  {
   "cell_type": "code",
   "execution_count": 4,
   "metadata": {},
   "outputs": [
    {
     "data": {
      "text/plain": [
       "ROW_ID           int64\n",
       "SUBJECT_ID       int64\n",
       "HADM_ID        float64\n",
       "CHARTDATE       object\n",
       "CHARTTIME       object\n",
       "STORETIME       object\n",
       "CATEGORY        object\n",
       "DESCRIPTION     object\n",
       "CGID           float64\n",
       "ISERROR        float64\n",
       "TEXT            object\n",
       "dtype: object"
      ]
     },
     "execution_count": 4,
     "metadata": {},
     "output_type": "execute_result"
    }
   ],
   "source": [
    "train_df.dtypes"
   ]
  },
  {
   "attachments": {},
   "cell_type": "markdown",
   "metadata": {},
   "source": [
    "For the NOTE CATEGORY classification we just want to pull out the CATEGORY and TEXT"
   ]
  },
  {
   "cell_type": "code",
   "execution_count": 4,
   "metadata": {},
   "outputs": [],
   "source": [
    "train_df_cat = train_df[[\"TEXT\",\"CATEGORY\"]]\n",
    "test_df_cat =  test_df[[\"TEXT\",\"CATEGORY\"]]"
   ]
  },
  {
   "cell_type": "code",
   "execution_count": 6,
   "metadata": {},
   "outputs": [
    {
     "data": {
      "text/plain": [
       "(1079151, 2)"
      ]
     },
     "execution_count": 6,
     "metadata": {},
     "output_type": "execute_result"
    }
   ],
   "source": [
    "train_df_cat.shape"
   ]
  },
  {
   "cell_type": "code",
   "execution_count": 9,
   "metadata": {},
   "outputs": [
    {
     "data": {
      "text/plain": [
       "['Nursing/other',\n",
       " 'Radiology',\n",
       " 'Nursing',\n",
       " 'Physician ',\n",
       " 'Discharge summary',\n",
       " 'Echo',\n",
       " 'Respiratory ',\n",
       " 'Nutrition',\n",
       " 'General',\n",
       " 'Rehab Services',\n",
       " 'Pharmacy',\n",
       " 'Consult']"
      ]
     },
     "execution_count": 9,
     "metadata": {},
     "output_type": "execute_result"
    }
   ],
   "source": [
    "train_df_cat.CATEGORY.value_counts().index.tolist()"
   ]
  },
  {
   "cell_type": "code",
   "execution_count": 22,
   "metadata": {},
   "outputs": [
    {
     "data": {
      "text/html": [
       "<div>\n",
       "<style scoped>\n",
       "    .dataframe tbody tr th:only-of-type {\n",
       "        vertical-align: middle;\n",
       "    }\n",
       "\n",
       "    .dataframe tbody tr th {\n",
       "        vertical-align: top;\n",
       "    }\n",
       "\n",
       "    .dataframe thead th {\n",
       "        text-align: right;\n",
       "    }\n",
       "</style>\n",
       "<table border=\"1\" class=\"dataframe\">\n",
       "  <thead>\n",
       "    <tr style=\"text-align: right;\">\n",
       "      <th></th>\n",
       "      <th>TEXT</th>\n",
       "      <th>CATEGORY</th>\n",
       "      <th>label</th>\n",
       "    </tr>\n",
       "  </thead>\n",
       "  <tbody>\n",
       "    <tr>\n",
       "      <th>0</th>\n",
       "      <td>service: addendum: radiologic studies: radiolo...</td>\n",
       "      <td>Discharge summary</td>\n",
       "      <td>4</td>\n",
       "    </tr>\n",
       "    <tr>\n",
       "      <th>1</th>\n",
       "      <td>sex: f service: micu and then to medicine hist...</td>\n",
       "      <td>Discharge summary</td>\n",
       "      <td>4</td>\n",
       "    </tr>\n",
       "    <tr>\n",
       "      <th>2</th>\n",
       "      <td>sex: m service: medicine allergies: patient re...</td>\n",
       "      <td>Discharge summary</td>\n",
       "      <td>4</td>\n",
       "    </tr>\n",
       "    <tr>\n",
       "      <th>3</th>\n",
       "      <td>sex: f service: neurosurgery allergies: no kno...</td>\n",
       "      <td>Discharge summary</td>\n",
       "      <td>4</td>\n",
       "    </tr>\n",
       "    <tr>\n",
       "      <th>4</th>\n",
       "      <td>sex: m service: neurosurgery allergies: no kno...</td>\n",
       "      <td>Discharge summary</td>\n",
       "      <td>4</td>\n",
       "    </tr>\n",
       "  </tbody>\n",
       "</table>\n",
       "</div>"
      ],
      "text/plain": [
       "                                                TEXT           CATEGORY  label\n",
       "0  service: addendum: radiologic studies: radiolo...  Discharge summary      4\n",
       "1  sex: f service: micu and then to medicine hist...  Discharge summary      4\n",
       "2  sex: m service: medicine allergies: patient re...  Discharge summary      4\n",
       "3  sex: f service: neurosurgery allergies: no kno...  Discharge summary      4\n",
       "4  sex: m service: neurosurgery allergies: no kno...  Discharge summary      4"
      ]
     },
     "execution_count": 22,
     "metadata": {},
     "output_type": "execute_result"
    }
   ],
   "source": [
    "train_df_cat.head()"
   ]
  },
  {
   "cell_type": "code",
   "execution_count": 5,
   "metadata": {},
   "outputs": [],
   "source": [
    "if not os.path.exists(f\"{save_dir}\"):\n",
    "    os.makedirs(f\"{save_dir}\")   "
   ]
  },
  {
   "cell_type": "code",
   "execution_count": 44,
   "metadata": {},
   "outputs": [
    {
     "data": {
      "text/plain": [
       "1    38324\n",
       "2    11676\n",
       "Name: label, dtype: int64"
      ]
     },
     "execution_count": 44,
     "metadata": {},
     "output_type": "execute_result"
    }
   ],
   "source": [
    "train_df.head(50000).label.value_counts()"
   ]
  },
  {
   "cell_type": "code",
   "execution_count": 6,
   "metadata": {},
   "outputs": [],
   "source": [
    "# take just the top N \n",
    "n_classes = 8\n",
    "classes_to_keep = list(train_df.CATEGORY.value_counts().keys()[:n_classes])"
   ]
  },
  {
   "cell_type": "code",
   "execution_count": 18,
   "metadata": {},
   "outputs": [
    {
     "data": {
      "text/plain": [
       "Nursing/other        515874\n",
       "Radiology            237373\n",
       "Nursing              141452\n",
       "Physician             89750\n",
       "Discharge summary     38324\n",
       "Echo                  21541\n",
       "Respiratory           20102\n",
       "Nutrition              5898\n",
       "General                5344\n",
       "Rehab Services         3360\n",
       "Pharmacy                 69\n",
       "Consult                  64\n",
       "Name: CATEGORY, dtype: int64"
      ]
     },
     "execution_count": 18,
     "metadata": {},
     "output_type": "execute_result"
    }
   ],
   "source": [
    "train_df_cat.CATEGORY.value_counts()"
   ]
  },
  {
   "cell_type": "code",
   "execution_count": 40,
   "metadata": {},
   "outputs": [
    {
     "data": {
      "text/plain": [
       "['Nursing/other',\n",
       " 'Radiology',\n",
       " 'Nursing',\n",
       " 'Physician ',\n",
       " 'Discharge summary',\n",
       " 'Echo',\n",
       " 'Respiratory ',\n",
       " 'Nutrition']"
      ]
     },
     "execution_count": 40,
     "metadata": {},
     "output_type": "execute_result"
    }
   ],
   "source": [
    "classes_to_keep"
   ]
  },
  {
   "cell_type": "code",
   "execution_count": 7,
   "metadata": {},
   "outputs": [],
   "source": [
    "# now encode the labels - and sort by the value counts rather than string value - this well help keep ordering when subetting by class frequency\n",
    "\n",
    "class_list, idx_to_class, class_to_idx = encode_classes(train_df_cat, label_col=\"CATEGORY\", sort_by_value_count=True)"
   ]
  },
  {
   "cell_type": "code",
   "execution_count": 7,
   "metadata": {},
   "outputs": [
    {
     "data": {
      "text/plain": [
       "['Nursing/other',\n",
       " 'Radiology',\n",
       " 'Nursing',\n",
       " 'Physician ',\n",
       " 'Discharge summary',\n",
       " 'Echo',\n",
       " 'Respiratory ',\n",
       " 'Nutrition',\n",
       " 'General',\n",
       " 'Rehab Services',\n",
       " 'Pharmacy',\n",
       " 'Consult']"
      ]
     },
     "execution_count": 7,
     "metadata": {},
     "output_type": "execute_result"
    }
   ],
   "source": [
    "class_list"
   ]
  },
  {
   "cell_type": "code",
   "execution_count": 8,
   "metadata": {},
   "outputs": [
    {
     "name": "stderr",
     "output_type": "stream",
     "text": [
      "/tmp/ipykernel_2128/2066700263.py:1: SettingWithCopyWarning: \n",
      "A value is trying to be set on a copy of a slice from a DataFrame.\n",
      "Try using .loc[row_indexer,col_indexer] = value instead\n",
      "\n",
      "See the caveats in the documentation: https://pandas.pydata.org/pandas-docs/stable/user_guide/indexing.html#returning-a-view-versus-a-copy\n",
      "  train_df_cat['label'] = train_df_cat['CATEGORY'].map(class_to_idx)\n",
      "/tmp/ipykernel_2128/2066700263.py:2: SettingWithCopyWarning: \n",
      "A value is trying to be set on a copy of a slice from a DataFrame.\n",
      "Try using .loc[row_indexer,col_indexer] = value instead\n",
      "\n",
      "See the caveats in the documentation: https://pandas.pydata.org/pandas-docs/stable/user_guide/indexing.html#returning-a-view-versus-a-copy\n",
      "  test_df_cat['label'] = test_df_cat['CATEGORY'].map(class_to_idx)\n"
     ]
    }
   ],
   "source": [
    "train_df_cat['label'] = train_df_cat['CATEGORY'].map(class_to_idx)\n",
    "test_df_cat['label'] = test_df_cat['CATEGORY'].map(class_to_idx)"
   ]
  },
  {
   "cell_type": "code",
   "execution_count": 9,
   "metadata": {},
   "outputs": [],
   "source": [
    "train_df_cat.to_csv(f\"{save_dir}/train.csv\", index = False)\n",
    "test_df_cat.to_csv(f\"{save_dir}/test.csv\", index = False)"
   ]
  },
  {
   "cell_type": "code",
   "execution_count": 19,
   "metadata": {},
   "outputs": [
    {
     "data": {
      "text/plain": [
       "['Nursing/other',\n",
       " 'Radiology',\n",
       " 'Nursing',\n",
       " 'Physician ',\n",
       " 'Discharge summary',\n",
       " 'Echo',\n",
       " 'Respiratory ',\n",
       " 'Nutrition']"
      ]
     },
     "execution_count": 19,
     "metadata": {},
     "output_type": "execute_result"
    }
   ],
   "source": [
    "classes_to_keep"
   ]
  },
  {
   "cell_type": "code",
   "execution_count": 10,
   "metadata": {},
   "outputs": [],
   "source": [
    "# get new DFs with only the top N classes in\n",
    "\n",
    "subset_train_df = train_df_cat[train_df_cat['CATEGORY'].isin(classes_to_keep)]\n",
    "subset_test_df = test_df_cat[test_df_cat['CATEGORY'].isin(classes_to_keep)]\n"
   ]
  },
  {
   "cell_type": "code",
   "execution_count": 23,
   "metadata": {},
   "outputs": [
    {
     "data": {
      "text/plain": [
       "Nursing/other        515874\n",
       "Radiology            237373\n",
       "Nursing              141452\n",
       "Physician             89750\n",
       "Discharge summary     38324\n",
       "Echo                  21541\n",
       "Respiratory           20102\n",
       "Nutrition              5898\n",
       "Name: CATEGORY, dtype: int64"
      ]
     },
     "execution_count": 23,
     "metadata": {},
     "output_type": "execute_result"
    }
   ],
   "source": [
    "subset_train_df.CATEGORY.value_counts()"
   ]
  },
  {
   "cell_type": "code",
   "execution_count": 25,
   "metadata": {},
   "outputs": [
    {
     "data": {
      "text/plain": [
       "Nursing/other        306623\n",
       "Radiology            284906\n",
       "Nursing               82104\n",
       "Physician             51874\n",
       "Echo                  24253\n",
       "Discharge summary     21328\n",
       "Respiratory           11637\n",
       "Nutrition              3520\n",
       "Name: CATEGORY, dtype: int64"
      ]
     },
     "execution_count": 25,
     "metadata": {},
     "output_type": "execute_result"
    }
   ],
   "source": [
    "subset_test_df.CATEGORY.value_counts()"
   ]
  },
  {
   "cell_type": "code",
   "execution_count": 11,
   "metadata": {},
   "outputs": [],
   "source": [
    "final_train_df = subset_train_df.copy()"
   ]
  },
  {
   "attachments": {},
   "cell_type": "markdown",
   "metadata": {},
   "source": [
    "#### Creat val/test splits"
   ]
  },
  {
   "cell_type": "code",
   "execution_count": 34,
   "metadata": {},
   "outputs": [
    {
     "data": {
      "text/plain": [
       "(393122, 3)"
      ]
     },
     "execution_count": 34,
     "metadata": {},
     "output_type": "execute_result"
    }
   ],
   "source": [
    "final_test_df.shape"
   ]
  },
  {
   "cell_type": "code",
   "execution_count": 35,
   "metadata": {},
   "outputs": [
    {
     "data": {
      "text/plain": [
       "(1070314, 3)"
      ]
     },
     "execution_count": 35,
     "metadata": {},
     "output_type": "execute_result"
    }
   ],
   "source": [
    "final_train_df.shape"
   ]
  },
  {
   "cell_type": "code",
   "execution_count": 12,
   "metadata": {},
   "outputs": [],
   "source": [
    "final_test_df, final_val_df = train_test_split(subset_test_df, test_size=0.5)"
   ]
  },
  {
   "cell_type": "code",
   "execution_count": 23,
   "metadata": {},
   "outputs": [
    {
     "data": {
      "text/plain": [
       "(393123, 3)"
      ]
     },
     "execution_count": 23,
     "metadata": {},
     "output_type": "execute_result"
    }
   ],
   "source": [
    "final_val_df.shape"
   ]
  },
  {
   "attachments": {},
   "cell_type": "markdown",
   "metadata": {},
   "source": [
    "### Create few shot datasets\n",
    "\n",
    "here we want to create some balanced fewshot datasets - althoughi n reality we can also make just big balanced sub samples"
   ]
  },
  {
   "cell_type": "code",
   "execution_count": 17,
   "metadata": {},
   "outputs": [],
   "source": [
    "few_shot_n = 500\n",
    "label_col = \"label\""
   ]
  },
  {
   "cell_type": "code",
   "execution_count": 18,
   "metadata": {},
   "outputs": [],
   "source": [
    "# initialise the sampler\n",
    "support_sampler = FewShotSampler(num_examples_per_label = few_shot_n, \n",
    "                                 also_sample_dev=False, \n",
    "                                 label_col = label_col)\n",
    "# now apply to each dataframe but convert to dictionary in records form first\n",
    "fewshot_train_df = support_sampler(final_train_df.to_dict(orient=\"records\"), seed = 1)\n",
    "\n",
    "# do we actually want to resample the val and test sets - probably not? \n",
    "fewshot_val_df = support_sampler(final_val_df.to_dict(orient=\"records\"), seed = 1)\n",
    "fewshot_test_df = support_sampler(final_test_df.to_dict(orient=\"records\"), seed = 1)"
   ]
  },
  {
   "cell_type": "code",
   "execution_count": 19,
   "metadata": {},
   "outputs": [],
   "source": [
    "fewshot_reduced_class_save_dir = f\"{save_dir}/class_reduced_{n_classes}/fewshot_{few_shot_n}\"\n",
    "if not os.path.exists(fewshot_reduced_class_save_dir):\n",
    "    os.makedirs(f\"{fewshot_reduced_class_save_dir}\")   "
   ]
  },
  {
   "cell_type": "code",
   "execution_count": 20,
   "metadata": {},
   "outputs": [],
   "source": [
    "# now write to file\n",
    "fewshot_train_df.to_csv(f\"{fewshot_reduced_class_save_dir}/train.csv\", index = False)\n",
    "fewshot_val_df.to_csv(f\"{fewshot_reduced_class_save_dir}/valid.csv\", index = False)\n",
    "\n",
    "fewshot_test_df.to_csv(f\"{fewshot_reduced_class_save_dir}/test.csv\", index = False)\n",
    "\n"
   ]
  },
  {
   "cell_type": "code",
   "execution_count": 21,
   "metadata": {},
   "outputs": [
    {
     "data": {
      "text/plain": [
       "4    500\n",
       "5    500\n",
       "7    500\n",
       "0    500\n",
       "6    500\n",
       "1    500\n",
       "2    500\n",
       "3    500\n",
       "Name: label, dtype: int64"
      ]
     },
     "execution_count": 21,
     "metadata": {},
     "output_type": "execute_result"
    }
   ],
   "source": [
    "fewshot_val_df.label.value_counts()"
   ]
  },
  {
   "cell_type": "code",
   "execution_count": 38,
   "metadata": {},
   "outputs": [
    {
     "data": {
      "text/html": [
       "<div>\n",
       "<style scoped>\n",
       "    .dataframe tbody tr th:only-of-type {\n",
       "        vertical-align: middle;\n",
       "    }\n",
       "\n",
       "    .dataframe tbody tr th {\n",
       "        vertical-align: top;\n",
       "    }\n",
       "\n",
       "    .dataframe thead th {\n",
       "        text-align: right;\n",
       "    }\n",
       "</style>\n",
       "<table border=\"1\" class=\"dataframe\">\n",
       "  <thead>\n",
       "    <tr style=\"text-align: right;\">\n",
       "      <th></th>\n",
       "      <th>TEXT</th>\n",
       "      <th>CATEGORY</th>\n",
       "      <th>label</th>\n",
       "    </tr>\n",
       "  </thead>\n",
       "  <tbody>\n",
       "    <tr>\n",
       "      <th>0</th>\n",
       "      <td>name: , unit no: date of birth: sex: m service...</td>\n",
       "      <td>Discharge summary</td>\n",
       "      <td>4</td>\n",
       "    </tr>\n",
       "    <tr>\n",
       "      <th>1</th>\n",
       "      <td>demographics day of intubation: day of mechani...</td>\n",
       "      <td>Respiratory</td>\n",
       "      <td>6</td>\n",
       "    </tr>\n",
       "    <tr>\n",
       "      <th>2</th>\n",
       "      <td>micu nursing progress note 0700-1900 events: t...</td>\n",
       "      <td>Nursing/other</td>\n",
       "      <td>0</td>\n",
       "    </tr>\n",
       "    <tr>\n",
       "      <th>3</th>\n",
       "      <td>subjective patient recently extubated- per fam...</td>\n",
       "      <td>Nutrition</td>\n",
       "      <td>7</td>\n",
       "    </tr>\n",
       "    <tr>\n",
       "      <th>4</th>\n",
       "      <td>chief complaint: sdh, resp failure i saw and e...</td>\n",
       "      <td>Physician</td>\n",
       "      <td>3</td>\n",
       "    </tr>\n",
       "  </tbody>\n",
       "</table>\n",
       "</div>"
      ],
      "text/plain": [
       "                                                TEXT           CATEGORY  label\n",
       "0  name: , unit no: date of birth: sex: m service...  Discharge summary      4\n",
       "1  demographics day of intubation: day of mechani...       Respiratory       6\n",
       "2  micu nursing progress note 0700-1900 events: t...      Nursing/other      0\n",
       "3  subjective patient recently extubated- per fam...          Nutrition      7\n",
       "4  chief complaint: sdh, resp failure i saw and e...         Physician       3"
      ]
     },
     "execution_count": 38,
     "metadata": {},
     "output_type": "execute_result"
    }
   ],
   "source": [
    "fewshot_val_df.head()"
   ]
  },
  {
   "cell_type": "code",
   "execution_count": 39,
   "metadata": {},
   "outputs": [
    {
     "data": {
      "text/html": [
       "<div>\n",
       "<style scoped>\n",
       "    .dataframe tbody tr th:only-of-type {\n",
       "        vertical-align: middle;\n",
       "    }\n",
       "\n",
       "    .dataframe tbody tr th {\n",
       "        vertical-align: top;\n",
       "    }\n",
       "\n",
       "    .dataframe thead th {\n",
       "        text-align: right;\n",
       "    }\n",
       "</style>\n",
       "<table border=\"1\" class=\"dataframe\">\n",
       "  <thead>\n",
       "    <tr style=\"text-align: right;\">\n",
       "      <th></th>\n",
       "      <th>TEXT</th>\n",
       "      <th>CATEGORY</th>\n",
       "      <th>label</th>\n",
       "    </tr>\n",
       "  </thead>\n",
       "  <tbody>\n",
       "    <tr>\n",
       "      <th>0</th>\n",
       "      <td>patient remains on mechanical ventilation,went...</td>\n",
       "      <td>Nursing/other</td>\n",
       "      <td>0</td>\n",
       "    </tr>\n",
       "    <tr>\n",
       "      <th>1</th>\n",
       "      <td>3:55 am chest (portable ap) clip # reason: int...</td>\n",
       "      <td>Radiology</td>\n",
       "      <td>1</td>\n",
       "    </tr>\n",
       "    <tr>\n",
       "      <th>2</th>\n",
       "      <td>airway tube type tracheostomy tube: type: uncu...</td>\n",
       "      <td>Respiratory</td>\n",
       "      <td>6</td>\n",
       "    </tr>\n",
       "    <tr>\n",
       "      <th>3</th>\n",
       "      <td>subjective patient unable objective pertinent ...</td>\n",
       "      <td>Nutrition</td>\n",
       "      <td>7</td>\n",
       "    </tr>\n",
       "    <tr>\n",
       "      <th>4</th>\n",
       "      <td>subjective patient somnolent, absent gag objec...</td>\n",
       "      <td>Nutrition</td>\n",
       "      <td>7</td>\n",
       "    </tr>\n",
       "  </tbody>\n",
       "</table>\n",
       "</div>"
      ],
      "text/plain": [
       "                                                TEXT       CATEGORY  label\n",
       "0  patient remains on mechanical ventilation,went...  Nursing/other      0\n",
       "1  3:55 am chest (portable ap) clip # reason: int...      Radiology      1\n",
       "2  airway tube type tracheostomy tube: type: uncu...   Respiratory       6\n",
       "3  subjective patient unable objective pertinent ...      Nutrition      7\n",
       "4  subjective patient somnolent, absent gag objec...      Nutrition      7"
      ]
     },
     "execution_count": 39,
     "metadata": {},
     "output_type": "execute_result"
    },
    {
     "ename": "",
     "evalue": "",
     "output_type": "error",
     "traceback": [
      "\u001b[1;31mThe Kernel crashed while executing code in the the current cell or a previous cell. Please review the code in the cell(s) to identify a possible cause of the failure. Click <a href='https://aka.ms/vscodeJupyterKernelCrash'>here</a> for more info. View Jupyter <a href='command:jupyter.viewOutput'>log</a> for further details."
     ]
    }
   ],
   "source": [
    "fewshot_train_df.head()"
   ]
  },
  {
   "attachments": {},
   "cell_type": "markdown",
   "metadata": {},
   "source": [
    "## ICD9-Triage task\n"
   ]
  },
  {
   "cell_type": "code",
   "execution_count": 23,
   "metadata": {},
   "outputs": [],
   "source": [
    "data_dir = \"/mnt/sdg/niallt/mimic3-icd9-data/intermediary-data/triage/\""
   ]
  },
  {
   "cell_type": "code",
   "execution_count": 30,
   "metadata": {},
   "outputs": [],
   "source": [
    "train_df = pd.read_csv(f\"{data_dir}/train.csv\")\n",
    "val_df = pd.read_csv(f\"{data_dir}/valid.csv\")\n",
    "test_df = pd.read_csv(f\"{data_dir}/test.csv\")"
   ]
  },
  {
   "cell_type": "code",
   "execution_count": 27,
   "metadata": {},
   "outputs": [
    {
     "data": {
      "text/html": [
       "<div>\n",
       "<style scoped>\n",
       "    .dataframe tbody tr th:only-of-type {\n",
       "        vertical-align: middle;\n",
       "    }\n",
       "\n",
       "    .dataframe tbody tr th {\n",
       "        vertical-align: top;\n",
       "    }\n",
       "\n",
       "    .dataframe thead th {\n",
       "        text-align: right;\n",
       "    }\n",
       "</style>\n",
       "<table border=\"1\" class=\"dataframe\">\n",
       "  <thead>\n",
       "    <tr style=\"text-align: right;\">\n",
       "      <th></th>\n",
       "      <th>text</th>\n",
       "      <th>label</th>\n",
       "      <th>triage-category</th>\n",
       "    </tr>\n",
       "  </thead>\n",
       "  <tbody>\n",
       "    <tr>\n",
       "      <th>0</th>\n",
       "      <td>: : : Sex: F Service: CARDIOTHORACIC Allergies...</td>\n",
       "      <td>4240</td>\n",
       "      <td>Cardiology</td>\n",
       "    </tr>\n",
       "    <tr>\n",
       "      <th>1</th>\n",
       "      <td>: : : Sex: F Service: NEONATOLOGY HISTORY: wee...</td>\n",
       "      <td>V3001</td>\n",
       "      <td>Obstetrics</td>\n",
       "    </tr>\n",
       "    <tr>\n",
       "      <th>2</th>\n",
       "      <td>: : : Sex: M Service: CARDIOTHORACIC Allergies...</td>\n",
       "      <td>41041</td>\n",
       "      <td>Cardiology</td>\n",
       "    </tr>\n",
       "    <tr>\n",
       "      <th>3</th>\n",
       "      <td>: : : Sex: F Service: MEDICINE Allergies: Peni...</td>\n",
       "      <td>51881</td>\n",
       "      <td>Respiratory</td>\n",
       "    </tr>\n",
       "    <tr>\n",
       "      <th>4</th>\n",
       "      <td>: : : Sex: M Service: ADMISSION DIAGNOSIS: . S...</td>\n",
       "      <td>41401</td>\n",
       "      <td>Cardiology</td>\n",
       "    </tr>\n",
       "  </tbody>\n",
       "</table>\n",
       "</div>"
      ],
      "text/plain": [
       "                                                text  label triage-category\n",
       "0  : : : Sex: F Service: CARDIOTHORACIC Allergies...   4240      Cardiology\n",
       "1  : : : Sex: F Service: NEONATOLOGY HISTORY: wee...  V3001      Obstetrics\n",
       "2  : : : Sex: M Service: CARDIOTHORACIC Allergies...  41041      Cardiology\n",
       "3  : : : Sex: F Service: MEDICINE Allergies: Peni...  51881     Respiratory\n",
       "4  : : : Sex: M Service: ADMISSION DIAGNOSIS: . S...  41401      Cardiology"
      ]
     },
     "execution_count": 27,
     "metadata": {},
     "output_type": "execute_result"
    }
   ],
   "source": [
    "train_df.head()"
   ]
  },
  {
   "cell_type": "code",
   "execution_count": 32,
   "metadata": {},
   "outputs": [
    {
     "data": {
      "text/plain": [
       "((9559, 3), (3114, 3), (3172, 3))"
      ]
     },
     "execution_count": 32,
     "metadata": {},
     "output_type": "execute_result"
    }
   ],
   "source": [
    "train_df.shape, val_df.shape, test_df.shape"
   ]
  },
  {
   "cell_type": "code",
   "execution_count": 34,
   "metadata": {},
   "outputs": [
    {
     "data": {
      "text/plain": [
       "Cardiology          4981\n",
       "Obstetrics          1788\n",
       "Respiratory         1219\n",
       "Neurology            744\n",
       "Gastroenterology     417\n",
       "AcuteMedicine        213\n",
       "Oncology             197\n",
       "Name: triage-category, dtype: int64"
      ]
     },
     "execution_count": 34,
     "metadata": {},
     "output_type": "execute_result"
    }
   ],
   "source": [
    "train_df[\"triage-category\"].value_counts()"
   ]
  },
  {
   "cell_type": "code",
   "execution_count": 39,
   "metadata": {},
   "outputs": [
    {
     "data": {
      "text/plain": [
       "Cardiology          1571\n",
       "Obstetrics           635\n",
       "Respiratory          388\n",
       "Neurology            231\n",
       "Gastroenterology     148\n",
       "Oncology              75\n",
       "AcuteMedicine         66\n",
       "Name: triage-category, dtype: int64"
      ]
     },
     "execution_count": 39,
     "metadata": {},
     "output_type": "execute_result"
    }
   ],
   "source": [
    "val_df[\"triage-category\"].value_counts()"
   ]
  },
  {
   "cell_type": "code",
   "execution_count": 40,
   "metadata": {},
   "outputs": [
    {
     "data": {
      "text/plain": [
       "Cardiology          1636\n",
       "Obstetrics           603\n",
       "Respiratory          396\n",
       "Neurology            272\n",
       "Gastroenterology     142\n",
       "Oncology              63\n",
       "AcuteMedicine         60\n",
       "Name: triage-category, dtype: int64"
      ]
     },
     "execution_count": 40,
     "metadata": {},
     "output_type": "execute_result"
    }
   ],
   "source": [
    "test_df[\"triage-category\"].value_counts()"
   ]
  },
  {
   "cell_type": "code",
   "execution_count": 35,
   "metadata": {},
   "outputs": [],
   "source": [
    "class_list, idx_to_class, class_to_idx = encode_classes(train_df, label_col=\"triage-category\", sort_by_value_count=True)"
   ]
  },
  {
   "cell_type": "code",
   "execution_count": 38,
   "metadata": {},
   "outputs": [
    {
     "data": {
      "text/plain": [
       "(['Cardiology',\n",
       "  'Obstetrics',\n",
       "  'Respiratory',\n",
       "  'Neurology',\n",
       "  'Gastroenterology',\n",
       "  'AcuteMedicine',\n",
       "  'Oncology'],\n",
       " {0: 'Cardiology',\n",
       "  1: 'Obstetrics',\n",
       "  2: 'Respiratory',\n",
       "  3: 'Neurology',\n",
       "  4: 'Gastroenterology',\n",
       "  5: 'AcuteMedicine',\n",
       "  6: 'Oncology'},\n",
       " {'Cardiology': 0,\n",
       "  'Obstetrics': 1,\n",
       "  'Respiratory': 2,\n",
       "  'Neurology': 3,\n",
       "  'Gastroenterology': 4,\n",
       "  'AcuteMedicine': 5,\n",
       "  'Oncology': 6})"
      ]
     },
     "execution_count": 38,
     "metadata": {},
     "output_type": "execute_result"
    }
   ],
   "source": [
    "class_list, idx_to_class, class_to_idx"
   ]
  },
  {
   "cell_type": "code",
   "execution_count": null,
   "metadata": {},
   "outputs": [],
   "source": []
  },
  {
   "cell_type": "code",
   "execution_count": 44,
   "metadata": {},
   "outputs": [],
   "source": [
    "# read in the fewshot one\n",
    "\n",
    "fs_train_df = pd.read_csv(f\"/mnt/sdg/niallt/mimic_iii/processed/HADM_ID_split//icd9-triage/TESTING_CODE/train.csv\")"
   ]
  },
  {
   "cell_type": "code",
   "execution_count": 47,
   "metadata": {},
   "outputs": [
    {
     "data": {
      "text/plain": [
       "3    200\n",
       "2    200\n",
       "4    200\n",
       "5    200\n",
       "0    200\n",
       "1    200\n",
       "6    197\n",
       "Name: label, dtype: int64"
      ]
     },
     "execution_count": 47,
     "metadata": {},
     "output_type": "execute_result"
    }
   ],
   "source": [
    "fs_train_df.label.value_counts()"
   ]
  },
  {
   "attachments": {},
   "cell_type": "markdown",
   "metadata": {},
   "source": [
    "## MIMIC TOP ICD9-50\n",
    "\n"
   ]
  }
 ],
 "metadata": {
  "kernelspec": {
   "display_name": "39nlp",
   "language": "python",
   "name": "python3"
  },
  "language_info": {
   "codemirror_mode": {
    "name": "ipython",
    "version": 3
   },
   "file_extension": ".py",
   "mimetype": "text/x-python",
   "name": "python",
   "nbconvert_exporter": "python",
   "pygments_lexer": "ipython3",
   "version": "3.9.16"
  },
  "orig_nbformat": 4,
  "vscode": {
   "interpreter": {
    "hash": "4bf09d40e77d3786deb49768c5a0e6c92c433b20cf5c332bc185780ac9d11fb5"
   }
  }
 },
 "nbformat": 4,
 "nbformat_minor": 2
}
