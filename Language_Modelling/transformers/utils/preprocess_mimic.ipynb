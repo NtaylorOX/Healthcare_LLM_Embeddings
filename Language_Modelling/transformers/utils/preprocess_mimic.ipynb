{
 "cells": [
  {
   "cell_type": "code",
   "execution_count": 2,
   "id": "2e43ea0d",
   "metadata": {},
   "outputs": [],
   "source": [
    "import pandas as pd\n",
    "import numpy as np\n",
    "import matplotlib.pyplot as plt\n",
    "\n",
    "import torch\n",
    "import spacy\n",
    "import nltk\n",
    "import re\n",
    "from tqdm import tqdm\n",
    "import string\n",
    "\n",
    "import os\n",
    "\n",
    "from dataset_processing import encode_classes"
   ]
  },
  {
   "attachments": {},
   "cell_type": "markdown",
   "id": "d01d3246",
   "metadata": {},
   "source": [
    "# Data Preprocessing"
   ]
  },
  {
   "cell_type": "code",
   "execution_count": 2,
   "id": "cf4a9488",
   "metadata": {},
   "outputs": [
    {
     "name": "stderr",
     "output_type": "stream",
     "text": [
      "/tmp/ipykernel_13348/2253001839.py:5: DtypeWarning: Columns (4,5) have mixed types. Specify dtype option on import or set low_memory=False.\n",
      "  df_notes = pd.read_csv(f\"{data_dir}/NOTEEVENTS.csv\")\n"
     ]
    }
   ],
   "source": [
    "#The pre-processing pipeline inherits from the original ClinicalBERT with minor changes. see https://github.com/kexinhuang12345/clinicalBERT\n",
    "data_dir = \"/mnt/sdc/niallt/mimic_iii/\"\n",
    "\n",
    "save_dir = \"/mnt/sdc/niallt/mimic_iii/processed/\"\n",
    "df_notes = pd.read_csv(f\"{data_dir}/NOTEEVENTS.csv\")"
   ]
  },
  {
   "attachments": {},
   "cell_type": "markdown",
   "id": "e80e164e",
   "metadata": {},
   "source": [
    "### Avoiding data leakage into likely downstream tasks\n",
    "\n",
    "We have a problem with mimic-iii data in that there are many downstream tasks and papers that have utilised these notes - with some of the more popular PLMs used having seen all of the notes during pre-training. \n",
    "\n",
    "An attempt to avoid the leakage for our ICD9-triage task involves isolating the test sets already created for those tasks and splitting on the HADMIDs found in the test sets. This should leave us with a language modelling training dataset that shares not notes with downstream test sets."
   ]
  },
  {
   "cell_type": "code",
   "execution_count": 3,
   "id": "118cff40",
   "metadata": {},
   "outputs": [],
   "source": [
    "# read in all test sets for the prompt learning paper\n",
    "test_dir_1 = \"/mnt/sdc/niallt/mimic3-icd9-data/intermediary-data/notes2diagnosis-icd-test.csv\"\n",
    "test_dir_2 = \"/mnt/sdc/niallt/mimic3-icd9-data/intermediary-data/notes2diagnosis-icd-validate.csv\"\n",
    "test_dir_3 = \"/mnt/sdc/niallt/mimic-readmission/discharge/test.csv\"\n",
    "\n",
    "test_dfs = pd.concat([pd.read_csv(dir) for dir in [test_dir_1, test_dir_2, test_dir_3]])"
   ]
  },
  {
   "cell_type": "code",
   "execution_count": 5,
   "id": "fb9aa873",
   "metadata": {},
   "outputs": [
    {
     "data": {
      "text/plain": [
       "(21796, 7)"
      ]
     },
     "execution_count": 5,
     "metadata": {},
     "output_type": "execute_result"
    }
   ],
   "source": [
    "test_dfs.shape"
   ]
  },
  {
   "cell_type": "code",
   "execution_count": 19,
   "id": "5627b206",
   "metadata": {},
   "outputs": [
    {
     "data": {
      "text/html": [
       "<div>\n",
       "<style scoped>\n",
       "    .dataframe tbody tr th:only-of-type {\n",
       "        vertical-align: middle;\n",
       "    }\n",
       "\n",
       "    .dataframe tbody tr th {\n",
       "        vertical-align: top;\n",
       "    }\n",
       "\n",
       "    .dataframe thead th {\n",
       "        text-align: right;\n",
       "    }\n",
       "</style>\n",
       "<table border=\"1\" class=\"dataframe\">\n",
       "  <thead>\n",
       "    <tr style=\"text-align: right;\">\n",
       "      <th></th>\n",
       "      <th>HADM_ID</th>\n",
       "      <th>TEXT</th>\n",
       "      <th>CATEGORY</th>\n",
       "      <th>ICD9_CODE</th>\n",
       "      <th>Unnamed: 0</th>\n",
       "      <th>ID</th>\n",
       "      <th>Label</th>\n",
       "    </tr>\n",
       "  </thead>\n",
       "  <tbody>\n",
       "    <tr>\n",
       "      <th>0</th>\n",
       "      <td>114601.0</td>\n",
       "      <td>: : Service: NEUROLOGY Allergies: Patient reco...</td>\n",
       "      <td>Discharge summary Discharge summary</td>\n",
       "      <td>43311</td>\n",
       "      <td>NaN</td>\n",
       "      <td>NaN</td>\n",
       "      <td>NaN</td>\n",
       "    </tr>\n",
       "    <tr>\n",
       "      <th>1</th>\n",
       "      <td>169625.0</td>\n",
       "      <td>: : Service: CCU HISTORY OF PRESENT ILLNESS: T...</td>\n",
       "      <td>Discharge summary</td>\n",
       "      <td>486</td>\n",
       "      <td>NaN</td>\n",
       "      <td>NaN</td>\n",
       "      <td>NaN</td>\n",
       "    </tr>\n",
       "    <tr>\n",
       "      <th>2</th>\n",
       "      <td>138492.0</td>\n",
       "      <td>: : : Sex: F Service: SURGERY Allergies: Penic...</td>\n",
       "      <td>Discharge summary Discharge summary</td>\n",
       "      <td>2381</td>\n",
       "      <td>NaN</td>\n",
       "      <td>NaN</td>\n",
       "      <td>NaN</td>\n",
       "    </tr>\n",
       "    <tr>\n",
       "      <th>3</th>\n",
       "      <td>115918.0</td>\n",
       "      <td>: : Service: MEDICINE Allergies: Vancomycin / ...</td>\n",
       "      <td>Discharge summary Discharge summary</td>\n",
       "      <td>56881</td>\n",
       "      <td>NaN</td>\n",
       "      <td>NaN</td>\n",
       "      <td>NaN</td>\n",
       "    </tr>\n",
       "    <tr>\n",
       "      <th>4</th>\n",
       "      <td>173668.0</td>\n",
       "      <td>: : : Sex: M Service: UROLOGY Allergies: Patie...</td>\n",
       "      <td>Discharge summary</td>\n",
       "      <td>1890</td>\n",
       "      <td>NaN</td>\n",
       "      <td>NaN</td>\n",
       "      <td>NaN</td>\n",
       "    </tr>\n",
       "  </tbody>\n",
       "</table>\n",
       "</div>"
      ],
      "text/plain": [
       "    HADM_ID                                               TEXT  \\\n",
       "0  114601.0  : : Service: NEUROLOGY Allergies: Patient reco...   \n",
       "1  169625.0  : : Service: CCU HISTORY OF PRESENT ILLNESS: T...   \n",
       "2  138492.0  : : : Sex: F Service: SURGERY Allergies: Penic...   \n",
       "3  115918.0  : : Service: MEDICINE Allergies: Vancomycin / ...   \n",
       "4  173668.0  : : : Sex: M Service: UROLOGY Allergies: Patie...   \n",
       "\n",
       "                              CATEGORY ICD9_CODE  Unnamed: 0  ID  Label  \n",
       "0  Discharge summary Discharge summary     43311         NaN NaN    NaN  \n",
       "1                    Discharge summary       486         NaN NaN    NaN  \n",
       "2  Discharge summary Discharge summary      2381         NaN NaN    NaN  \n",
       "3  Discharge summary Discharge summary     56881         NaN NaN    NaN  \n",
       "4                    Discharge summary      1890         NaN NaN    NaN  "
      ]
     },
     "execution_count": 19,
     "metadata": {},
     "output_type": "execute_result"
    }
   ],
   "source": [
    "test_dfs.head()"
   ]
  },
  {
   "cell_type": "code",
   "execution_count": 5,
   "id": "d398ce39",
   "metadata": {},
   "outputs": [],
   "source": [
    "df_test_ids = test_dfs.HADM_ID.unique()"
   ]
  },
  {
   "cell_type": "code",
   "execution_count": 8,
   "id": "35c5d208",
   "metadata": {},
   "outputs": [
    {
     "data": {
      "text/plain": [
       "18737"
      ]
     },
     "execution_count": 8,
     "metadata": {},
     "output_type": "execute_result"
    }
   ],
   "source": [
    "len(df_test_ids)"
   ]
  },
  {
   "cell_type": "code",
   "execution_count": 6,
   "id": "3c04a634",
   "metadata": {},
   "outputs": [],
   "source": [
    "# held-out dataset if you want to fine-tune on MIMIC data, it is better to exclude them prior to the training\n",
    "# exclude all data in test set for re-admission task where we are interested in \n",
    "# df_test_ids = pd.read_csv('discharge/test.csv').ID.unique()\n",
    "train_df_notes = df_notes[~df_notes.HADM_ID.isin(df_test_ids)]\n",
    "test_df_notes = df_notes[df_notes.HADM_ID.isin(df_test_ids)]"
   ]
  },
  {
   "cell_type": "code",
   "execution_count": 10,
   "id": "0042d512",
   "metadata": {},
   "outputs": [
    {
     "data": {
      "text/plain": [
       "(1170217, 11)"
      ]
     },
     "execution_count": 10,
     "metadata": {},
     "output_type": "execute_result"
    }
   ],
   "source": [
    "train_df_notes.shape"
   ]
  },
  {
   "cell_type": "code",
   "execution_count": 7,
   "id": "6ecd6359",
   "metadata": {},
   "outputs": [
    {
     "data": {
      "text/plain": [
       "(912963, 11)"
      ]
     },
     "execution_count": 7,
     "metadata": {},
     "output_type": "execute_result"
    }
   ],
   "source": [
    "test_df_notes.shape"
   ]
  },
  {
   "cell_type": "code",
   "execution_count": 6,
   "id": "d1c10334",
   "metadata": {},
   "outputs": [
    {
     "data": {
      "text/plain": [
       "Nursing/other        515874\n",
       "Radiology            237373\n",
       "Nursing              141452\n",
       "Physician             89750\n",
       "ECG                   88670\n",
       "Discharge summary     38324\n",
       "Echo                  21541\n",
       "Respiratory           20102\n",
       "Nutrition              5898\n",
       "General                5344\n",
       "Rehab Services         3360\n",
       "Social Work            1741\n",
       "Case Management         655\n",
       "Pharmacy                 69\n",
       "Consult                  64\n",
       "Name: CATEGORY, dtype: int64"
      ]
     },
     "execution_count": 6,
     "metadata": {},
     "output_type": "execute_result"
    }
   ],
   "source": [
    "train_df_notes.CATEGORY.value_counts()"
   ]
  },
  {
   "cell_type": "code",
   "execution_count": 7,
   "id": "66e6d353",
   "metadata": {},
   "outputs": [
    {
     "data": {
      "text/plain": [
       "Nursing/other        306623\n",
       "Radiology            284906\n",
       "ECG                  120381\n",
       "Nursing               82104\n",
       "Physician             51874\n",
       "Echo                  24253\n",
       "Discharge summary     21328\n",
       "Respiratory           11637\n",
       "Nutrition              3520\n",
       "General                2957\n",
       "Rehab Services         2071\n",
       "Social Work             929\n",
       "Case Management         312\n",
       "Pharmacy                 34\n",
       "Consult                  34\n",
       "Name: CATEGORY, dtype: int64"
      ]
     },
     "execution_count": 7,
     "metadata": {},
     "output_type": "execute_result"
    }
   ],
   "source": [
    "test_df_notes.CATEGORY.value_counts()"
   ]
  },
  {
   "cell_type": "code",
   "execution_count": 27,
   "id": "8add5fc3",
   "metadata": {},
   "outputs": [
    {
     "data": {
      "text/plain": [
       "39625"
      ]
     },
     "execution_count": 27,
     "metadata": {},
     "output_type": "execute_result"
    }
   ],
   "source": [
    "len(train_df_notes.HADM_ID.unique())"
   ]
  },
  {
   "cell_type": "code",
   "execution_count": 7,
   "id": "8c566cfe",
   "metadata": {},
   "outputs": [
    {
     "name": "stderr",
     "output_type": "stream",
     "text": [
      "/tmp/ipykernel_13348/3107566312.py:3: SettingWithCopyWarning: \n",
      "A value is trying to be set on a copy of a slice from a DataFrame.\n",
      "Try using .loc[row_indexer,col_indexer] = value instead\n",
      "\n",
      "See the caveats in the documentation: https://pandas.pydata.org/pandas-docs/stable/user_guide/indexing.html#returning-a-view-versus-a-copy\n",
      "  train_df_notes['num_words'] = train_df_notes['TEXT'].apply(lambda x: len(x.split()))\n",
      "/tmp/ipykernel_13348/3107566312.py:4: SettingWithCopyWarning: \n",
      "A value is trying to be set on a copy of a slice from a DataFrame.\n",
      "Try using .loc[row_indexer,col_indexer] = value instead\n",
      "\n",
      "See the caveats in the documentation: https://pandas.pydata.org/pandas-docs/stable/user_guide/indexing.html#returning-a-view-versus-a-copy\n",
      "  test_df_notes['num_words'] = test_df_notes['TEXT'].apply(lambda x: len(x.split()))\n"
     ]
    }
   ],
   "source": [
    "# add the num words per doc\n",
    "\n",
    "train_df_notes['num_words'] = train_df_notes['TEXT'].apply(lambda x: len(x.split()))\n",
    "test_df_notes['num_words'] = test_df_notes['TEXT'].apply(lambda x: len(x.split()))"
   ]
  },
  {
   "cell_type": "code",
   "execution_count": 9,
   "id": "2349b6e0",
   "metadata": {},
   "outputs": [
    {
     "data": {
      "text/html": [
       "<div>\n",
       "<style scoped>\n",
       "    .dataframe tbody tr th:only-of-type {\n",
       "        vertical-align: middle;\n",
       "    }\n",
       "\n",
       "    .dataframe tbody tr th {\n",
       "        vertical-align: top;\n",
       "    }\n",
       "\n",
       "    .dataframe thead th {\n",
       "        text-align: right;\n",
       "    }\n",
       "</style>\n",
       "<table border=\"1\" class=\"dataframe\">\n",
       "  <thead>\n",
       "    <tr style=\"text-align: right;\">\n",
       "      <th></th>\n",
       "      <th>ROW_ID</th>\n",
       "      <th>SUBJECT_ID</th>\n",
       "      <th>HADM_ID</th>\n",
       "      <th>CHARTDATE</th>\n",
       "      <th>CHARTTIME</th>\n",
       "      <th>STORETIME</th>\n",
       "      <th>CATEGORY</th>\n",
       "      <th>DESCRIPTION</th>\n",
       "      <th>CGID</th>\n",
       "      <th>ISERROR</th>\n",
       "      <th>TEXT</th>\n",
       "      <th>num_words</th>\n",
       "    </tr>\n",
       "  </thead>\n",
       "  <tbody>\n",
       "    <tr>\n",
       "      <th>0</th>\n",
       "      <td>174</td>\n",
       "      <td>22532</td>\n",
       "      <td>167853.0</td>\n",
       "      <td>2151-08-04</td>\n",
       "      <td>NaN</td>\n",
       "      <td>NaN</td>\n",
       "      <td>Discharge summary</td>\n",
       "      <td>Report</td>\n",
       "      <td>NaN</td>\n",
       "      <td>NaN</td>\n",
       "      <td>Admission Date:  [**2151-7-16**]       Dischar...</td>\n",
       "      <td>110</td>\n",
       "    </tr>\n",
       "    <tr>\n",
       "      <th>1</th>\n",
       "      <td>175</td>\n",
       "      <td>13702</td>\n",
       "      <td>107527.0</td>\n",
       "      <td>2118-06-14</td>\n",
       "      <td>NaN</td>\n",
       "      <td>NaN</td>\n",
       "      <td>Discharge summary</td>\n",
       "      <td>Report</td>\n",
       "      <td>NaN</td>\n",
       "      <td>NaN</td>\n",
       "      <td>Admission Date:  [**2118-6-2**]       Discharg...</td>\n",
       "      <td>1943</td>\n",
       "    </tr>\n",
       "    <tr>\n",
       "      <th>4</th>\n",
       "      <td>178</td>\n",
       "      <td>26880</td>\n",
       "      <td>135453.0</td>\n",
       "      <td>2162-03-25</td>\n",
       "      <td>NaN</td>\n",
       "      <td>NaN</td>\n",
       "      <td>Discharge summary</td>\n",
       "      <td>Report</td>\n",
       "      <td>NaN</td>\n",
       "      <td>NaN</td>\n",
       "      <td>Admission Date:  [**2162-3-3**]              D...</td>\n",
       "      <td>2099</td>\n",
       "    </tr>\n",
       "    <tr>\n",
       "      <th>5</th>\n",
       "      <td>179</td>\n",
       "      <td>53181</td>\n",
       "      <td>170490.0</td>\n",
       "      <td>2172-03-08</td>\n",
       "      <td>NaN</td>\n",
       "      <td>NaN</td>\n",
       "      <td>Discharge summary</td>\n",
       "      <td>Report</td>\n",
       "      <td>NaN</td>\n",
       "      <td>NaN</td>\n",
       "      <td>Admission Date:  [**2172-3-5**]              D...</td>\n",
       "      <td>1165</td>\n",
       "    </tr>\n",
       "    <tr>\n",
       "      <th>7</th>\n",
       "      <td>181</td>\n",
       "      <td>42130</td>\n",
       "      <td>114236.0</td>\n",
       "      <td>2150-03-01</td>\n",
       "      <td>NaN</td>\n",
       "      <td>NaN</td>\n",
       "      <td>Discharge summary</td>\n",
       "      <td>Report</td>\n",
       "      <td>NaN</td>\n",
       "      <td>NaN</td>\n",
       "      <td>Admission Date:  [**2150-2-25**]              ...</td>\n",
       "      <td>1524</td>\n",
       "    </tr>\n",
       "  </tbody>\n",
       "</table>\n",
       "</div>"
      ],
      "text/plain": [
       "   ROW_ID  SUBJECT_ID   HADM_ID   CHARTDATE CHARTTIME STORETIME  \\\n",
       "0     174       22532  167853.0  2151-08-04       NaN       NaN   \n",
       "1     175       13702  107527.0  2118-06-14       NaN       NaN   \n",
       "4     178       26880  135453.0  2162-03-25       NaN       NaN   \n",
       "5     179       53181  170490.0  2172-03-08       NaN       NaN   \n",
       "7     181       42130  114236.0  2150-03-01       NaN       NaN   \n",
       "\n",
       "            CATEGORY DESCRIPTION  CGID  ISERROR  \\\n",
       "0  Discharge summary      Report   NaN      NaN   \n",
       "1  Discharge summary      Report   NaN      NaN   \n",
       "4  Discharge summary      Report   NaN      NaN   \n",
       "5  Discharge summary      Report   NaN      NaN   \n",
       "7  Discharge summary      Report   NaN      NaN   \n",
       "\n",
       "                                                TEXT  num_words  \n",
       "0  Admission Date:  [**2151-7-16**]       Dischar...        110  \n",
       "1  Admission Date:  [**2118-6-2**]       Discharg...       1943  \n",
       "4  Admission Date:  [**2162-3-3**]              D...       2099  \n",
       "5  Admission Date:  [**2172-3-5**]              D...       1165  \n",
       "7  Admission Date:  [**2150-2-25**]              ...       1524  "
      ]
     },
     "execution_count": 9,
     "metadata": {},
     "output_type": "execute_result"
    }
   ],
   "source": [
    "train_df_notes.head()"
   ]
  },
  {
   "cell_type": "code",
   "execution_count": 16,
   "id": "457bd510",
   "metadata": {},
   "outputs": [
    {
     "data": {
      "text/plain": [
       "'Admission Date:  [**2151-7-16**]       Discharge Date:  [**2151-8-4**]\\n\\n\\nService:\\nADDENDUM:\\n\\nRADIOLOGIC STUDIES:  Radiologic studies also included a chest\\nCT, which confirmed cavitary lesions in the left lung apex\\nconsistent with infectious process/tuberculosis.  This also\\nmoderate-sized left pleural effusion.\\n\\nHEAD CT:  Head CT showed no intracranial hemorrhage or mass\\neffect, but old infarction consistent with past medical\\nhistory.\\n\\nABDOMINAL CT:  Abdominal CT showed lesions of\\nT10 and sacrum most likely secondary to osteoporosis. These can\\nbe followed by repeat imaging as an outpatient.\\n\\n\\n\\n                            [**First Name8 (NamePattern2) **] [**First Name4 (NamePattern1) 1775**] [**Last Name (NamePattern1) **], M.D.  [**MD Number(1) 1776**]\\n\\nDictated By:[**Hospital 1807**]\\nMEDQUIST36\\n\\nD:  [**2151-8-5**]  12:11\\nT:  [**2151-8-5**]  12:21\\nJOB#:  [**Job Number 1808**]\\n'"
      ]
     },
     "execution_count": 16,
     "metadata": {},
     "output_type": "execute_result"
    }
   ],
   "source": [
    "train_df_notes.iloc[0]['TEXT']"
   ]
  },
  {
   "cell_type": "code",
   "execution_count": 10,
   "id": "ef3b43d4",
   "metadata": {},
   "outputs": [
    {
     "data": {
      "text/html": [
       "<div>\n",
       "<style scoped>\n",
       "    .dataframe tbody tr th:only-of-type {\n",
       "        vertical-align: middle;\n",
       "    }\n",
       "\n",
       "    .dataframe tbody tr th {\n",
       "        vertical-align: top;\n",
       "    }\n",
       "\n",
       "    .dataframe thead th {\n",
       "        text-align: right;\n",
       "    }\n",
       "</style>\n",
       "<table border=\"1\" class=\"dataframe\">\n",
       "  <thead>\n",
       "    <tr style=\"text-align: right;\">\n",
       "      <th></th>\n",
       "      <th>ROW_ID</th>\n",
       "      <th>num_words</th>\n",
       "    </tr>\n",
       "    <tr>\n",
       "      <th>CATEGORY</th>\n",
       "      <th></th>\n",
       "      <th></th>\n",
       "    </tr>\n",
       "  </thead>\n",
       "  <tbody>\n",
       "    <tr>\n",
       "      <th>Case Management</th>\n",
       "      <td>655</td>\n",
       "      <td>162.305344</td>\n",
       "    </tr>\n",
       "    <tr>\n",
       "      <th>Consult</th>\n",
       "      <td>64</td>\n",
       "      <td>844.390625</td>\n",
       "    </tr>\n",
       "    <tr>\n",
       "      <th>Discharge summary</th>\n",
       "      <td>38324</td>\n",
       "      <td>1438.024110</td>\n",
       "    </tr>\n",
       "    <tr>\n",
       "      <th>ECG</th>\n",
       "      <td>88670</td>\n",
       "      <td>29.481223</td>\n",
       "    </tr>\n",
       "    <tr>\n",
       "      <th>Echo</th>\n",
       "      <td>21541</td>\n",
       "      <td>319.098974</td>\n",
       "    </tr>\n",
       "    <tr>\n",
       "      <th>General</th>\n",
       "      <td>5344</td>\n",
       "      <td>213.254865</td>\n",
       "    </tr>\n",
       "    <tr>\n",
       "      <th>Nursing</th>\n",
       "      <td>141452</td>\n",
       "      <td>262.019971</td>\n",
       "    </tr>\n",
       "    <tr>\n",
       "      <th>Nursing/other</th>\n",
       "      <td>515874</td>\n",
       "      <td>131.215973</td>\n",
       "    </tr>\n",
       "    <tr>\n",
       "      <th>Nutrition</th>\n",
       "      <td>5898</td>\n",
       "      <td>318.542896</td>\n",
       "    </tr>\n",
       "    <tr>\n",
       "      <th>Pharmacy</th>\n",
       "      <td>69</td>\n",
       "      <td>300.304348</td>\n",
       "    </tr>\n",
       "    <tr>\n",
       "      <th>Physician</th>\n",
       "      <td>89750</td>\n",
       "      <td>856.976524</td>\n",
       "    </tr>\n",
       "    <tr>\n",
       "      <th>Radiology</th>\n",
       "      <td>237373</td>\n",
       "      <td>197.263328</td>\n",
       "    </tr>\n",
       "    <tr>\n",
       "      <th>Rehab Services</th>\n",
       "      <td>3360</td>\n",
       "      <td>428.148214</td>\n",
       "    </tr>\n",
       "    <tr>\n",
       "      <th>Respiratory</th>\n",
       "      <td>20102</td>\n",
       "      <td>153.642473</td>\n",
       "    </tr>\n",
       "    <tr>\n",
       "      <th>Social Work</th>\n",
       "      <td>1741</td>\n",
       "      <td>341.847214</td>\n",
       "    </tr>\n",
       "  </tbody>\n",
       "</table>\n",
       "</div>"
      ],
      "text/plain": [
       "                   ROW_ID    num_words\n",
       "CATEGORY                              \n",
       "Case Management       655   162.305344\n",
       "Consult                64   844.390625\n",
       "Discharge summary   38324  1438.024110\n",
       "ECG                 88670    29.481223\n",
       "Echo                21541   319.098974\n",
       "General              5344   213.254865\n",
       "Nursing            141452   262.019971\n",
       "Nursing/other      515874   131.215973\n",
       "Nutrition            5898   318.542896\n",
       "Pharmacy               69   300.304348\n",
       "Physician           89750   856.976524\n",
       "Radiology          237373   197.263328\n",
       "Rehab Services       3360   428.148214\n",
       "Respiratory         20102   153.642473\n",
       "Social Work          1741   341.847214"
      ]
     },
     "execution_count": 10,
     "metadata": {},
     "output_type": "execute_result"
    }
   ],
   "source": [
    "# group and get mean\n",
    "train_df_notes.groupby([\"CATEGORY\"]).agg({\"ROW_ID\":\"size\", \"num_words\":\"mean\"})"
   ]
  },
  {
   "cell_type": "code",
   "execution_count": null,
   "id": "38985c26",
   "metadata": {},
   "outputs": [],
   "source": []
  },
  {
   "cell_type": "code",
   "execution_count": null,
   "id": "a437706a",
   "metadata": {},
   "outputs": [],
   "source": []
  },
  {
   "cell_type": "code",
   "execution_count": 8,
   "id": "1499bc3c",
   "metadata": {},
   "outputs": [],
   "source": [
    "#Choose interested categories, for more information, please refer to \n",
    "category_list = ['Discharge summary', 'Echo', 'Nursing', 'Physician ',\n",
    "       'Rehab Services', 'Respiratory ', 'Nutrition',\n",
    "       'General', 'Pharmacy', 'Consult', 'Radiology', 'ECG',\n",
    "       'Nursing/other']"
   ]
  },
  {
   "attachments": {},
   "cell_type": "markdown",
   "id": "a8bb6a0e",
   "metadata": {},
   "source": [
    "Why do we remove ECG?"
   ]
  },
  {
   "cell_type": "code",
   "execution_count": 12,
   "id": "3edc2949",
   "metadata": {},
   "outputs": [
    {
     "data": {
      "text/plain": [
       "'Sinus rhythm with A-V conduction delay. Infero-posterolateral myocardial\\ninfarction with ST-T wave configuration consistent with acute process.\\nSince the previous tracing of [**2146-10-22**] the findings as outlined are now\\npresent.\\nTRACING #1\\n\\n'"
      ]
     },
     "execution_count": 12,
     "metadata": {},
     "output_type": "execute_result"
    }
   ],
   "source": [
    "train_df_notes[train_df_notes['CATEGORY']==\"ECG\"].iloc[2]['TEXT']"
   ]
  },
  {
   "cell_type": "code",
   "execution_count": 9,
   "id": "8063f6f9",
   "metadata": {},
   "outputs": [],
   "source": [
    "subset_train_df_notes = train_df_notes[train_df_notes.CATEGORY.isin(category_list)]\n",
    "subset_test_df_notes = test_df_notes[test_df_notes.CATEGORY.isin(category_list)]"
   ]
  },
  {
   "cell_type": "code",
   "execution_count": 11,
   "id": "3caa4cdf",
   "metadata": {},
   "outputs": [
    {
     "data": {
      "text/plain": [
       "(1167821, 12)"
      ]
     },
     "execution_count": 11,
     "metadata": {},
     "output_type": "execute_result"
    }
   ],
   "source": [
    "subset_train_df_notes.shape"
   ]
  },
  {
   "cell_type": "code",
   "execution_count": 12,
   "id": "aeb8d6d9",
   "metadata": {},
   "outputs": [
    {
     "data": {
      "text/plain": [
       "(911722, 12)"
      ]
     },
     "execution_count": 12,
     "metadata": {},
     "output_type": "execute_result"
    }
   ],
   "source": [
    "subset_test_df_notes.shape"
   ]
  },
  {
   "cell_type": "code",
   "execution_count": 15,
   "id": "af155958",
   "metadata": {},
   "outputs": [
    {
     "data": {
      "text/plain": [
       "(791341, 12)"
      ]
     },
     "execution_count": 15,
     "metadata": {},
     "output_type": "execute_result"
    }
   ],
   "source": [
    "subset_test_df_notes.shape"
   ]
  },
  {
   "cell_type": "code",
   "execution_count": 10,
   "id": "ea503687",
   "metadata": {},
   "outputs": [],
   "source": [
    "def contains_multiple_spaces(s):\n",
    "    return bool(re.search(r\" {2,}\", s))"
   ]
  },
  {
   "cell_type": "code",
   "execution_count": 11,
   "id": "d9049715",
   "metadata": {},
   "outputs": [],
   "source": [
    "def find_all_multi_space_records(df):\n",
    "    n_with_multi_spaces = 0\n",
    "    idxs = []\n",
    "    for idx, data in tqdm(df.iterrows()):\n",
    "        if contains_multiple_spaces(data['TEXT']):\n",
    "            n_with_multi_spaces += 1\n",
    "            idxs.append(idx)\n",
    "    n_with_multi_spaces\n",
    "    \n",
    "    return idxs, n_with_multi_spaces\n",
    "    "
   ]
  },
  {
   "cell_type": "code",
   "execution_count": 16,
   "id": "3d1a0fef",
   "metadata": {},
   "outputs": [
    {
     "name": "stderr",
     "output_type": "stream",
     "text": [
      "1167821it [00:57, 20375.38it/s]\n"
     ]
    },
    {
     "data": {
      "text/plain": [
       "811023"
      ]
     },
     "execution_count": 16,
     "metadata": {},
     "output_type": "execute_result"
    }
   ],
   "source": [
    "idxs, n_with_multi_spaces = find_all_multi_space_records(subset_train_df_notes)\n"
   ]
  },
  {
   "cell_type": "code",
   "execution_count": 18,
   "id": "26661092",
   "metadata": {},
   "outputs": [
    {
     "data": {
      "text/plain": [
       "[0, 1, 4, 5, 7, 8, 9, 12, 13, 14]"
      ]
     },
     "execution_count": 18,
     "metadata": {},
     "output_type": "execute_result"
    }
   ],
   "source": [
    "idxs[:10]"
   ]
  },
  {
   "cell_type": "code",
   "execution_count": 19,
   "id": "364368ca",
   "metadata": {},
   "outputs": [
    {
     "data": {
      "text/plain": [
       "0     Admission Date:  [**2151-7-16**]       Dischar...\n",
       "1     Admission Date:  [**2118-6-2**]       Discharg...\n",
       "7     Admission Date:  [**2150-2-25**]              ...\n",
       "8     Admission Date:  [**2118-8-10**]              ...\n",
       "12    Admission Date:  [**2143-4-25**]     Discharge...\n",
       "13    Admission Date:  [**2143-4-25**]     Discharge...\n",
       "14    Admission Date:  [**2199-2-8**]     Discharge ...\n",
       "19    Admission Date:  [**2130-2-3**]              D...\n",
       "20    Admission Date:  [**2131-6-28**]              ...\n",
       "21    Admission Date:  [**2131-7-5**]              D...\n",
       "Name: TEXT, dtype: object"
      ]
     },
     "execution_count": 19,
     "metadata": {},
     "output_type": "execute_result"
    }
   ],
   "source": [
    "# look at those wuith multiple spaces\n",
    "subset_train_df_notes.iloc[idxs[:10]]['TEXT']"
   ]
  },
  {
   "cell_type": "code",
   "execution_count": 12,
   "id": "5e7e012b",
   "metadata": {},
   "outputs": [
    {
     "name": "stderr",
     "output_type": "stream",
     "text": [
      "/tmp/ipykernel_13348/108947131.py:22: SettingWithCopyWarning: \n",
      "A value is trying to be set on a copy of a slice from a DataFrame.\n",
      "Try using .loc[row_indexer,col_indexer] = value instead\n",
      "\n",
      "See the caveats in the documentation: https://pandas.pydata.org/pandas-docs/stable/user_guide/indexing.html#returning-a-view-versus-a-copy\n",
      "  df_notes['TEXT']=df_notes['TEXT'].fillna(' ')\n",
      "/tmp/ipykernel_13348/108947131.py:23: SettingWithCopyWarning: \n",
      "A value is trying to be set on a copy of a slice from a DataFrame.\n",
      "Try using .loc[row_indexer,col_indexer] = value instead\n",
      "\n",
      "See the caveats in the documentation: https://pandas.pydata.org/pandas-docs/stable/user_guide/indexing.html#returning-a-view-versus-a-copy\n",
      "  df_notes['TEXT']=df_notes['TEXT'].str.replace('\\n',' ')\n",
      "/tmp/ipykernel_13348/108947131.py:24: SettingWithCopyWarning: \n",
      "A value is trying to be set on a copy of a slice from a DataFrame.\n",
      "Try using .loc[row_indexer,col_indexer] = value instead\n",
      "\n",
      "See the caveats in the documentation: https://pandas.pydata.org/pandas-docs/stable/user_guide/indexing.html#returning-a-view-versus-a-copy\n",
      "  df_notes['TEXT']=df_notes['TEXT'].str.replace('\\r',' ')\n",
      "/tmp/ipykernel_13348/108947131.py:25: SettingWithCopyWarning: \n",
      "A value is trying to be set on a copy of a slice from a DataFrame.\n",
      "Try using .loc[row_indexer,col_indexer] = value instead\n",
      "\n",
      "See the caveats in the documentation: https://pandas.pydata.org/pandas-docs/stable/user_guide/indexing.html#returning-a-view-versus-a-copy\n",
      "  df_notes['TEXT']=df_notes['TEXT'].apply(str.strip)\n",
      "/tmp/ipykernel_13348/108947131.py:27: SettingWithCopyWarning: \n",
      "A value is trying to be set on a copy of a slice from a DataFrame.\n",
      "Try using .loc[row_indexer,col_indexer] = value instead\n",
      "\n",
      "See the caveats in the documentation: https://pandas.pydata.org/pandas-docs/stable/user_guide/indexing.html#returning-a-view-versus-a-copy\n",
      "  df_notes['TEXT']=df_notes['TEXT'].str.lower()\n",
      "/tmp/ipykernel_13348/108947131.py:29: SettingWithCopyWarning: \n",
      "A value is trying to be set on a copy of a slice from a DataFrame.\n",
      "Try using .loc[row_indexer,col_indexer] = value instead\n",
      "\n",
      "See the caveats in the documentation: https://pandas.pydata.org/pandas-docs/stable/user_guide/indexing.html#returning-a-view-versus-a-copy\n",
      "  df_notes['TEXT']=df_notes['TEXT'].apply(lambda x: preprocess1(x))\n",
      "/tmp/ipykernel_13348/108947131.py:30: SettingWithCopyWarning: \n",
      "A value is trying to be set on a copy of a slice from a DataFrame.\n",
      "Try using .loc[row_indexer,col_indexer] = value instead\n",
      "\n",
      "See the caveats in the documentation: https://pandas.pydata.org/pandas-docs/stable/user_guide/indexing.html#returning-a-view-versus-a-copy\n",
      "  df_notes['TEXT']= df_notes['TEXT'].str.replace('\"','')\n",
      "/tmp/ipykernel_13348/108947131.py:22: SettingWithCopyWarning: \n",
      "A value is trying to be set on a copy of a slice from a DataFrame.\n",
      "Try using .loc[row_indexer,col_indexer] = value instead\n",
      "\n",
      "See the caveats in the documentation: https://pandas.pydata.org/pandas-docs/stable/user_guide/indexing.html#returning-a-view-versus-a-copy\n",
      "  df_notes['TEXT']=df_notes['TEXT'].fillna(' ')\n",
      "/tmp/ipykernel_13348/108947131.py:23: SettingWithCopyWarning: \n",
      "A value is trying to be set on a copy of a slice from a DataFrame.\n",
      "Try using .loc[row_indexer,col_indexer] = value instead\n",
      "\n",
      "See the caveats in the documentation: https://pandas.pydata.org/pandas-docs/stable/user_guide/indexing.html#returning-a-view-versus-a-copy\n",
      "  df_notes['TEXT']=df_notes['TEXT'].str.replace('\\n',' ')\n",
      "/tmp/ipykernel_13348/108947131.py:24: SettingWithCopyWarning: \n",
      "A value is trying to be set on a copy of a slice from a DataFrame.\n",
      "Try using .loc[row_indexer,col_indexer] = value instead\n",
      "\n",
      "See the caveats in the documentation: https://pandas.pydata.org/pandas-docs/stable/user_guide/indexing.html#returning-a-view-versus-a-copy\n",
      "  df_notes['TEXT']=df_notes['TEXT'].str.replace('\\r',' ')\n",
      "/tmp/ipykernel_13348/108947131.py:25: SettingWithCopyWarning: \n",
      "A value is trying to be set on a copy of a slice from a DataFrame.\n",
      "Try using .loc[row_indexer,col_indexer] = value instead\n",
      "\n",
      "See the caveats in the documentation: https://pandas.pydata.org/pandas-docs/stable/user_guide/indexing.html#returning-a-view-versus-a-copy\n",
      "  df_notes['TEXT']=df_notes['TEXT'].apply(str.strip)\n",
      "/tmp/ipykernel_13348/108947131.py:27: SettingWithCopyWarning: \n",
      "A value is trying to be set on a copy of a slice from a DataFrame.\n",
      "Try using .loc[row_indexer,col_indexer] = value instead\n",
      "\n",
      "See the caveats in the documentation: https://pandas.pydata.org/pandas-docs/stable/user_guide/indexing.html#returning-a-view-versus-a-copy\n",
      "  df_notes['TEXT']=df_notes['TEXT'].str.lower()\n",
      "/tmp/ipykernel_13348/108947131.py:29: SettingWithCopyWarning: \n",
      "A value is trying to be set on a copy of a slice from a DataFrame.\n",
      "Try using .loc[row_indexer,col_indexer] = value instead\n",
      "\n",
      "See the caveats in the documentation: https://pandas.pydata.org/pandas-docs/stable/user_guide/indexing.html#returning-a-view-versus-a-copy\n",
      "  df_notes['TEXT']=df_notes['TEXT'].apply(lambda x: preprocess1(x))\n",
      "/tmp/ipykernel_13348/108947131.py:30: SettingWithCopyWarning: \n",
      "A value is trying to be set on a copy of a slice from a DataFrame.\n",
      "Try using .loc[row_indexer,col_indexer] = value instead\n",
      "\n",
      "See the caveats in the documentation: https://pandas.pydata.org/pandas-docs/stable/user_guide/indexing.html#returning-a-view-versus-a-copy\n",
      "  df_notes['TEXT']= df_notes['TEXT'].str.replace('\"','')\n"
     ]
    }
   ],
   "source": [
    "def preprocess1(x):\n",
    "    y=re.sub('\\\\[(.*?)\\\\]','',x) \n",
    "    y=re.sub('[0-9]+\\. ','',y) \n",
    "    y=re.sub('dr\\.','doctor',y)\n",
    "    y=re.sub('m\\.d\\.','md',y)\n",
    "    y=re.sub('admission date:','',y)\n",
    "    y=re.sub('discharge date:','',y)\n",
    "    y=re.sub('birth date:','',y)\n",
    "    y=re.sub('date of birth:','',y)\n",
    "    y=re.sub('chief complaint:','',y)\n",
    "    y=re.sub('service:','',y)\n",
    "    y = re.sub('\"','', y)\n",
    "    y=re.sub('--|__|==','',y)\n",
    "    #more substituion can be made to align with general knowledge such as \"p.o.\" to \"by mouth\"\n",
    "    \n",
    "    # remove, spaces\n",
    "    y = y.translate(str.maketrans(\"\", \"\"))\n",
    "    y = \" \".join(y.split())\n",
    "    return y\n",
    "\n",
    "def preprocessing(df_notes): \n",
    "    df_notes['TEXT']=df_notes['TEXT'].fillna(' ')\n",
    "    df_notes['TEXT']=df_notes['TEXT'].str.replace('\\n',' ')\n",
    "    df_notes['TEXT']=df_notes['TEXT'].str.replace('\\r',' ')\n",
    "    df_notes['TEXT']=df_notes['TEXT'].apply(str.strip)\n",
    "    #We use uncased text which is also used in PubMedBERT\n",
    "    df_notes['TEXT']=df_notes['TEXT'].str.lower()\n",
    "\n",
    "    df_notes['TEXT']=df_notes['TEXT'].apply(lambda x: preprocess1(x))\n",
    "    df_notes['TEXT']= df_notes['TEXT'].str.replace('\"','')\n",
    "    \n",
    "    # remove any nas\n",
    "    df_notes = df_notes.dropna(subset=['TEXT'])\n",
    "\n",
    "    return df_notes\n",
    "\n",
    "train_df_notes_processed = preprocessing(subset_train_df_notes)\n",
    "test_df_notes_processed = preprocessing(subset_test_df_notes)"
   ]
  },
  {
   "attachments": {},
   "cell_type": "markdown",
   "id": "0916188e",
   "metadata": {},
   "source": [
    "### check how well whitespaces were removed"
   ]
  },
  {
   "cell_type": "code",
   "execution_count": 22,
   "id": "75b563a5",
   "metadata": {},
   "outputs": [
    {
     "name": "stderr",
     "output_type": "stream",
     "text": [
      "1167821it [01:20, 14437.00it/s]\n"
     ]
    }
   ],
   "source": [
    "idxs, n_with_multi_spaces = find_all_multi_space_records(train_df_notes_processed)"
   ]
  },
  {
   "cell_type": "code",
   "execution_count": 24,
   "id": "0d08b7ee",
   "metadata": {},
   "outputs": [
    {
     "data": {
      "text/plain": [
       "0"
      ]
     },
     "execution_count": 24,
     "metadata": {},
     "output_type": "execute_result"
    }
   ],
   "source": [
    "n_with_multi_spaces"
   ]
  },
  {
   "attachments": {},
   "cell_type": "markdown",
   "id": "8cc88ffe",
   "metadata": {},
   "source": [
    "We want to save the IDs that have been used to split the data"
   ]
  },
  {
   "cell_type": "code",
   "execution_count": 13,
   "id": "97a31cc8",
   "metadata": {},
   "outputs": [],
   "source": [
    "# if outputdir doesn't exist - make it\n",
    "grouped_save_dir = f\"{save_dir}/HADM_ID_split/\"\n",
    "if not os.path.exists(grouped_save_dir):\n",
    "    os.makedirs(grouped_save_dir)"
   ]
  },
  {
   "cell_type": "code",
   "execution_count": 14,
   "id": "71c062fe",
   "metadata": {},
   "outputs": [],
   "source": [
    "unique_ids_df = pd.DataFrame({\"HADM_ID\":train_df_notes.HADM_ID.unique()})\n"
   ]
  },
  {
   "cell_type": "code",
   "execution_count": 15,
   "id": "1cc35a9c",
   "metadata": {},
   "outputs": [],
   "source": [
    "# write to file\n",
    "unique_ids_df.to_csv(f\"{grouped_save_dir}/TRAIN_HADM_IDs.csv\", index=None)"
   ]
  },
  {
   "attachments": {},
   "cell_type": "markdown",
   "id": "7fe4f5c9",
   "metadata": {},
   "source": [
    "Now save the pre-processed train and test notes. \n",
    "\n",
    "The point here is we now have a large subset for both training/testing the LM training and a separate test set to use for both testing downstream tasks"
   ]
  },
  {
   "cell_type": "code",
   "execution_count": 22,
   "id": "e07f6edb",
   "metadata": {},
   "outputs": [
    {
     "data": {
      "text/plain": [
       "'/mnt/sdg/niallt/mimic_iii/processed//HADM_ID_split/'"
      ]
     },
     "execution_count": 22,
     "metadata": {},
     "output_type": "execute_result"
    }
   ],
   "source": [
    "grouped_save_dir"
   ]
  },
  {
   "cell_type": "code",
   "execution_count": 16,
   "id": "9b19f03e",
   "metadata": {},
   "outputs": [],
   "source": [
    "# to reuse the processed data in other tasks and save time\n",
    "train_df_notes_processed.to_csv(f\"{grouped_save_dir}/train_df_notes_interim_preprocessed.csv\", index = None)\n",
    "test_df_notes_processed.to_csv(f\"{grouped_save_dir}/test_df_notes_interim_preprocessed.csv\", index = None)"
   ]
  },
  {
   "cell_type": "code",
   "execution_count": null,
   "id": "7c4db556",
   "metadata": {},
   "outputs": [
    {
     "name": "stderr",
     "output_type": "stream",
     "text": [
      "/tmp/ipykernel_2794/1902958276.py:2: DtypeWarning: Columns (5) have mixed types. Specify dtype option on import or set low_memory=False.\n",
      "  df_notes_processed = pd.read_csv(f\"{grouped_save_dir}/train_df_notes_interim_preprocessed.csv\")\n"
     ]
    }
   ],
   "source": [
    "# reload that \n",
    "# train_df_notes_processed = pd.read_csv(f\"{grouped_save_dir}/train_df_notes_interim_preprocessed.csv\")"
   ]
  },
  {
   "cell_type": "code",
   "execution_count": 32,
   "id": "4d42416b",
   "metadata": {},
   "outputs": [
    {
     "data": {
      "text/plain": [
       "Nursing/other        515874\n",
       "Radiology            237373\n",
       "Nursing              141452\n",
       "Physician             89750\n",
       "Discharge summary     38324\n",
       "Echo                  21541\n",
       "Respiratory           20102\n",
       "Nutrition              5898\n",
       "General                5344\n",
       "Rehab Services         3360\n",
       "Pharmacy                 69\n",
       "Consult                  64\n",
       "Name: CATEGORY, dtype: int64"
      ]
     },
     "execution_count": 32,
     "metadata": {},
     "output_type": "execute_result"
    }
   ],
   "source": [
    "train_df_notes_processed.CATEGORY.value_counts()"
   ]
  },
  {
   "cell_type": "code",
   "execution_count": 36,
   "id": "5ad36690",
   "metadata": {},
   "outputs": [],
   "source": [
    "train_df_notes_processed.sample(250_000).to_csv(f\"{grouped_save_dir}/train_df_notes_interim_preprocessed_250000.csv\", index = None)"
   ]
  },
  {
   "cell_type": "code",
   "execution_count": 25,
   "id": "701865a0",
   "metadata": {},
   "outputs": [
    {
     "data": {
      "text/plain": [
       "(1079151, 12)"
      ]
     },
     "execution_count": 25,
     "metadata": {},
     "output_type": "execute_result"
    }
   ],
   "source": [
    "train_df_notes_processed.shape"
   ]
  },
  {
   "cell_type": "code",
   "execution_count": 38,
   "id": "50f017e3",
   "metadata": {},
   "outputs": [],
   "source": [
    "test_df_notes_processed.sample(10_000).to_csv(f\"{grouped_save_dir}/test_df_notes_interim_preprocessed_10000.csv\", index = None)"
   ]
  },
  {
   "cell_type": "code",
   "execution_count": 12,
   "id": "fd2e64aa",
   "metadata": {},
   "outputs": [
    {
     "data": {
      "text/plain": [
       "['Discharge summary',\n",
       " 'Echo',\n",
       " 'Nursing',\n",
       " 'Physician ',\n",
       " 'Rehab Services',\n",
       " 'Respiratory ',\n",
       " 'Nutrition',\n",
       " 'General',\n",
       " 'Pharmacy',\n",
       " 'Consult',\n",
       " 'Radiology',\n",
       " 'Nursing/other']"
      ]
     },
     "execution_count": 12,
     "metadata": {},
     "output_type": "execute_result"
    }
   ],
   "source": [
    "category_list"
   ]
  },
  {
   "cell_type": "code",
   "execution_count": 18,
   "id": "dc6d8586",
   "metadata": {},
   "outputs": [
    {
     "data": {
      "text/plain": [
       "308752     clinician: nurse pt w/ prostate ca, end-stage ...\n",
       "309201     title: physical therapy / rehab services depar...\n",
       "309391     clinician: attending i supervised the resident...\n",
       "309404     clinician: attending patient has had poor urin...\n",
       "309665     clinician: attending patient with worsening hy...\n",
       "                                 ...                        \n",
       "2059634    - hct stable - gi recs: intubate for scope. ma...\n",
       "2059638    title: critical care present for the key porti...\n",
       "2059640    title: intensivist note cvicu hpi: hd11 pod 9-...\n",
       "2059642    7 bjbjqpqp 8::! (::: d4!!!!!!$ #h& e z{{{ !tp0...\n",
       "2059643    title: addendum respiratory care 7a-7p psv ini...\n",
       "Name: TEXT, Length: 5344, dtype: object"
      ]
     },
     "execution_count": 18,
     "metadata": {},
     "output_type": "execute_result"
    }
   ],
   "source": [
    "train_df_notes_processed[train_df_notes_processed['CATEGORY']==\"General\"]['TEXT']"
   ]
  },
  {
   "cell_type": "code",
   "execution_count": null,
   "id": "733b9603",
   "metadata": {},
   "outputs": [],
   "source": []
  },
  {
   "attachments": {},
   "cell_type": "markdown",
   "id": "c4d7d47c",
   "metadata": {},
   "source": [
    "### Save just the text to files\n",
    "\n",
    "- First we save a document per line\n",
    "\n",
    "- Then we sample a sentence per line"
   ]
  },
  {
   "cell_type": "code",
   "execution_count": 11,
   "id": "7fc5640a",
   "metadata": {},
   "outputs": [
    {
     "data": {
      "text/plain": [
       "\"sex: m service: medicine allergies: patient recorded as having no known allergies to drugs attending: mr. was seen at after a mechanical fall from a height of 10 feet. ct scan noted unstable fracture of c6-7 & posterior elements. major surgical or invasive procedure: anterior cervical osteotomy, c6-c7, with decompression and excision of ossification of the posterior longitudinal ligament. anterior cervical deformity correction. interbody reconstruction. anterior cervical fusion, c5-c6-cplate instrumentation, c5-c6-ccervical laminectomy c6-c7, tposterior cervical arthrodesis c4-tcervical instrumentation c4-tarthrodesis augmentation with autograft, allograft and demineralized bone matrix. history of present illness: mr. is a 82 year old male who had a slip and fall of approximately 10 feet from a balcony. he was ambulatory at the scene. he presented to the ed here at . ct scan revealed unstable c spine fracture. he was intubated secondary to agitation. patient admitted to trauma surgery service past medical history: coronary artery disease s/p cabg chf htn aicd atrial fibrillation stroke social history: patient recently discharged from for severe depression. family reports patient was very sad and attempted to kill himself by wrapping a telephone cord around his neck. lives with his elderly wife, worked as a chemist in . family history: non contributory physical exam: phycial exam prior to surgery was not obtained since patient was intubated and sedated. post surgical physical exam: (tsicu per surgery team) breathing without assistance nad vitals: t 97.5, hr 61, bp 145/67, rr22, sao2 98 a-fib, rate controlled abd soft non-tender anterior/posterior cervical incisions pt is edemitous in all four extremities, no facial edema able to grossly move all four extremities, neurointact to light touch distal pulses weakly intact medicine consult: vs: tm/c 98.9 142/70 61 20 96%ra i/o bm yesterday 220/770 gen: awake, calm, cooperative and pleasant, lying in bed neck: c-collar removed cv: irregular, normal s1, sno m/r/g. lungs: cta anteriolry abd: obese, soft, ntnd, decreased bs ext: trace b/l le edema, 1+ ue edema neuro/cognition: thought , 8, not to place, pertinent results: admission labs wbc-8.4 rbc-4.43* hgb-11.9* hct-38.6* mcv-87 mch-26.9* mchc-30.9* rdw-17.3* plt ct-191 pt-20.4* ptt-28.1 inr(pt)-1.9* ck(cpk)-183* amylase-70 calcium-8.5 phos-2.0* mg-1.9 glucose-121* lactate-2.3* na-140 k-4.3 cl-101 calhco3-26 radiology ct scan c spine : impression: fracture of the c6 as described involving the right pedicle (extending to the inferior facet) and left lamina. anterior widening at the c6-7 disc space and mild widening of left c6-7 facet also noted. prevertebral hematoma at c6 with likely rupture of the anterior longitudinal ligament. lucency in the right posterior c1 ring may represent a chronic injury. likely old avulsion fracture at t2 pedicle on the left. ossification of both anterior and posterior longitudinal ligaments with compromise of the central spinal canal. degenerative disease is further described above. ct abdomen/pelvis () impression: no acute injuries in the chest, abdomen, or pelvis. three discrete pleural fluid collections in the right hemithorax, likely pseudotumors. small hypodense lesion in the pancreatic body is of unclear etiology, may represent pseudicyst or cystic tumor. further evaluation with mri may be performed on a non- emergent basis. bilateral renal cysts. foley catheter balloon inflated within the prostatic urethra. recommend emergent repositioning. ct sinus/maxillofacial () bilateral nasal bone fractures. left frontal scalp hematoma with preseptal soft tissue swelling. question foreign body anterior to the left globe. recommend clinical correlation. small amount of extraconal hematoma in the superior aspect of the left orbit. linear lucency in the right posterior ring of ccorrelate with ct c- spine performed concurrently. head ct () no acute intracranial hemprrhage. left frontal scalp hematoma. nasal bone fractures. recommend correlation with report from facial bone ct scan. lucency in the right posterior ring of cplease refer to dedeicated ct c-spine for further detail. left cerebellar encephalomalacia, likely due to old infarction. chest the dobbhoff tube passes below the diaphragm with its tip most likely terminating in the stomach. the bilateral pacemakers are demonstrated with one lead terminating in right atrium and three leads terminating in right ventricle. the patient is in mild pulmonary edema with no change in the loculated pleural fluid within the major fissure. ct head a tiny amount of intraventricular hemorrhage layers along the occipital horns of the ventricles bilaterally. recommend followp imaging. left frontal scalp hematoma has decreased in size. unchanged left cerebellar encephalomalacia. nasal bone fractures are better evaluated on dedicated maxillofacial ct. right shoulder x-ray () mild glenohumeral and acromioclavicular joint osteoarthritis. nonspecific ossification projecting over the upper margin of the scapular body and adjacent to the lesser tuberosity. diagnostic considerations include the sequela of chronic calcific bursitis, intraarticular bodies, and/or calcific tendinitis of the subscapularis tendon. increased opacity projecting over the right hemithorax and minor fissure, better delineated on recent chest radiographs and chest ct right upper extremity ultrasound () deep venous thrombosis in the right axillary vein, extending proximally into the right subclavian vein, and distally to involve the brachial veins, portion of the basilic vein, and the right cephalic vein. likely 2.0 cm left axillary lymph node, with unusual son features somewhat suspicious for malignancy. followup ultrasound is recommended in 4 weeks, and fna/biopsy may be considered at that time if no interval improvement. ct abdomen with iv contrast: there are small-to-moderate bilateral pleural effusions, on the right with a loculated appearance. there is associated compressive atelectasis. the visualized portion of the heart suggests mild cardiomegaly. there is no pericardial effusion. there is a 9-mm hypoattenuating, well-defined lesion in the left lobe of the liver (2:12) too small to accurately characterize but statistically most likely representing a cyst. there are bilateral, partially exophytic renal cysts. the spleen is normal in size. there is a 5-mm hypoattenuating focus in the pancreatic body, most likely representing focal fat. the gallbladder and adrenal glands are unremarkable. an ng tube terminates in the stomach. there is no ascites. the large and small bowel loops appear unremarkable without wall thickening or pneumatosis. oral contrast material has passed into the ascending colon without evidence of obstruction. there is no ascites and no free air. there is a small pocket of air in the left rectus muscle, tracking over a distance of approximately 10 cm. ct pelvis with iv contrast: the pelvic small and large bowel loops, collapsed bladder containing foley catheter and seminal vesicles appear unremarkable. the prostate is enlarged, measuring 5.9 cm in transverse diameter. the rectum contains a moderate amount of dried stool. there is no free air or free fluid. bone windows: no suspicious lytic or sclerotic lesions. there is dish of the entire visualized thoracolumbar spine. there also are degenerative changes about the hip joints with large acetabular osteophytes. impression: stable bilateral pleural effusions, loculated on the right. new focus of air tracking within the left rectus muscle with associated tiny amount of extraperitoneal air (2:53). no associated stranding or fluid collection. please correlate clinically if this could be iatrogenic, such as due to s.q. injections. 5-mm hypoattenuating focus in the pancreatic body. this could represent focal fat, although a cystic tumor cannot be excluded. if this is of concern, then mri is again recommended for further evaluation. hypoattenuating focus in the left lobe of the liver, too small to accurately characterize. bilateral partially exophytic renal cysts. moderate amount of dried stool within the rectum. a wet read was placed and the pertinent findings were discussed by doctor with doctor at 11:30 p.m. on . video oropharyngeal swallow findings: real-time video fluoroscopic evaluation was performed after oral administration of thin and puree consistency of barium, in conjunction with the speech pathologist. oral phase: normal bolus formation, bolus control, ap tongue movement, oral transit time, and no oral cavity residue. pharyngeal phase: there is normal swallow initiation and velar elevation. there is mild-to-moderate impairment of laryngeal elevation with absent epiglottic deflection. there is moderate-to-severe increase in pharyngeal transit time. there is residue in the valleculae and piriform sinuses with moderate impairment of bolus propulsion. there was aspiration of both thin and puree barium. impression: aspiration of thin liquids and puree. for additional information, please see the speech and swallow therapist's report from the same day. ct head w/out: findings: there is a small amount of blood layering in the occipital horns of both lateral ventricles, unchanged though not as dense given evolution. no new hemorrhage is identified. the ventricles, cisterns, and sulci are enlarged secondary to involutional change. periventricular white matter hyperdensities are sequelae of chronic small vessel ischemia. encephalomalacia in the left cerebellar hemisphere secondary to old infarction is unchanged. the osseous structures are unremarkable. the visualized paranasal sinuses and mastoid air cells are clear. skin staples are noted along the superior- posterior neck secondary to recent spinal surgery. impression: no interval change with a very small intraventricular hemorrhage. no discharge labs as patient cmo. brief hospital course: mr. was seen at after his fall from a height of approximatly 10 feet. ct scans of his chest, abdomen and pelvis were negative for pathology. ct scan of his c-spine showed fracture of anterior and posterior elements at c6- he was also shown to have a right nasal bone fracture. c-spine fracture: mr. two surgical procedures to stabilized his c-spine. : anterior cervical decompression/fusion at c6- : cervical laminectomy c6-c7 & t1 with posterior cervical arthrodesis c4-t he tolerated the procedures well. he was extubated without complication. after his surgical procedures, mr. was transfered to the medicine service at for his medical care. while on the medicine service, patient was found to be persistently aspirating and failed his speech and swallow evaluation. patient and family were not interested in an ng tube or peg for nutrition. patient also developed a venous clot of the right upper extremity and the decision was made to not proceed with medical treatment. goals of care were changed to comfort measures only. a foley was placed after patient had difficulty with urinary retention and straight cathing. a palliative care consult was obtained for symptom management and patient was discharged to hospice with morphine, olanzapine, and a foley in place for symptomatic relief. medications on admission: coumadin seroquel docusate metoprolol folate lovastatin captopril asa ipratroium inhaler ferrous sulfate furosemide citalopram isosorbide meprazole discharge medications: bisacodyl 10 mg suppository sig: suppositorys rectal daily (daily) as needed for constipation. ipratropium bromide 0.02 % solution sig: one (1) nebulizer inhalation q6h (every 6 hours) as needed for wheezing. albuterol sulfate 2.5 mg/3 ml solution for nebulization sig: one (1) solution inhalation q6h (every 6 hours) as needed for wheezing. morphine concentrate 20 mg/ml solution sig: 5-10 mg po q4h (every 4 hours) as needed for pain: may shorten interval as needed to control pain. olanzapine 5 mg tablet, rapid dissolve sig: 0.5 tablet, rapid dissolve po qhs (once a day (at bedtime)) as needed for agitation. tamsulosin 0.4 mg capsule, sust. release 24 hr sig: one (1) capsule, sust. release 24 hr po daily (daily): may be discontinued if patient not tolerating pills or refusing to take. discharge disposition: extended care facility: of discharge diagnosis: cervical spondylosis with calcification of posterior longitudinal ligament. fracture dislocation c6-cossification of the posterior longitudinal ligament. aspiration pneumonia cervical spondylosis with calcification of posterior longitudinal ligament. fracture dislocation c6-cossification of the posterior longitudinal ligament. aspiration pneumonia cervical spondylosis with calcification of posterior longitudinal ligament. fracture dislocation c6-cossification of the posterior longitudinal ligament. aspiration pneumonia discharge condition: stable to outside facility discharge instructions: patient has been made cmo at the request of him and his family. he has a foley placed for urinary retention. please use morphine as needed for pain and olanzapine as needed for agitiation. patient has known history of aspiration documented on speech and swallow. it is the patient and the family's wish for him to continue to eat and drink as desired. followup instructions: follow up with your primary care physician as needed.\""
      ]
     },
     "execution_count": 11,
     "metadata": {},
     "output_type": "execute_result"
    }
   ],
   "source": [
    "train_df_notes_processed.loc[4]['TEXT']"
   ]
  },
  {
   "cell_type": "code",
   "execution_count": 13,
   "id": "26a6509d",
   "metadata": {},
   "outputs": [],
   "source": [
    "# save just the text to file for LM training\n",
    "train_df_notes_processed['TEXT'].to_csv(f\"{save_dir}/HADM_ID_split/with_echo_train.txt\", header = None, index = None, sep = \"\\t\", mode = 'a')\n"
   ]
  },
  {
   "cell_type": "code",
   "execution_count": 14,
   "id": "187a34cd",
   "metadata": {},
   "outputs": [],
   "source": [
    "# write just sample\n",
    "n_rows = 250000\n",
    "\n",
    "train_df_notes_processed['TEXT'].sample(n_rows).to_csv(f\"{save_dir}/HADM_ID_split/with_echo_train_{n_rows}.txt\", header = None, index = None, sep = \"\\t\", mode = 'a')"
   ]
  },
  {
   "cell_type": "code",
   "execution_count": 15,
   "id": "5d6bdeaa",
   "metadata": {},
   "outputs": [],
   "source": [
    "test_df_notes_processed['TEXT'].to_csv(f\"{save_dir}/HADM_ID_split/with_echo_test.txt\", header = None, index = None, sep = \"\\t\", mode = 'a')"
   ]
  },
  {
   "cell_type": "code",
   "execution_count": 16,
   "id": "a0004e43",
   "metadata": {},
   "outputs": [],
   "source": [
    "n_rows = 1000\n",
    "test_df_notes_processed['TEXT'].sample(n_rows).to_csv(f\"{save_dir}/HADM_ID_split/with_echo_test_{n_rows}.txt\", header = None, index = None, sep = \"\\t\", mode = 'a')"
   ]
  },
  {
   "cell_type": "code",
   "execution_count": 29,
   "id": "13562e9d",
   "metadata": {},
   "outputs": [],
   "source": [
    "\n",
    "df_text_train = pd.read_csv(\"train.txt\", sep = \"\\t\", header = None)"
   ]
  },
  {
   "cell_type": "code",
   "execution_count": null,
   "id": "a1589343",
   "metadata": {},
   "outputs": [],
   "source": [
    "df"
   ]
  },
  {
   "cell_type": "code",
   "execution_count": 34,
   "id": "7fef21e5",
   "metadata": {},
   "outputs": [
    {
     "data": {
      "text/html": [
       "<div>\n",
       "<style scoped>\n",
       "    .dataframe tbody tr th:only-of-type {\n",
       "        vertical-align: middle;\n",
       "    }\n",
       "\n",
       "    .dataframe tbody tr th {\n",
       "        vertical-align: top;\n",
       "    }\n",
       "\n",
       "    .dataframe thead th {\n",
       "        text-align: right;\n",
       "    }\n",
       "</style>\n",
       "<table border=\"1\" class=\"dataframe\">\n",
       "  <thead>\n",
       "    <tr style=\"text-align: right;\">\n",
       "      <th></th>\n",
       "      <th>0</th>\n",
       "    </tr>\n",
       "  </thead>\n",
       "  <tbody>\n",
       "    <tr>\n",
       "      <th>0</th>\n",
       "      <td>service: addendum: radiologic studies: radiolo...</td>\n",
       "    </tr>\n",
       "    <tr>\n",
       "      <th>1</th>\n",
       "      <td>date of birth: sex: f service: micu and then t...</td>\n",
       "    </tr>\n",
       "    <tr>\n",
       "      <th>2</th>\n",
       "      <td>date of birth: sex: m service: medicine allerg...</td>\n",
       "    </tr>\n",
       "    <tr>\n",
       "      <th>3</th>\n",
       "      <td>date of birth: sex: f service: neurosurgery al...</td>\n",
       "    </tr>\n",
       "    <tr>\n",
       "      <th>4</th>\n",
       "      <td>date of birth: sex: m service: neurosurgery al...</td>\n",
       "    </tr>\n",
       "    <tr>\n",
       "      <th>5</th>\n",
       "      <td>date of birth: sex: f service: neurosurgery al...</td>\n",
       "    </tr>\n",
       "    <tr>\n",
       "      <th>6</th>\n",
       "      <td>date of birth: sex: f service: neurosurgery al...</td>\n",
       "    </tr>\n",
       "    <tr>\n",
       "      <th>7</th>\n",
       "      <td>date of birth: sex: m service: cardiac surgery...</td>\n",
       "    </tr>\n",
       "    <tr>\n",
       "      <th>8</th>\n",
       "      <td>date of birth: sex: m service: cardiac surgery...</td>\n",
       "    </tr>\n",
       "    <tr>\n",
       "      <th>9</th>\n",
       "      <td>date of birth: sex: m service: trauma surgery ...</td>\n",
       "    </tr>\n",
       "    <tr>\n",
       "      <th>10</th>\n",
       "      <td>date of birth: sex: m service: medicine allerg...</td>\n",
       "    </tr>\n",
       "    <tr>\n",
       "      <th>11</th>\n",
       "      <td>service: medicine oncology history of present ...</td>\n",
       "    </tr>\n",
       "    <tr>\n",
       "      <th>12</th>\n",
       "      <td>date of birth: sex: m service: surgery allergi...</td>\n",
       "    </tr>\n",
       "    <tr>\n",
       "      <th>13</th>\n",
       "      <td>date of birth: sex: m service: medicine allerg...</td>\n",
       "    </tr>\n",
       "    <tr>\n",
       "      <th>14</th>\n",
       "      <td>date of birth: sex: m service: surgery allergi...</td>\n",
       "    </tr>\n",
       "  </tbody>\n",
       "</table>\n",
       "</div>"
      ],
      "text/plain": [
       "                                                    0\n",
       "0   service: addendum: radiologic studies: radiolo...\n",
       "1   date of birth: sex: f service: micu and then t...\n",
       "2   date of birth: sex: m service: medicine allerg...\n",
       "3   date of birth: sex: f service: neurosurgery al...\n",
       "4   date of birth: sex: m service: neurosurgery al...\n",
       "5   date of birth: sex: f service: neurosurgery al...\n",
       "6   date of birth: sex: f service: neurosurgery al...\n",
       "7   date of birth: sex: m service: cardiac surgery...\n",
       "8   date of birth: sex: m service: cardiac surgery...\n",
       "9   date of birth: sex: m service: trauma surgery ...\n",
       "10  date of birth: sex: m service: medicine allerg...\n",
       "11  service: medicine oncology history of present ...\n",
       "12  date of birth: sex: m service: surgery allergi...\n",
       "13  date of birth: sex: m service: medicine allerg...\n",
       "14  date of birth: sex: m service: surgery allergi..."
      ]
     },
     "execution_count": 34,
     "metadata": {},
     "output_type": "execute_result"
    }
   ],
   "source": [
    "df_text_train.head(15)"
   ]
  },
  {
   "cell_type": "code",
   "execution_count": 35,
   "id": "4153559e",
   "metadata": {},
   "outputs": [],
   "source": [
    "with open(\"./train_500.txt\") as f:\n",
    "    lines = f.readlines()"
   ]
  },
  {
   "cell_type": "code",
   "execution_count": 34,
   "id": "2833296e",
   "metadata": {},
   "outputs": [],
   "source": [
    "# lines"
   ]
  },
  {
   "attachments": {},
   "cell_type": "markdown",
   "id": "6ed3f94a",
   "metadata": {},
   "source": [
    "### use nltk to create a big old list of sentences as our training data"
   ]
  },
  {
   "cell_type": "code",
   "execution_count": 12,
   "id": "c086119c",
   "metadata": {},
   "outputs": [],
   "source": [
    "# combine all rows of \"text\" column\n",
    "train_text = ' '.join(train_df_notes_processed['TEXT'].tolist())\n",
    "\n"
   ]
  },
  {
   "cell_type": "code",
   "execution_count": null,
   "id": "15d4ca6b",
   "metadata": {},
   "outputs": [],
   "source": []
  },
  {
   "cell_type": "code",
   "execution_count": 19,
   "id": "e60d05ee",
   "metadata": {},
   "outputs": [
    {
     "data": {
      "text/plain": [
       "1784855134"
      ]
     },
     "execution_count": 19,
     "metadata": {},
     "output_type": "execute_result"
    }
   ],
   "source": [
    "len(train_text) # num chars not words"
   ]
  },
  {
   "cell_type": "code",
   "execution_count": 35,
   "id": "a56f1de2",
   "metadata": {},
   "outputs": [
    {
     "name": "stdout",
     "output_type": "stream",
     "text": [
      "30.3 ms ± 102 µs per loop (mean ± std. dev. of 7 runs, 10 loops each)\n"
     ]
    }
   ],
   "source": [
    "%%timeit\n",
    "# split the combined text into sentences - this takes absolutely ages - test on 10k and time \n",
    "# this \n",
    "sentences = nltk.sent_tokenize(train_text[:100000])"
   ]
  },
  {
   "cell_type": "code",
   "execution_count": 37,
   "id": "f15d1aa8",
   "metadata": {},
   "outputs": [],
   "source": [
    "# full loop will take a long time - may be best to use a script and tmux to do this\n",
    "all_train_sentences = nltk.sent_tokenize(train_text)"
   ]
  },
  {
   "cell_type": "code",
   "execution_count": 23,
   "id": "856c886b",
   "metadata": {},
   "outputs": [
    {
     "data": {
      "text/plain": [
       "100"
      ]
     },
     "execution_count": 23,
     "metadata": {},
     "output_type": "execute_result"
    }
   ],
   "source": [
    "len(sentences)"
   ]
  },
  {
   "attachments": {},
   "cell_type": "markdown",
   "id": "7889041e",
   "metadata": {},
   "source": [
    "#### Save to text file"
   ]
  },
  {
   "cell_type": "code",
   "execution_count": null,
   "id": "584773ac",
   "metadata": {},
   "outputs": [],
   "source": [
    "# save to file\n",
    "with open(\"./all_train_sentences.txt\", \"w\") as f:\n",
    "    for s in all_train_sentences:\n",
    "        f.write(s + \"\\n\")\n",
    "\n"
   ]
  },
  {
   "attachments": {},
   "cell_type": "markdown",
   "id": "db7da6ad",
   "metadata": {},
   "source": [
    "### spacy - we also add a clause that combines too short sentences"
   ]
  },
  {
   "cell_type": "code",
   "execution_count": 17,
   "id": "de7e660f",
   "metadata": {},
   "outputs": [
    {
     "data": {
      "text/plain": [
       "<spacy.pipeline.sentencizer.Sentencizer at 0x7f67076fbcc0>"
      ]
     },
     "execution_count": 17,
     "metadata": {},
     "output_type": "execute_result"
    }
   ],
   "source": [
    "from spacy.lang.en import English\n",
    "nlp = English()\n",
    "nlp.add_pipe('sentencizer')"
   ]
  },
  {
   "cell_type": "code",
   "execution_count": 18,
   "id": "95a93071",
   "metadata": {},
   "outputs": [],
   "source": [
    "def toSentence(x):\n",
    "    doc = nlp(x)\n",
    "    text=[]\n",
    "    try:\n",
    "        for sent in doc.sents:\n",
    "            st=str(sent).strip() \n",
    "            if len(st)<30:\n",
    "                #Merging too-short sentences to appropriate length, this is inherited from ClinicalBERT with changes in merged length \n",
    "                if len(text)!=0:\n",
    "                    text[-1]=' '.join((text[-1],st))\n",
    "                else:\n",
    "                    text=[st]\n",
    "            else:\n",
    "                text.append((st))\n",
    "    except:\n",
    "        print(doc)\n",
    "    return text\n",
    "\n"
   ]
  },
  {
   "cell_type": "code",
   "execution_count": 19,
   "id": "a766f86c",
   "metadata": {},
   "outputs": [
    {
     "name": "stdout",
     "output_type": "stream",
     "text": [
      "31.2 ms ± 280 µs per loop (mean ± std. dev. of 7 runs, 10 loops each)\n"
     ]
    }
   ],
   "source": [
    "%%timeit\n",
    "training_sentences =train_df_notes_processed['TEXT'][:10].apply(lambda x: toSentence(x))"
   ]
  },
  {
   "cell_type": "code",
   "execution_count": 21,
   "id": "10fe5ca0",
   "metadata": {},
   "outputs": [],
   "source": [
    "training_sentences =train_df_notes_processed['TEXT'][:10].apply(lambda x: toSentence(x))"
   ]
  },
  {
   "cell_type": "code",
   "execution_count": 36,
   "id": "34b403d6",
   "metadata": {},
   "outputs": [],
   "source": [
    "docs = list(nlp.pipe(train_df_notes_processed['TEXT'][:10]))"
   ]
  },
  {
   "cell_type": "code",
   "execution_count": 37,
   "id": "67db7645",
   "metadata": {},
   "outputs": [],
   "source": [
    "sentences = [sent for doc in docs for sent in doc.sents]"
   ]
  },
  {
   "cell_type": "code",
   "execution_count": 42,
   "id": "7f14bd4f",
   "metadata": {},
   "outputs": [
    {
     "name": "stdout",
     "output_type": "stream",
     "text": [
      "addendum: radiologic studies: radiologic studies also included a chest ct, which confirmed cavitary lesions in the left lung apex consistent with infectious process/tuberculosis.\n",
      "this also moderate-sized left pleural effusion.\n",
      "head ct: head ct showed no intracranial hemorrhage or mass effect, but old infarction consistent with past medical history.\n",
      "abdominal ct: abdominal ct showed lesions of t10 and sacrum most likely secondary to osteoporosis.\n",
      "these can be followed by repeat imaging as an outpatient. ,\n",
      "md dictated by: medquist36 d: 12:11 t: 12:21 job#:\n",
      "sex: f micu and then to medicine history of present illness: this is an 81-year-old female with a history of emphysema (not on home o2), who presents with three days of shortness of breath thought by her primary care doctor to be a copd flare.\n",
      "two days prior to admission, she was started on a prednisone taper and one day prior to admission she required oxygen at home in order to maintain oxygen saturation greater than 90%.\n",
      "she has also been on levofloxacin and nebulizers, and was not getting better, and presented to the emergency room.\n",
      "in the emergency room, her oxygen saturation was 100% on cpap.\n",
      "she was not able to be weaned off of this despite nebulizer treatment and solu-medrol 125 mg iv x review of systems is negative for the following: fevers, chills, nausea, vomiting, night sweats, change in weight, gastrointestinal complaints, neurologic changes, rashes, palpitations, orthopnea.\n",
      "is positive for the following: chest pressure occasionally with shortness of breath with exertion, some shortness of breath that is positionally related, but is improved with nebulizer treatment.\n",
      "past medical history: copd.\n",
      "last pulmonary function tests in demonstrated a fvc of 52% of predicted, a fev1 of 54% of predicted, a mmf of 23% of predicted, and a fev1:fvc ratio of 67% of predicted, that does not improve with bronchodilator treatment.\n",
      "the fvc, however, does significantly improve with bronchodilator treatment consistent with her known reversible air flow obstruction in addition to an underlying restrictive ventilatory defect.\n",
      "the patient has never been on home oxygen prior to this recent episode.\n",
      "she has never been on steroid taper or been intubated in the past.\n",
      "lacunar cva.\n",
      "mri of the head in demonstrates mild degree of multiple small foci of high t2 signal within the white matter of both cerebral hemispheres as well as the pons, in the latter region predominantly to the right of midline.\n",
      "the abnormalities, while nonspecific in etiology, are most likely secondary to chronic microvascular infarction.\n",
      "there is no mass, lesion, shift of the normal midline strictures or hydrocephalus.\n",
      "the major vascular flow patterns are preserved.\n",
      "there is moderate right maxillary, moderate bilateral ethmoid, mild left maxillary, minimal right sphenoid, and frontal sinus mucosal thickening.\n",
      "these abnormalities could represent an allergic or some other type of inflammatory process.\n",
      "additionally noted is a moderately enlarged subtotally empty sella turcica.\n",
      "angina: most recent stress test was in going for four minutes with a rate pressure product of 10,000, 64% of maximum predicted heart rate without evidence of ischemic ekg changes or symptoms.\n",
      "the imaging portion of the study demonstrated no evidence of myocardial ischemia and a calculated ejection fraction of 84%.\n",
      "the patient denies angina at rest and gets angina with walking a few blocks.\n",
      "are alleviated by sublingual nitroglycerin.\n",
      "hypothyroidism on synthroid.\n",
      "depression on lexapro.\n",
      "motor vehicle accident with head injury approximately 10 years ago.\n",
      "medications on admission: hydrochlorothiazide 25 q.d.\n",
      "prednisone 60 mg, 50 mg, 40 mg, 20 mg.\n",
      "levofloxacin 500 mg q.d.\n",
      "imdur 60 mg q.d.\n",
      "synthroid 75 mcg q.d.\n",
      "pulmicort nebulizer b.i.d.\n",
      "albuterol nebulizer q.prn.\n",
      "lexapro 10 mg q.d.\n",
      "protonix 40 mg q.d.\n",
      "aspirin 81 mg q.d.\n",
      "allergies: norvasc leads to lightheadedness and headache.\n",
      "family history: noncontributory.\n",
      "social history: lives with her husband, doctor an eminent pediatric neurologist at .\n",
      "the patient is a prior smoker, but has not smoked in over 10 years.\n",
      "she has no known alcohol use and she is a full code.\n",
      "physical exam at time of admission: blood pressure 142/76, heart rate 100 and regular, respirations at 17-21, and 97% axillary temperature.\n",
      "she was saturating at 100% on cpap with dry mucous membranes.\n",
      "an elderly female in no apparent distress.\n",
      "pupils are equal, round, and reactive to light and accommodation.\n",
      "extraocular movements are intact.\n",
      "oropharynx difficult to assess due to cpap machine.\n",
      "no evidence of jugular venous pressure, however, the strap from the cpap machine obscures the neck exam.\n",
      "cranial nerves ii through xii are grossly intact.\n",
      "neck is supple without lymphadenopathy.\n",
      "heart exam: tachycardic, regular, obscured by loud bilateral wheezing with increase in the expiratory phase as well as profuse scattered rhonchi throughout the lung fields.\n",
      "positive bowel sounds, soft, nontender, nondistended, obese, no masses.\n",
      "mild edema of the lower extremities without clubbing or cyanosis, no rashes.\n",
      "there is a right hand hematoma.\n",
      "strength is assessed as in the lower extremities, in the upper extremities with a normal mental status and cognition.\n",
      "laboratory studies: white count 19, hematocrit 41, platelets chem-7: 127, 3.6, 88, 29, 17, 0.6, troponin was negative.\n",
      "cks were negative times three.\n",
      "initial blood gas showed a ph of 7.4, po2 of 66, pco2 of chest x-ray demonstrates a moderate sized hiatal hernia, segmental atelectasis, left lower lobe infiltrate versus segmental atelectasis.\n",
      "ekg shows normal sinus rhythm at 113 beats per minute, normal axis, no evidence of st-t wave changes.\n",
      "brief summary of hospital course: copd/dyspnea/pneumonia: the patient was initially placed on an aggressive steroid taper and admitted to the medical intensive care unit due to her difficulty with oxygenation despite cpap machine.\n",
      "she was also given nebulizer treatments q.4h.\n",
      "as well as chest pt.\n",
      "the nebulizers were increased to q.1h.\n",
      "due to the fact that she continued to have labored breathing.\n",
      "due to persistent respiratory failure and labored breathing, the patient was intubated on in order to improve oxygenation, ventilation, and ability to suction.\n",
      "a bronchoscopy was performed on , which demonstrated marked narrowing of the airways with expiration consistent with tracheomalacia.\n",
      "on , two silicone stents were placed, one in the left main stem (12 x 25 and one in the trachea 16 x 40) by doctor under rigid bronchoscopy with general anesthesia.\n",
      "on , the patient was extubated to a cool mist shovel mask and her oxygen was titrated down to 2 liters nasal cannula at which time she was transferred to the medical floor.\n",
      "on the medical floor, the steroids were weaned to off on , and the patient was saturating at 97% on 2 liters, 92% on room air.\n",
      "on , the patient was seen again by the interventional pulmonology service, who agreed that she looked much improved and recommended that she go to pulmonary rehabilitation with followup within six weeks' time status post placement of stents in respiratory failure.\n",
      "cardiovascular: the patient was ruled out for a mi.\n",
      "she did have another episode on the medical floor of chest pain, which showed no evidence of ekg changes and negative troponin, negative cks x she was continued on aspirin, imdur, and diltiazem for rate control per her outpatient regimen.\n",
      "hypertension: she was maintained on diltiazem and hydrochlorothiazide with adequate blood pressure control and normalization of electrolytes.\n",
      "hematuria: the patient had intermittent hematuria likely secondary to foley placement.\n",
      "the foley catheter was discontinued on .\n",
      "she had serial urinalyses, which were all negative for signs of infection.\n",
      "hyperglycemia: patient was placed on insulin-sliding scale due to hyperglycemia, which was steroid induced.\n",
      "this worked quite well and her glucose came back to normal levels once the steroids were tapered to off.\n",
      "leukocytosis: patient did have a profound leukocytosis of 20 to 22 during much of her hospital course.\n",
      "as the steroids were tapered to off, her white blood cell count on was 15, it was felt that the leukocytosis was secondary to both steroids as well as question of a left lower lobe pneumonia.\n",
      "for the left lower lobe pneumonia, the patient had initially received a course of levofloxacin 500 p.o.\n",
      "q.d.\n",
      "from to .\n",
      "this was restarted on for an additional seven day course given the fact that she still had the leukocytosis and still had marked rales at the left lower lobe.\n",
      "hypothyroidism: the patient was continued on outpatient medical regimen.\n",
      "depression: the patient was continued on lexapro per outpatient regimen.\n",
      "it is recommended that she follow up with a therapist as an outpatient due to the fact that she did have a blunted affect throughout much of the hospital course, and did appear clinically to be depressed.\n",
      "prophylaxis: she was maintained on proton-pump inhibitor with subq heparin.\n",
      "sore throat: the patient did have a sore throat for much of the hospital course post extubation.\n",
      "this was treated with cepacol lozenges as well as kbl liquid (a solution containing kaopectate, bismuth, and lidocaine) at bedtime.\n",
      "communication/code status: the patient was full code throughout her hospital course, and communication was maintained with the patient and her husband.\n",
      "muscle weakness: the patient did have profound muscle weakness and was evaluated by physical therapy, and was found to have impaired functional mobility, impaired musculoskeletal performance, impaired gas exchange, impaired endurance, impaired ventilation, and needed help with supine to sit.\n",
      "however, she was able to tolerate sitting in a chair for approximately one hour.\n",
      "on motor exam, her flexors and extensors of the lower extremities were at the knee, at the ankle, at the elbows, and hips.\n",
      "it was felt that this weakness was most likely due to a combination of steroid myopathy as well as muscle atrophy secondary to deconditioning after a prolonged hospital course.\n",
      "speech/swallow: the patient had a speech and swallow evaluation showing no evidence of dysphagia, no evidence of vocal cord damage status post tracheal stent placement.\n",
      "discharge condition: the patient was able to oxygenate on room air at 93% at the time of discharge.\n",
      "she was profoundly weak, but was no longer tachycardic and had a normal blood pressure.\n",
      "her respirations were much improved albeit with transmitted upper airway sounds.\n",
      "discharge status: the patient will be discharged to for both pulmonary and physical rehabilitation.\n",
      "discharge medications: levothyroxine 75 mcg p.o.\n",
      "q.d.\n",
      "citalopram 10 mg p.o.\n",
      "q.d.\n",
      "aspirin 81 mg p.o.\n",
      "q.d.\n",
      "fluticasone 110 mcg two puffs inhaled b.i.d.\n",
      "salmeterol diskus one inhalation b.i.d.\n",
      "acetaminophen 325-650 mg p.o.\n",
      "q.4-6h.\n",
      "prn.\n",
      "ipratropium bromide mdi two puffs inhaled q.2h.\n",
      "prn.\n",
      "albuterol 1-2 puffs inhaled q.2h.\n",
      "prn.\n",
      "zolpidem tartrate 5 mg p.o.\n",
      "q.h.s.\n",
      "prn.\n",
      "isosorbide dinitrate 10 mg p.o.\n",
      "t.i.d.\n",
      "diltiazem 60 mg p.o.\n",
      "q.i.d.\n",
      "pantoprazole 40 mg p.o.\n",
      "q.24h.\n",
      "trazodone 25 mg p.o.\n",
      "q.h.s.\n",
      "prn.\n",
      "subq heparin 5000 units subcutaneous b.i.d.\n",
      "until such time that the patient is able to get out of bed twice a day.\n",
      "cepacol lozenges q.2h.\n",
      "prn.\n",
      "levofloxacin 500 mg p.o.\n",
      "q.d.\n",
      "for a seven day course to be completed on .\n",
      "kaopectate/benadryl/lidocaine 5 ml p.o.\n",
      "b.i.d.\n",
      "prn, not to be given around mealtimes for concern of dysphagia induced by lidocaine.\n",
      "lorazepam 0.5-2 mg iv q.6h.\n",
      "prn.\n",
      "follow-up plans: the patient is recommended to followup with doctor , within two weeks of leaving of the hospital.\n",
      "she is also recommended to followup with the interventional pulmonary service for followup status post stent placement.\n",
      "she is also recommended to followup with a neurologist if her muscle weakness does not improve within one week on physical therapy with concern for steroid-induced myopathy.\n",
      "final diagnoses: tracheomalacia status post tracheal and left main stem bronchial stent placement.\n",
      "hypertension.\n",
      "hypothyroidism.\n",
      "restrictive lung defect.\n",
      "depression.\n",
      "doctor, 12-207 dictated by: medquist36 d: 11:30 t: 11:33 job#:\n",
      "sex: m medicine allergies: patient recorded as having no known allergies to drugs attending: mr.\n",
      "was seen at after a mechanical fall from a height of 10 feet.\n",
      "ct scan noted unstable fracture of c6-7 & posterior elements.\n",
      "major surgical or invasive procedure: anterior cervical osteotomy, c6-c7, with decompression and excision of ossification of the posterior longitudinal ligament.\n",
      "anterior cervical deformity correction.\n",
      "interbody reconstruction.\n",
      "anterior cervical fusion, c5-c6-cplate instrumentation, c5-c6-ccervical laminectomy c6-c7, tposterior cervical arthrodesis c4-tcervical instrumentation c4-tarthrodesis augmentation with autograft, allograft and demineralized bone matrix.\n",
      "history of present illness: mr.\n",
      "is a 82 year old male who had a slip and fall of approximately 10 feet from a balcony.\n",
      "he was ambulatory at the scene.\n",
      "he presented to the ed here at .\n",
      "ct scan revealed unstable c spine fracture.\n",
      "he was intubated secondary to agitation.\n",
      "patient admitted to trauma surgery service past medical history: coronary artery disease s/p cabg chf htn aicd atrial fibrillation stroke social history: patient recently discharged from for severe depression.\n",
      "family reports patient was very sad and attempted to kill himself by wrapping a telephone cord around his neck.\n",
      "lives with his elderly wife, worked as a chemist in .\n",
      "family history: non contributory physical exam: phycial exam prior to surgery was not obtained since patient was intubated and sedated.\n",
      "post surgical physical exam: (tsicu per surgery team) breathing without assistance nad vitals: t 97.5, hr 61, bp 145/67, rr22, sao2 98 a-fib, rate controlled abd soft non-tender anterior/posterior cervical incisions pt is edemitous in all four extremities, no facial edema able to grossly move all four extremities, neurointact to light touch distal pulses weakly intact medicine consult: vs: tm/c 98.9 142/70 61 20 96%ra i/o bm yesterday 220/770 gen: awake, calm, cooperative and pleasant, lying in bed neck: c-collar removed cv: irregular, normal s1, sno m/r/g. lungs: cta anteriolry abd: obese, soft, ntnd, decreased bs ext: trace b/l le edema, 1+ ue edema neuro/cognition: thought , 8, not to place, pertinent results: admission labs wbc-8.4 rbc-4.43* hgb-11.9* hct-38.6* mcv-87 mch-26.9* mchc-30.9* rdw-17.3* plt ct-191 pt-20.4* ptt-28.1 inr(pt)-1.9* ck(cpk)-183* amylase-70 calcium-8.5 phos-2.0* mg-1.9 glucose-121* lactate-2.3* na-140 k-4.3 cl-101 calhco3-26 radiology ct scan c spine : impression: fracture of the c6 as described involving the right pedicle (extending to the inferior facet) and left lamina.\n",
      "anterior widening at the c6-7 disc space and mild widening of left c6-7 facet also noted.\n",
      "prevertebral hematoma at c6 with likely rupture of the anterior longitudinal ligament.\n",
      "lucency in the right posterior c1 ring may represent a chronic injury.\n",
      "likely old avulsion fracture at t2 pedicle on the left.\n",
      "ossification of both anterior and posterior longitudinal ligaments with compromise of the central spinal canal.\n",
      "degenerative disease is further described above.\n",
      "ct abdomen/pelvis () impression: no acute injuries in the chest, abdomen, or pelvis.\n",
      "three discrete pleural fluid collections in the right hemithorax, likely pseudotumors.\n",
      "small hypodense lesion in the pancreatic body is of unclear etiology, may represent pseudicyst or cystic tumor.\n",
      "further evaluation with mri may be performed on a non- emergent basis.\n",
      "bilateral renal cysts.\n",
      "foley catheter balloon inflated within the prostatic urethra.\n",
      "recommend emergent repositioning.\n",
      "ct sinus/maxillofacial () bilateral nasal bone fractures.\n",
      "left frontal scalp hematoma with preseptal soft tissue swelling.\n",
      "question foreign body anterior to the left globe.\n",
      "recommend clinical correlation.\n",
      "small amount of extraconal hematoma in the superior aspect of the left orbit.\n",
      "linear lucency in the right posterior ring of ccorrelate with ct c- spine performed concurrently.\n",
      "head ct () no acute intracranial hemprrhage.\n",
      "left frontal scalp hematoma.\n",
      "nasal bone fractures.\n",
      "recommend correlation with report from facial bone ct scan.\n",
      "lucency in the right posterior ring of cplease refer to dedeicated ct c-spine for further detail.\n",
      "left cerebellar encephalomalacia, likely due to old infarction.\n",
      "chest the dobbhoff tube passes below the diaphragm with its tip most likely terminating in the stomach.\n",
      "the bilateral pacemakers are demonstrated with one lead terminating in right atrium and three leads terminating in right ventricle.\n",
      "the patient is in mild pulmonary edema with no change in the loculated pleural fluid within the major fissure.\n",
      "ct head a tiny amount of intraventricular hemorrhage layers along the occipital horns of the ventricles bilaterally.\n",
      "recommend followp imaging.\n",
      "left frontal scalp hematoma has decreased in size.\n",
      "unchanged left cerebellar encephalomalacia.\n",
      "nasal bone fractures are better evaluated on dedicated maxillofacial ct.\n",
      "right shoulder x-ray () mild glenohumeral and acromioclavicular joint osteoarthritis.\n",
      "nonspecific ossification projecting over the upper margin of the scapular body and adjacent to the lesser tuberosity.\n",
      "diagnostic considerations include the sequela of chronic calcific bursitis, intraarticular bodies, and/or calcific tendinitis of the subscapularis tendon.\n",
      "increased opacity projecting over the right hemithorax and minor fissure, better delineated on recent chest radiographs and chest ct right upper extremity ultrasound () deep venous thrombosis in the right axillary vein, extending proximally into the right subclavian vein, and distally to involve the brachial veins, portion of the basilic vein, and the right cephalic vein.\n",
      "likely 2.0 cm left axillary lymph node, with unusual son features somewhat suspicious for malignancy.\n",
      "followup ultrasound is recommended in 4 weeks, and fna/biopsy may be considered at that time if no interval improvement.\n",
      "ct abdomen with iv contrast: there are small-to-moderate bilateral pleural effusions, on the right with a loculated appearance.\n",
      "there is associated compressive atelectasis.\n",
      "the visualized portion of the heart suggests mild cardiomegaly.\n",
      "there is no pericardial effusion.\n",
      "there is a 9-mm hypoattenuating, well-defined lesion in the left lobe of the liver (2:12) too small to accurately characterize but statistically most likely representing a cyst.\n",
      "there are bilateral, partially exophytic renal cysts.\n",
      "the spleen is normal in size.\n",
      "there is a 5-mm hypoattenuating focus in the pancreatic body, most likely representing focal fat.\n",
      "the gallbladder and adrenal glands are unremarkable.\n",
      "an ng tube terminates in the stomach.\n",
      "there is no ascites.\n",
      "the large and small bowel loops appear unremarkable without wall thickening or pneumatosis.\n",
      "oral contrast material has passed into the ascending colon without evidence of obstruction.\n",
      "there is no ascites and no free air.\n",
      "there is a small pocket of air in the left rectus muscle, tracking over a distance of approximately 10 cm.\n",
      "ct pelvis with iv contrast: the pelvic small and large bowel loops, collapsed bladder containing foley catheter and seminal vesicles appear unremarkable.\n",
      "the prostate is enlarged, measuring 5.9 cm in transverse diameter.\n",
      "the rectum contains a moderate amount of dried stool.\n",
      "there is no free air or free fluid.\n",
      "bone windows: no suspicious lytic or sclerotic lesions.\n",
      "there is dish of the entire visualized thoracolumbar spine.\n",
      "there also are degenerative changes about the hip joints with large acetabular osteophytes.\n",
      "impression: stable bilateral pleural effusions, loculated on the right.\n",
      "new focus of air tracking within the left rectus muscle with associated tiny amount of extraperitoneal air (2:53).\n",
      "no associated stranding or fluid collection.\n",
      "please correlate clinically if this could be iatrogenic, such as due to s.q.\n",
      "injections.\n",
      "5-mm hypoattenuating focus in the pancreatic body.\n",
      "this could represent focal fat, although a cystic tumor cannot be excluded.\n",
      "if this is of concern, then mri is again recommended for further evaluation.\n",
      "hypoattenuating focus in the left lobe of the liver, too small to accurately characterize.\n",
      "bilateral partially exophytic renal cysts.\n",
      "moderate amount of dried stool within the rectum.\n",
      "a wet read was placed and the pertinent findings were discussed by doctor with doctor at 11:30 p.m. on .\n",
      "video oropharyngeal swallow findings: real-time video fluoroscopic evaluation was performed after oral administration of thin and puree consistency of barium, in conjunction with the speech pathologist.\n",
      "oral phase: normal bolus formation, bolus control, ap tongue movement, oral transit time, and no oral cavity residue.\n",
      "pharyngeal phase: there is normal swallow initiation and velar elevation.\n",
      "there is mild-to-moderate impairment of laryngeal elevation with absent epiglottic deflection.\n",
      "there is moderate-to-severe increase in pharyngeal transit time.\n",
      "there is residue in the valleculae and piriform sinuses with moderate impairment of bolus propulsion.\n",
      "there was aspiration of both thin and puree barium.\n",
      "impression: aspiration of thin liquids and puree.\n",
      "for additional information, please see the speech and swallow therapist's report from the same day.\n",
      "ct head w/out: findings: there is a small amount of blood layering in the occipital horns of both lateral ventricles, unchanged though not as dense given evolution.\n",
      "no new hemorrhage is identified.\n",
      "the ventricles, cisterns, and sulci are enlarged secondary to involutional change.\n",
      "periventricular white matter hyperdensities are sequelae of chronic small vessel ischemia.\n",
      "encephalomalacia in the left cerebellar hemisphere secondary to old infarction is unchanged.\n",
      "the osseous structures are unremarkable.\n",
      "the visualized paranasal sinuses and mastoid air cells are clear.\n",
      "skin staples are noted along the superior- posterior neck secondary to recent spinal surgery.\n",
      "impression: no interval change with a very small intraventricular hemorrhage.\n",
      "no discharge labs as patient cmo.\n",
      "brief hospital course: mr.\n",
      "was seen at after his fall from a height of approximatly 10 feet.\n",
      "ct scans of his chest, abdomen and pelvis were negative for pathology.\n",
      "ct scan of his c-spine showed fracture of anterior and posterior elements at c6- he was also shown to have a right nasal bone fracture.\n",
      "c-spine fracture: mr.\n",
      "two surgical procedures to stabilized his c-spine. :\n",
      "anterior cervical decompression/fusion at c6- : cervical laminectomy c6-c7 & t1 with posterior cervical arthrodesis c4-t he tolerated the procedures well.\n",
      "he was extubated without complication.\n",
      "after his surgical procedures, mr.\n",
      "was transfered to the medicine service at for his medical care.\n",
      "while on the medicine service, patient was found to be persistently aspirating and failed his speech and swallow evaluation.\n",
      "patient and family were not interested in an ng tube or peg for nutrition.\n",
      "patient also developed a venous clot of the right upper extremity and the decision was made to not proceed with medical treatment.\n",
      "goals of care were changed to comfort measures only.\n",
      "a foley was placed after patient had difficulty with urinary retention and straight cathing.\n",
      "a palliative care consult was obtained for symptom management and patient was discharged to hospice with morphine, olanzapine, and a foley in place for symptomatic relief.\n",
      "medications on admission: coumadin seroquel docusate metoprolol folate lovastatin captopril asa ipratroium inhaler ferrous sulfate furosemide citalopram isosorbide meprazole discharge medications: bisacodyl 10 mg suppository sig: suppositorys rectal daily (daily) as needed for constipation.\n",
      "ipratropium bromide 0.02 % solution sig: one (1) nebulizer inhalation q6h (every 6 hours) as needed for wheezing.\n",
      "albuterol sulfate 2.5 mg/3 ml solution for nebulization sig: one (1) solution inhalation q6h (every 6 hours) as needed for wheezing.\n",
      "morphine concentrate 20 mg/ml solution sig: 5-10 mg po q4h (every 4 hours) as needed for pain: may shorten interval as needed to control pain.\n",
      "olanzapine 5 mg tablet, rapid dissolve sig: 0.5 tablet, rapid dissolve po qhs (once a day (at bedtime)) as needed for agitation.\n",
      "tamsulosin 0.4 mg capsule, sust.\n",
      "release 24 hr sig: one (1) capsule, sust.\n",
      "release 24 hr po daily (daily): may be discontinued if patient not tolerating pills or refusing to take.\n",
      "discharge disposition: extended care facility: of discharge diagnosis: cervical spondylosis with calcification of posterior longitudinal ligament.\n",
      "fracture dislocation c6-cossification of the posterior longitudinal ligament.\n",
      "aspiration pneumonia cervical spondylosis with calcification of posterior longitudinal ligament.\n",
      "fracture dislocation c6-cossification of the posterior longitudinal ligament.\n",
      "aspiration pneumonia cervical spondylosis with calcification of posterior longitudinal ligament.\n",
      "fracture dislocation c6-cossification of the posterior longitudinal ligament.\n",
      "aspiration pneumonia discharge condition: stable to outside facility discharge instructions: patient has been made cmo at the request of him and his family.\n",
      "he has a foley placed for urinary retention.\n",
      "please use morphine as needed for pain and olanzapine as needed for agitiation.\n",
      "patient has known history of aspiration documented on speech and swallow.\n",
      "it is the patient and the family's wish for him to continue to eat and drink as desired.\n",
      "followup instructions: follow up with your primary care physician as needed.\n",
      "sex: f neurosurgery allergies: no known allergies / adverse drug reactions attending: meningioma major surgical or invasive procedure: right craniotomy history of present illness: is a 62-year-old woman, with longstanding history of rheumatoid arthritis, probable sweet's syndrome, and multiple joint complications requiring orthopedic interventions.\n",
      "she was found to hve a right cavernous sinus and nasopharyngeal mass.\n",
      "she underwent a biopsy of hte nasopharyngeal mass by doctor and the pathology, including flow cytometry, was reactive for t-cell lymphoid hyperplasia only.\n",
      "she has a longstanding history of rheumatoid arthritis that involved small and large joints in her body.\n",
      "her disease is currently controlled by abatacept, hydroxychloroquine, and methotrexate.\n",
      "she also has a remote history of erythematous nodules at her shins, dermatosis (probable sweet's disease), severe holocranial headache with an intensity of , and dysphagia.\n",
      "but her symptoms resolved with treatment for autoimmune disease.\n",
      "please refer additional past medical history, past surgical history, facial history, and social history to the initial note on .\n",
      "she cam to the btc for discussion about management of her right cavernous sinus mass that extends into the middle cranial fossa.\n",
      "she had a recent head ct at the and woman's hospital on , when she went for a consultation there.\n",
      "she is neurologically stable without headache, nausea, vomiting, seizure, imbalance, or fall.\n",
      "she has no new systemic complaints.\n",
      "her neurological problem started when she experienced frontal pressure-like sensations.\n",
      "there was no temporal pattern; but they may occur more often in the evening.\n",
      "she had fullness in her ear and she also had a cold coinciding to the onset of her headache.\n",
      "by late and early , she also developed a sharp pain intermittently in the right temple region.\n",
      "she did not have nausea, vomiting, blurry vision, imbalance, or fall.\n",
      "a gadolinium-enhanced head mri, performed at on , showed a bright mass involving the cavernous sinus.\n",
      "past medical history: she has a history of rheumatoid arthritis unspecified dermatosis, right knee replacement, left hip replacement, and fusion of subtalar joint, and resection of a benign left parotid gland tumor.\n",
      "social history: she is married.\n",
      "she had smoked for approximately a year and a half when she was younger, but is not currently smoking.\n",
      "she has approximately one glass of wine per week.\n",
      "she is retired but was employed as a teacher.\n",
      "family history: cancer, diabetes, hearing loss, and heart disease.\n",
      "physical exam: af vss heent normal no lnn neck supple.\n",
      "rrr cta nttp warm peripherals neurological examination: her karnofsky performance score is she is neurologically intact.\n",
      "pertinent results: mri right middle cranial fossa mass likely represents a meningioma and is stable since mri of .\n",
      "the previously seen midline nasopharyngeal mass has decreased in size since mri of .\n",
      "direct visual inspection would be helpful for further assessment of the nasopharyngeal mass.\n",
      "brief hospital course: patient presented electively for meningioma resection of .\n",
      "she tolerated the procedure well and was extubated in the operating room.\n",
      "she was trasnported to the icu post-operatively for management.\n",
      "she had no complications and was transferred to the floor and observed for 24 hours.\n",
      "prelim path is consistent with meningioma.\n",
      "she has dissolvable sutures, and will need to come to neurosurgery clinic in days for wound check only.\n",
      "she will need to be scheduled for brain tumor clinic.\n",
      "she will complete decadron taper on and then restart her maintenance dose of prednisone.\n",
      "she will also be taking keppra for seizure prophlyaxis.\n",
      "her neurologic examination was intact with no deficits at discharge.\n",
      "she was tolerating regular diet.\n",
      "she should continue to take over the counter laxatives as needed.\n",
      "medications on admission: bactrim, famotidine,folic acid, fosamax, lorezapam, methotrexate, mvi, orencia, plaquenil, prednisone 20qd discharge medications: hydroxychloroquine 200 mg tablet sig: one (1) tablet po daily (daily).\n",
      "levetiracetam 500 mg tablet sig: one (1) tablet po bid (2 times a day).\n",
      "disp:*60 tablet(s)* refills:*2* prednisone 10 mg tablet sig: two (2) tablet po daily (daily): start the day after decadron taper is complete-.\n",
      "dexamethasone 0.5 mg tablet sig: four (4) tablet po q6h () for 2 days: take 4 tabs every 6 hours on and take 2 tabs every 6 hours on then stop.\n",
      "disp:*20 tablet(s)* refills:*0* famotidine 20 mg tablet sig: one (1) tablet po bid (2 times a day).\n",
      "disp:*60 tablet(s)* refills:*2* discharge disposition: home discharge diagnosis: brain lesion discharge condition: mental status: clear and coherent.\n",
      "level of consciousness: alert and interactive.\n",
      "activity status: ambulatory - independent.\n",
      "neuro exam intact.\n",
      "discharge instructions: ??????\n",
      "have a friend/family member check your incision daily for signs of infection. ??????\n",
      "take your pain medicine as prescribed. ??????\n",
      "exercise should be limited to walking; no lifting, straining, or excessive bending. ??????\n",
      "you have dissolvable sutures, you must keep that area dry for 10 days. ??????\n",
      "you may shower before this time using a shower cap to cover your head. ??????\n",
      "increase your intake of fluids and fiber, as narcotic pain medicine can cause constipation.\n",
      "we generally recommend taking an over the counter stool softener, such as docusate (colace) while taking narcotic pain medication. ??????\n",
      "unless directed by your doctor, do not take any anti-inflammatory medicines such as motrin, aspirin, advil, and ibuprofen etc. ??????\n",
      "if you have been prescribed dilantin (phenytoin) for anti-seizure medicine, take it as prescribed and follow up with laboratory blood drawing in one week.\n",
      "this can be drawn at your pcp??????s office, but please have the results faxed to .\n",
      "if you have been discharged on keppra (levetiracetam), you will not require blood work monitoring. ??????\n",
      "if you are being sent home on steroid medication, make sure you are taking a medication to protect your stomach (prilosec, protonix, or pepcid), as these medications can cause stomach irritation.\n",
      "make sure to take your steroid medication with meals, or a glass of milk. ??????\n",
      "clearance to drive and return to work will be addressed at your post-operative office visit. ??????\n",
      "make sure to continue to use your incentive spirometer while at home.\n",
      "call your surgeon immediately if you experience any of the following ??????\n",
      "new onset of tremors or seizures. ??????\n",
      "any confusion or change in mental status. ??????\n",
      "any numbness, tingling, weakness in your extremities. ??????\n",
      "pain or headache that is continually increasing, or not relieved by pain medication. ??????\n",
      "any signs of infection at the wound site: increasing redness, increased swelling, increased tenderness, or drainage. ??????\n",
      "fever greater than or equal to 101??????\n",
      "f. followup instructions: ??????\n",
      "please return to the office in days (from your date of surgery) for a wound check.\n",
      "this appointment can be made with the nurse practitioner.\n",
      "please make this appointment by calling .\n",
      "if you live quite a distance from our office, please make arrangements for the same, with your pcp.\n",
      "sex: m neurosurgery allergies: no known allergies / adverse drug reactions attending: left sided brain lesion major surgical or invasive procedure: left craniotomy for mass resection history of present illness: is a 62-year-old left-handed man who is here for a follow up of his left sphenoid meningioma.\n",
      "i last saw him on and his head ct showed growth of the left sphenoid meningioma.\n",
      "he is seizure free.\n",
      "today, he is here with his wife and daughter.\n",
      "does not have headache, nausea, vomiting, urinary incontinence, or fall.\n",
      "his neurological problem began on when he became confused and disoriented in a hotel bathroom.\n",
      "at that time, he was visiting his daughter for a wedding.\n",
      "his wife found him slumped over in the bath tube.\n",
      "according to her, his eyes looked funny.\n",
      "he could not stand up.\n",
      "his verbal output did not make sense.\n",
      "he was brought to hospital in placentia, ca.\n",
      "he woke up 7 to 8 hours later in the emergency room.\n",
      "he felt very tired after the event.\n",
      "he was hospitalized from to .\n",
      "he had a cardiac pacemaker placement due to irregular heart rate and bradycardia.\n",
      "he also had a head mri that showed a less than 1 cm diameter sphenoid meningioma.\n",
      "past medical history: cardiac arrhythmia as noted above, has a pacemaker in place, prostate cancer with prostatectomy, and hypertension.\n",
      "social history: lives with his wife.\n",
      "retired, works parttime driving a school bus.\n",
      "family history: nc physical exam: temperature is 97.8 f. his blood pressure is 150/ pulse is respiration is his skin has full turgor.\n",
      "heent is unremarkable.\n",
      "neck is supple.\n",
      "cardiac examination reveals regular rate and rhythms.\n",
      "his lungs are clear.\n",
      "his abdomen is soft with good bowel sounds.\n",
      "his extremities do not show clubbing, cyanosis, or edema.\n",
      "neurological examination: his karnofsky performance score is he is awake, alert, and oriented times there his language is fluent with good comprehension.\n",
      "his recent recall is intact.\n",
      "cranial nerve examination: his pupils are equal and reactive to light, 4 mm to 2 mm bilaterally.\n",
      "extraocular movements are full.\n",
      "there is no nystagmus.\n",
      "visual fields are full to confrontation.\n",
      "funduscopic examination reveals sharp disks margins bilaterally.\n",
      "his face is symmetric.\n",
      "facial sensation is intact bilaterally.\n",
      "his hearing is intact bilaterally.\n",
      "his tongue is midline.\n",
      "palate goes up in the midline.\n",
      "sternocleidomastoids and upper trapezius are strong.\n",
      "motor examination: he does not have a drift.\n",
      "his muscle strengths are at all muscle groups.\n",
      "his muscle tone is normal.\n",
      "his reflexes are 0 in upper and lower extremities bilaterally.\n",
      "his ankle jerks are absent.\n",
      "his toes are down going.\n",
      "sensory examination is intact to touch and proprioception.\n",
      "coordination examination does not reveal dysmetria.\n",
      "his gait is normal.\n",
      "he can do tandem.\n",
      "he does not have a romberg.\n",
      "physical exam upon discharge: non focal incision c/d/i, dissolvable sutures pertinent results: ct head: impression: likely meningioma along the greater of the left sphenoid bone, measuring 18 mm in diameter, unchanged since the most recent study of , with reactive bony changes, as above.\n",
      "bifrontal cortical atrophy, which has progressed slightly over the series of studies since the earliest studies of .\n",
      "ct head: impression: expected post-operative changes with the left frontal craniotomy including subcutaneous air and soft tissue swelling, moderate pneumocephalus overlying predominantly the bilateral frontal lobes, and foci of hemorrhage in the surgical bed.\n",
      "no evidence of residual tumor on this non contrast ct.\n",
      "cxr: findings: the lung volumes are rather low.\n",
      "there is moderate cardiomegaly without evidence of overt pulmonary edema.\n",
      "no areas of atelectasis or pneumonia.\n",
      "right pectoral pacemaker in situ, with correct lead placement.\n",
      "head ct /c contrast: impression: status post left frontal craniotomy changes with improvement of pneumocephalus and stable 3 mm left to right midline shift; focus of hemorrhage with/without residual tumor in the resection bed is similar in appearance to prior exam but now with more surrounding vasogenic edema.\n",
      "stable appearance of subarachnoid hemorrhage.\n",
      "followup to assess for residual tumor/ interval change.\n",
      "brief hospital course: patient presented electively on for left sided craniotomy for mass resection.\n",
      "he tolerated the procedure well and was taken to the trauma icu post-operatively still intubated.\n",
      "shortly thereafter he was deemed fit for extubation which was done without difficulty.\n",
      "at post-op check he was neurologically intact.\n",
      "on he was neurologically intact and cleared for transfer to the stepdown unit.\n",
      "this did not happen due to bed shortage.\n",
      "a ct with contrast was ordered for post op evaluation.\n",
      "on he was again stable and cleared for transfer to the floor.\n",
      "decadron taper was initiated.\n",
      "he was seen by pt and cleared for discharge home.\n",
      "on the patient was being prepped for discharge but was noted to have intermittent heart rate in the 130-170's.\n",
      "his other vitals were stable.\n",
      "electrophysiology was consulted and they recommended increasing the metoprolol xl dose to 100mg qday.\n",
      "the patient was kept overnight to monitor this new dose.\n",
      "on her remained stable neurologically and hemodynamically therefore he was cleared for discharge.\n",
      "medications on admission: coumadin, keppra, toprol xl, diovan, zocor discharge medications: oxycodone 5 mg tablet sig: 1-2 tablets po q4h (every 4 hours) as needed for pain.\n",
      "disp:*60 tablet(s)* refills:*0* senna 8.6 mg tablet sig: one (1) tablet po daily (daily).\n",
      "docusate sodium 100 mg capsule sig: one (1) capsule po bid (2 times a day).\n",
      "acetaminophen 325 mg tablet sig: two (2) tablet po q6h (every 6 hours) as needed for pain or fever > 101.valsartan 160 mg tablet sig: one (1) tablet po daily (daily).\n",
      "simvastatin 10 mg tablet sig: two (2) tablet po daily (daily).\n",
      "levetiracetam 250 mg tablet sig: three (3) tablet po bid (2 times a day).\n",
      "pantoprazole 40 mg tablet, delayed release (e.c.)\n",
      "sig: one (1) tablet, delayed release (e.c.)\n",
      "po q24h (every 24 hours).\n",
      "disp:*30 tablet, delayed release (e.c.)(s)* refills:*2* metoprolol succinate 100 mg tablet extended release 24 hr sig: one (1) tablet extended release 24 hr po daily (daily).\n",
      "disp:*30 tablet extended release 24 hr(s)* refills:*2* dexamethasone 2 mg tablet sig: taper tablet po taper for 6 days: 3mg q8hr on , then 2mg q8hr x2 day, 1mg q8hr x2 day, 1mg q12hr x1 day then d/c. disp:*qs tablet(s)* refills:*0* discharge disposition: home discharge diagnosis: left sided brain lesion discharge condition: mental status: clear and coherent.\n",
      "level of consciousness: alert and interactive.\n",
      "activity status: ambulatory - independent.\n",
      "discharge instructions: general instructions/information ??????\n",
      "have a friend/family member check your incision daily for signs of infection. ??????\n",
      "take your pain medicine as prescribed. ??????\n",
      "exercise should be limited to walking; no lifting, straining, or excessive bending. ??????\n",
      "you have dissolvable sutures so you may wash your hair and get your incision wet day 3 after surgery.\n",
      "you may shower before this time using a shower cap to cover your head. ??????\n",
      "increase your intake of fluids and fiber, as narcotic pain medicine can cause constipation.\n",
      "we generally recommend taking an over the counter stool softener, such as docusate (colace) & senna while taking narcotic pain medication. ??????\n",
      "unless directed by your doctor, do not take any anti-inflammatory medicines such as motrin, aspirin, advil, and ibuprofen etc. ??????\n",
      "if you have been discharged on keppra (levetiracetam), you will not require blood work monitoring. ??????\n",
      "you are being sent home on steroid medication, make sure you are taking a medication to protect your stomach (prilosec, protonix, or pepcid), as these medications can cause stomach irritation.\n",
      "make sure to take your steroid medication with meals, or a glass of milk. ??????\n",
      "clearance to drive and return to work will be addressed at your post-operative office visit. ??????\n",
      "make sure to continue to use your incentive spirometer while at home.\n",
      "call your surgeon immediately if you experience any of the following ??????\n",
      "new onset of tremors or seizures. ??????\n",
      "any confusion or change in mental status. ??????\n",
      "any numbness, tingling, weakness in your extremities. ??????\n",
      "pain or headache that is continually increasing, or not relieved by pain medication. ??????\n",
      "any signs of infection at the wound site: increasing redness, increased swelling, increased tenderness, or drainage. ??????\n",
      "fever greater than or equal to 101??????\n",
      "f. followup instructions: ??????\n",
      "you need an appointment in the brain clinic.\n",
      "the brain clinic is located on the of , in the building, .\n",
      "their phone number is .\n",
      "they will call you with an appointment within the next 2 weeks.\n",
      "please call if you do not hear from the, you need to change your appointment, or require additional directions. ??????\n",
      "changes were made to your heart rate/blood pressure medication while you were in house.\n",
      "you were seen by the cardiology team who made these recommendations.\n",
      "please follow up with your pcp within one week to check your heart rate and blood pressure.\n",
      "completed by:\n",
      "sex: f neurosurgery allergies: codeine attending: elective admission for radionecrosis resection due to radiosurgery of avm major surgical or invasive procedure: left craniotomy for radionecrosis resection history of present illness: presents for resection of radionecrosis s/p radiosurgery for avm past medical history: seizures,h/o radio therapy for avm has resid edema causing seizures; dysrhythmia (palps w/ panic attacks), recent upper respiratory infection social history: nc family history: nc physical exam: upon discharge: the patient was alert and oriented.\n",
      "she followed commands easily.\n",
      "perrl, eoms intact.\n",
      "face symmetric, tongue midline.\n",
      "strength was full throughout and sensation was intact to light touch.\n",
      "incision was clean, dry, and intact.\n",
      "pertinent results: 02:09pm glucose-161* urea n-10 creat-0.8 sodium-142 potassium-3.9 chloride-105 total co2-28 anion gap-13 02:09pm wbc-12.2*# rbc-4.03* hgb-11.5* hct-34.5* mcv-86 mch-28.4 mchc-33.2 rdw-13.3 pathology report from : diagnosis: brain, left frontal (a): vascular malformation consistent with arteriovenous malformation of cortical and white matter with radiation induced fibrinoid necrosis.\n",
      "focal hemosiderin deposition suggesting prior hemorrhages.\n",
      "left frontal radionecrosis and residual avm (b): vascular malformation consistent with arteriovenous malformation of cortical and white matter with radiation induced fibrinoid necrosis.\n",
      "focal hemosiderin deposition suggesting prior hemorrhages.\n",
      "clinical: radionecrosis.\n",
      "ct head post-op : findings: there is a left-sided frontal craniotomy with surgical resection of the enhancing mass noted in previous studies.\n",
      "there is extensive confluent hypodensity in the left frontoparietal region, that likely represents post-radiation vasogenic edema with resultant 8.5-mm shift of normally-midline structures, not significantly changed from the previous mr.\n",
      "there is a tiny focus of hyperdensity in the postoperative field which may represent a small amount of hemorrhage.\n",
      "there is expost-operative pneumocephalus and subcutaneous air noted.\n",
      "impression: status post left craniotomy and resection of avm and possible mass-like radiation necrosis, with small hyperdense focus in the operative bed, likely representing very small hemorrhage.\n",
      "extensive vasogenic edema persists.\n",
      "brief hospital course: post-operatively she was admitted to the icu for observation s/p resection.\n",
      "her post-op head ct was negative for bleeding.\n",
      "she remained intubated immediately post-op.\n",
      "she was weaned and extubated on and did very well neurologically.\n",
      "the patient was transferred out of the icu later that day.\n",
      "she was ambulating without difficulty, her pain was well-controlled, and she was taking in food with no nausea/vomiting.\n",
      "her post-operative mri was done on and showed expected post-operative changes.\n",
      "she was discharged on .\n",
      "medications on admission: acetaminophen, effexor 50 , ibuprofen , keppra (levetiracetam) (25oomg discharge medications: docusate sodium 100 mg capsule sig: one (1) capsule po bid (2 times a day) as needed for constipation.\n",
      "disp:*60 capsule(s)* refills:*0* venlafaxine 25 mg tablet sig: two (2) tablet po bid (2 times a day).\n",
      "hydromorphone 2 mg tablet sig: 1-2 tablets po every six (6) hours as needed for pain: no driving while on this medication.\n",
      "disp:*50 tablet(s)* refills:*0* pantoprazole 40 mg tablet, delayed release (e.c.)\n",
      "sig: one (1) tablet, delayed release (e.c.)\n",
      "po q24h (every 24 hours).\n",
      "disp:*30 tablet, delayed release (e.c.)(s)* refills:*2* dexamethasone 1 mg tablet sig: three (3) tablet po q8h (every 8 hours) for 1 doses: taper to 2mg tid x 3 doses on .\n",
      "taper to 1mg tid x 3 doses on .\n",
      "disp:*12 tablet(s)* refills:*0* she will continue her keppra and has a prescription at home.\n",
      "discharge disposition: home discharge diagnosis: avm radionecrosis discharge condition: neurologically stable discharge instructions: discharge instructions for craniotomy/head injury ??????\n",
      "have a family member check your incision daily for signs of infection ??????\n",
      "take your pain medicine as prescribed ??????\n",
      "exercise should be limited to walking; no lifting, straining, excessive bending ??????\n",
      "you may wash your hair only after sutures have been removed ??????\n",
      "you may shower before this time with assistance and use of a shower cap ??????\n",
      "increase your intake of fluids and fiber as pain medicine (narcotics) can cause constipation ??????\n",
      "unless directed by your doctor, do not take any anti-inflammatory medicines such as motrin, aspirin, advil, ibuprofen etc. ??????\n",
      "if you have been prescribed an anti-seizure medicine, take it as prescribed and follow up with laboratory blood drawing in 7 days and fax results to . ??????\n",
      "clearance to drive and return to work will be addressed at your post-operative office visit call your surgeon immediately if you experience any of the following: ??????\n",
      "new onset of tremors or seizures ??????\n",
      "any confusion or change in mental status ??????\n",
      "any numbness, tingling, weakness in your extremities ??????\n",
      "pain or headache that is continually increasing or not relieved by pain medication ??????\n",
      "any signs of infection at the wound site: redness, swelling, tenderness, drainage ??????\n",
      "fever greater than or equal to 101??????\n",
      "f followup instructions: please return to the office in 8 days for removal of your sutures please call to schedule an appointment with doctor to be seen in 4 weeks.\n",
      "you will need a cat scan of the brain without contrast prior to the appointment completed by:\n",
      "sex: f neurosurgery allergies: codeine attending: skull defect major surgical or invasive procedure: s/p cranioplasty on history of present illness: 44 yo female with a h/o left frontal avm in the supplementary motor area.\n",
      "the avm was treated with stereotactic radiosurgery (gamma knife)in .\n",
      "in , the patient developed a seizure disorder.\n",
      "she developed headaches and after an mri and a digital angiogram showed no residual pathological vessels, a contrast enhancing lesion with massive focal residual edema was diagnosed- very likely represents radionecrosis.\n",
      "the patient had midline shift and mass effect.\n",
      "on she had a left craniotomy for resection of the radionecrosis.\n",
      "she then presented to the office in with increased left facial swelling and incision drainage, she was taken to the or for a wound washout and craniectomy.\n",
      "she now returns for a cranioplasty after a long course of outpatient iv antibiotic therapy.\n",
      "past medical history: seizures,h/o radio therapy for avm has resid edema causing seizures; dysrhythmia (palps w/ panic attacks), recent upper respiratory infection palpitations with panic attacks panic, anxiety depression h/o nephrolithiasis (at 20yrs old) tb as a child (treated) social history: married.\n",
      "lives with husband.\n",
      "family history: non-contributory physical exam: on admission: aox3, perrl, face symm, tongue midline.\n",
      "eom intact w/o nystagmus.\n",
      "speech clear and fluent.\n",
      "comprehension intact.\n",
      "follows commands.\n",
      "no pronator.\n",
      "mae upon discharge: aoxneuro intact.\n",
      "mae .\n",
      "incision c/d/i. ambulating, tolerating pos pertinent results: ct head : (post-op) patient is status post left frontal cranioplasty.\n",
      "persistent vasogenic edema in the left frontal lobe, unchanged.\n",
      "no shift of normally midline structures or acute hemorrhage identified. *******************\n",
      "03:13pm wbc-13.8*# rbc-4.76 hgb-12.8 hct-37.6 mcv-79* mch-27.0 mchc-34.2 rdw-14.4 03:13pm plt count-555* 03:13pm calcium-9.2 phosphate-3.4 magnesium-2.3 03:13pm estgfr-using this 03:13pm glucose-128* creat-0.9 sodium-141 potassium-4.1 chloride-102 total co2-30 anion gap-13 brief hospital course: 44 yo female who was electively admitted for a cranioplasty with doctor .\n",
      "immediately post-op she remained in the pacu overnight.\n",
      "overnight she voided 4l and received 1l ns bolus.\n",
      "pod 1 she was transferred to the floor.\n",
      "prior to transfer she was noted to have increase hr, low bp, and low urine output thus received 1l of ns.\n",
      "on the floor, she was oob to chair, tolerating a regular diet.\n",
      "she was neurologically intact and cleared for discharge on .\n",
      "medications on admission: fluticasone - (prescribed by other provider) - 50 mcg spray, suspension - 2 sprays(s) each nostril daily as needed for nasal congestion levetiracetam - 1,000 mg tablet - 1 tablet(s) by mouth twice a day - no substitution levetiracetam - 500 mg tablet - 1 tablet(s) by mouth at bedtime - no substitution levetiracetam - 250 mg tablet - 1 tablet(s) by mouth four times a day - no substitution oseltamivir - 75 mg capsule - one capsule(s) by mouth twice a day x 5 days venlafaxine - 50 mg tablet - one tablet(s) by mouth twice a day acetaminophen - (otc) - dosage uncertain ibuprofen - (otc) - 200 mg capsule - 1 capsule(s) by mouth once a day as needed for headache discharge medications: acetaminophen 325 mg tablet sig: 1-2 tablets po q4h (every 4 hours) as needed for pain/t>100/ha.\n",
      "bisacodyl 5 mg tablet, delayed release (e.c.)\n",
      "sig: two (2) tablet, delayed release (e.c.)\n",
      "po daily (daily) as needed for constipation.\n",
      "docusate sodium 100 mg capsule sig: one (1) capsule po bid (2 times a day).\n",
      "disp:*60 capsule(s)* refills:*2* hydromorphone 2 mg tablet sig: 1-2 tablets po q4h (every 4 hours) as needed for pain.\n",
      "disp:*30 tablet(s)* refills:*0* venlafaxine 25 mg tablet sig: two (2) tablet po bid (2 times a day).\n",
      "fluticasone 50 mcg/actuation spray, suspension sig: two (2) spray nasal daily (daily) as needed for nasal congestion.\n",
      "dexamethasone 2 mg tablet sig: one (1) tablet po q6h (every 6 hours) for 6 days: take 2mg q6hrs , take 2mg q12 , take 2mg q24 , then stop.\n",
      "disp:*16 tablet(s)* refills:*0* levetiracetam 500 mg tablet sig: 2.5 tablets po bid (2 times a day).\n",
      "discharge disposition: home discharge diagnosis: skull defect s/p cranioplasty discharge condition: neurologically stable discharge instructions: general instructions ??????\n",
      "have a friend/family member check your incision daily for signs of infection. ??????\n",
      "take your pain medicine as prescribed. ??????\n",
      "exercise should be limited to walking; no lifting, straining, or excessive bending. ??????\n",
      "you may wash your hair only after sutures and/or staples have been removed. ??????\n",
      "you may shower before this time using a shower cap to cover your head. ??????\n",
      "increase your intake of fluids and fiber, as narcotic pain medicine can cause constipation.\n",
      "we generally recommend taking an over the counter stool softener, such as docusate (colace) while taking narcotic pain medication. ??????\n",
      "unless directed by your doctor, do not take any anti-inflammatory medicines such as motrin, aspirin, advil, and ibuprofen etc. ??????\n",
      "clearance to drive and return to work will be addressed at your post-operative office visit.\n",
      "call your surgeon immediately if you experience any of the following ??????\n",
      "new onset of tremors or seizures. ??????\n",
      "any confusion or change in mental status. ??????\n",
      "any numbness, tingling, weakness in your extremities. ??????\n",
      "pain or headache that is continually increasing, or not relieved by pain medication. ??????\n",
      "any signs of infection at the wound site: redness, swelling, tenderness, or drainage. ??????\n",
      "fever greater than or equal to 101??????\n",
      "f. followup instructions: you will need to see the nurse practitioner 14 days post-operatively for suture removal.\n",
      "please call for the appointment.\n",
      "you will need to follow up with doctor in 4 weeks with a head ct of the brain.\n",
      "completed by:\n",
      "sex: m cardiac surgery chest pain, 3-vessel disease on catheterization.\n",
      "history of present illness: the patient is a 66-year-old male transferred from to the status post catheterization, revealing 3-vessel cardiac disease.\n",
      "the patient presented to with gradually increasing chest pain over the past three to four months to the point that he had chest pain with minimal exertion.\n",
      "past medical history: known coronary artery disease, status post catheterization 10 years ago at .\n",
      "heavy smoker.\n",
      "hypertension.\n",
      "gastroesophageal reflux disease/peptic ulcer disease.\n",
      "wegener granulomatosis with complete resolution.\n",
      "glaucoma.\n",
      "past surgical history: perforated ulcer.\n",
      "medications on admission: lisinopril 20 mg p.o.\n",
      "q.d.,\n",
      "prilosec 20 mg p.o.\n",
      "q.d.,\n",
      "cosopt eyedrops, alphagan eyedrops, travatan eyedrops, lansoprazole 50 mg p.o.\n",
      "q.d.\n",
      "allergies: no known drug allergies.\n",
      "hospital course: the patient underwent an elective coronary artery bypass graft times three on with grafts being a left internal mammary artery to left anterior descending artery, saphenous vein graft to ramus, and saphenous vein graft to posterior descending artery.\n",
      "he was extubated on the day of surgery.\n",
      "on postoperative day one, his nasogastric tubes were discontinued.\n",
      "he was transferred to the regular floor on postoperative day one.\n",
      "he subsequently had a smooth postoperative course.\n",
      "his pacing wires were discontinued on postoperative day three.\n",
      "by postoperative day, he was ambulating well.\n",
      "he was comfortable on p.o.\n",
      "pain medication, and he was ready for discharge home.\n",
      "medications on discharge: lasix 20 mg p.o.\n",
      "q.d. (\n",
      "for one week).\n",
      "kcl 20 meq p.o.\n",
      "q.d. (\n",
      "for one week).\n",
      "colace 100 mg p.o.\n",
      "b.i.d.\n",
      "zantac 150 mg p.o.\n",
      "b.i.d.\n",
      "enteric-coated aspirin 325 mg p.o.\n",
      "q.d.\n",
      "alphagan eyedrops.\n",
      "lopressor 50 mg p.o.\n",
      "b.i.d.\n",
      "nicoderm patch 22 mg q.d.\n",
      "percocet one to two tablets p.o.\n",
      "q.4-6h.\n",
      "p.r.n.\n",
      "die followup: follow up with primary care physician, . ,\n",
      "in two weeks and with doctor in four weeks.\n",
      "condition at discharge: condition on discharge was stable.\n",
      "discharge status: discharged to home. ,\n",
      "md dictated by: medquist36 d: 15:09 t: 15:31 job#:\n",
      "sex: m cardiac surgery chest pain, 3-vessel disease on catheterization.\n",
      "history of present illness: the patient is a 66-year-old male transferred from to the status post catheterization, revealing 3-vessel cardiac disease.\n",
      "the patient presented to with gradually increasing chest pain over the past three to four months to the point that he had chest pain with minimal exertion.\n",
      "past medical history: known coronary artery disease, status post catheterization 10 years ago at .\n",
      "heavy smoker.\n",
      "hypertension.\n",
      "gastroesophageal reflux disease/peptic ulcer disease.\n",
      "wegener granulomatosis with complete resolution.\n",
      "glaucoma.\n",
      "past surgical history: perforated ulcer.\n",
      "medications on admission: lisinopril 20 mg p.o.\n",
      "q.d.,\n",
      "prilosec 20 mg p.o.\n",
      "q.d.,\n",
      "cosopt eyedrops, alphagan eyedrops, travatan eyedrops, lansoprazole 50 mg p.o.\n",
      "q.d.\n",
      "allergies: no known drug allergies.\n",
      "hospital course: the patient underwent an elective coronary artery bypass graft times three on with grafts being a left internal mammary artery to left anterior descending artery, saphenous vein graft to ramus, and saphenous vein graft to posterior descending artery.\n",
      "he was extubated on the day of surgery.\n",
      "on postoperative day one, his nasogastric tubes were discontinued.\n",
      "he was transferred to the regular floor on postoperative day one.\n",
      "he subsequently had a smooth postoperative course.\n",
      "his pacing wires were discontinued on postoperative day three.\n",
      "by postoperative day, he was ambulating well.\n",
      "he was comfortable on p.o.\n",
      "pain medication, and he was ready for discharge home.\n",
      "medications on discharge: lasix 20 mg p.o.\n",
      "q.d. (\n",
      "for one week).\n",
      "kcl 20 meq p.o.\n",
      "q.d. (\n",
      "for one week).\n",
      "colace 100 mg p.o.\n",
      "b.i.d.\n",
      "zantac 150 mg p.o.\n",
      "b.i.d.\n",
      "enteric-coated aspirin 325 mg p.o.\n",
      "q.d.\n",
      "alphagan eyedrops.\n",
      "lopressor 50 mg p.o.\n",
      "b.i.d.\n",
      "nicoderm patch 22 mg q.d.\n",
      "percocet one to two tablets p.o.\n",
      "q.4-6h.\n",
      "p.r.n.\n",
      "die followup: follow up with primary care physician, . ,\n",
      "in two weeks and with doctor in four weeks.\n",
      "condition at discharge: condition on discharge was stable.\n",
      "discharge status: discharged to home. ,\n",
      "md dictated by: medquist36 d: 15:09 t: 15:31 job#:\n",
      "sex: m trauma surgery history of the present illness: mr.\n",
      "is a 37-year-old male who was stabbed by a four inch knife to the left upper abdomen.\n",
      "in the field, his blood pressure was 120/palpable, heart rate a pressure dressing was applied to the wound.\n",
      "reportedly, the knife penetrated about 1.5 inches.\n",
      "past medical history: hiv positive for 21 years.\n",
      "history of intravenous drug abuse.\n",
      "hypertension.\n",
      "congestive heart failure.\n",
      "right above the knee amputation after being hit by a truck in the past.\n",
      "tricuspid regurgitation.\n",
      "admission medications: epivir.\n",
      "ziagen.\n",
      "bactrim double strength.\n",
      "lasix.\n",
      "methadone.\n",
      "lopressor.\n",
      "prilosec.\n",
      "risperdal.\n",
      "aldactone.\n",
      "folate.\n",
      "multivitamins.\n",
      "thiamine.\n",
      "allergies: the patient has an allergy to penicillin.\n",
      "physical examination on admission: vital signs: temperature 97.3, heart rate 116, blood pressure 140/palpable, respiratory rate 16, pulse oximetry of 100%.\n",
      "general: he was alert and oriented times three with a gcs of heent: normocephalic, atraumatic.\n",
      "extraocular motions were intact.\n",
      "the pupils were equal, round, and reactive to light and accommodation.\n",
      "the oropharynx was clear.\n",
      "the tms were clear.\n",
      "chest: clear to auscultation bilaterally with no subcutaneous air noted.\n",
      "cardiac: no murmurs, rubs, or gallops.\n",
      "regular rate and rhythm.\n",
      "abdomen: there was a 1.5 cm left upper quadrant wound, otherwise diffusely tender.\n",
      "back: no step-off.\n",
      "no deformities.\n",
      "nontender.\n",
      "extremities: a right above the knee amputation with prosthesis.\n",
      "left leg with chronic venostasis changes.\n",
      "rectal: good tone.\n",
      "contaminated by external blood.\n",
      "neurological: no focal deficits.\n",
      "laboratory data upon admission: chemistries generally normal with creatinine of 1.\n",
      "blood gas 7.39/49/341/31/4, lactate 2.5, amylase 107, fibrinogen pt 15.8, ptt 36.1, inr 1.\n",
      "his white blood count was 5.1, hematocrit 34.\n",
      "urine toxicology was not performed.\n",
      "a chest x-ray was within normal limits, status post left subclavian line placement which was in place.\n",
      "hospital course: the patient was taken to the operating room for wound exploration directly from the trauma room.\n",
      "the patient was taken to the operating room, as mentioned above, for an exploratory laparotomy, extensive lysis of adhesions, and control of rectus and omental bleeding.\n",
      "the estimated blood loss was approximately 1,000 cc.\n",
      "please see the operative note dictated by doctor on for complete report.\n",
      "the patient was then transferred to the sicu where his coagulopathy was corrected.\n",
      "he received 4 units of packed red cells, 4 units of ffp, and 1 cryoprecipitate.\n",
      "while on the unit, he was extubated on , sicu day number three and he was noted to have progressive thrombocytopenia.\n",
      "his home p.o.\n",
      "medications were restarted as well.\n",
      "on , hospital day number four, the patient was transferred to the floor.\n",
      "his diet was advanced and he was placed on an aggressive bowel regimen to get his bowels moving postsurgically.\n",
      "the pain service was also consulted because of the patient's history of narcotic abuse and his continued complaints of pain.\n",
      "they recommended increasing his dose of klonopin and starting msir.\n",
      "on hospital day number five, the patient was noted to have a heparin-induced antibody which may be one of the reasons he was coagulopathic on admission, although his hiv disease and other drug abuse cannot be ruled out as cause.\n",
      "his platelet count remained relatively stable, however, as did his hematocrit.\n",
      "by hospital day number six, the patient was doing somewhat better; however, after being noted to be somewhat sedated, his klonopin dose as well as msir and methadone were decreased.\n",
      "the patient did work with physical therapy and was able to ambulate, hop a bit out of bed.\n",
      "additionally, case management spoke with the patient's long-term nurse practitioner, who stated that at baseline he normally uses a wheelchair and occasionally walks on his prosthesis.\n",
      "additionally, the nurse practitioner stated that the patient does chronically abuse drugs, both prescriptions and illicits, and advised not to give the patient any pain prescriptions upon discharge as he had more than enough at home.\n",
      "it was also discussed that the patient would often try to prolong his hospital courses in the past in an attempt to get more narcotics.\n",
      "on the date of discharge, the patient will be set up with vna services for home to change his dressings.\n",
      "he will also be instructed to follow-up with his primary care doctor or trauma clinic to have the staples removed from his abdominal wound.\n",
      "condition on discharge: stable.\n",
      "discharge status: discharged to home with services.\n",
      "discharge medications: same as on admission.\n",
      "follow-up plans: as mentioned above, with the trauma clinic and his primary care doctor. ,\n",
      "md dictated by: medquist36 d: 11:15 t: 08:56 job#:\n"
     ]
    }
   ],
   "source": [
    "for s in sentences:\n",
    "    print(s.text)"
   ]
  },
  {
   "cell_type": "code",
   "execution_count": 27,
   "id": "c10fdcbd",
   "metadata": {},
   "outputs": [],
   "source": [
    "# join list of lists\n",
    "training_sentences = [item for sublist in training_sentences for item in sublist]"
   ]
  },
  {
   "cell_type": "code",
   "execution_count": 28,
   "id": "39ec8816",
   "metadata": {},
   "outputs": [
    {
     "data": {
      "text/plain": [
       "['addendum: radiologic studies: radiologic studies also included a chest ct, which confirmed cavitary lesions in the left lung apex consistent with infectious process/tuberculosis.',\n",
       " 'this also moderate-sized left pleural effusion.',\n",
       " 'head ct: head ct showed no intracranial hemorrhage or mass effect, but old infarction consistent with past medical history.',\n",
       " 'abdominal ct: abdominal ct showed lesions of t10 and sacrum most likely secondary to osteoporosis.',\n",
       " 'these can be followed by repeat imaging as an outpatient. ,',\n",
       " 'md dictated by: medquist36 d: 12:11 t: 12:21 job#:',\n",
       " 'sex: f micu and then to medicine history of present illness: this is an 81-year-old female with a history of emphysema (not on home o2), who presents with three days of shortness of breath thought by her primary care doctor to be a copd flare.',\n",
       " 'two days prior to admission, she was started on a prednisone taper and one day prior to admission she required oxygen at home in order to maintain oxygen saturation greater than 90%.',\n",
       " 'she has also been on levofloxacin and nebulizers, and was not getting better, and presented to the emergency room.',\n",
       " 'in the emergency room, her oxygen saturation was 100% on cpap.',\n",
       " 'she was not able to be weaned off of this despite nebulizer treatment and solu-medrol 125 mg iv x review of systems is negative for the following: fevers, chills, nausea, vomiting, night sweats, change in weight, gastrointestinal complaints, neurologic changes, rashes, palpitations, orthopnea.',\n",
       " 'is positive for the following: chest pressure occasionally with shortness of breath with exertion, some shortness of breath that is positionally related, but is improved with nebulizer treatment. past medical history: copd.',\n",
       " 'last pulmonary function tests in demonstrated a fvc of 52% of predicted, a fev1 of 54% of predicted, a mmf of 23% of predicted, and a fev1:fvc ratio of 67% of predicted, that does not improve with bronchodilator treatment.',\n",
       " 'the fvc, however, does significantly improve with bronchodilator treatment consistent with her known reversible air flow obstruction in addition to an underlying restrictive ventilatory defect.',\n",
       " 'the patient has never been on home oxygen prior to this recent episode.',\n",
       " 'she has never been on steroid taper or been intubated in the past. lacunar cva.',\n",
       " 'mri of the head in demonstrates mild degree of multiple small foci of high t2 signal within the white matter of both cerebral hemispheres as well as the pons, in the latter region predominantly to the right of midline.',\n",
       " 'the abnormalities, while nonspecific in etiology, are most likely secondary to chronic microvascular infarction.',\n",
       " 'there is no mass, lesion, shift of the normal midline strictures or hydrocephalus.',\n",
       " 'the major vascular flow patterns are preserved.',\n",
       " 'there is moderate right maxillary, moderate bilateral ethmoid, mild left maxillary, minimal right sphenoid, and frontal sinus mucosal thickening.',\n",
       " 'these abnormalities could represent an allergic or some other type of inflammatory process.',\n",
       " 'additionally noted is a moderately enlarged subtotally empty sella turcica.',\n",
       " 'angina: most recent stress test was in going for four minutes with a rate pressure product of 10,000, 64% of maximum predicted heart rate without evidence of ischemic ekg changes or symptoms.',\n",
       " 'the imaging portion of the study demonstrated no evidence of myocardial ischemia and a calculated ejection fraction of 84%.',\n",
       " 'the patient denies angina at rest and gets angina with walking a few blocks.',\n",
       " 'are alleviated by sublingual nitroglycerin. hypothyroidism on synthroid. depression on lexapro.',\n",
       " 'motor vehicle accident with head injury approximately 10 years ago.',\n",
       " 'medications on admission: hydrochlorothiazide 25 q.d.',\n",
       " 'prednisone 60 mg, 50 mg, 40 mg, 20 mg. levofloxacin 500 mg q.d. imdur 60 mg q.d. synthroid 75 mcg q.d. pulmicort nebulizer b.i.d. albuterol nebulizer q.prn. lexapro 10 mg q.d. protonix 40 mg q.d. aspirin 81 mg q.d.',\n",
       " 'allergies: norvasc leads to lightheadedness and headache.',\n",
       " 'family history: noncontributory.',\n",
       " 'social history: lives with her husband, doctor an eminent pediatric neurologist at .',\n",
       " 'the patient is a prior smoker, but has not smoked in over 10 years.',\n",
       " 'she has no known alcohol use and she is a full code.',\n",
       " 'physical exam at time of admission: blood pressure 142/76, heart rate 100 and regular, respirations at 17-21, and 97% axillary temperature.',\n",
       " 'she was saturating at 100% on cpap with dry mucous membranes.',\n",
       " 'an elderly female in no apparent distress.',\n",
       " 'pupils are equal, round, and reactive to light and accommodation.',\n",
       " 'extraocular movements are intact.',\n",
       " 'oropharynx difficult to assess due to cpap machine.',\n",
       " 'no evidence of jugular venous pressure, however, the strap from the cpap machine obscures the neck exam.',\n",
       " 'cranial nerves ii through xii are grossly intact.',\n",
       " 'neck is supple without lymphadenopathy.',\n",
       " 'heart exam: tachycardic, regular, obscured by loud bilateral wheezing with increase in the expiratory phase as well as profuse scattered rhonchi throughout the lung fields.',\n",
       " 'positive bowel sounds, soft, nontender, nondistended, obese, no masses.',\n",
       " 'mild edema of the lower extremities without clubbing or cyanosis, no rashes.',\n",
       " 'there is a right hand hematoma.',\n",
       " 'strength is assessed as in the lower extremities, in the upper extremities with a normal mental status and cognition.',\n",
       " 'laboratory studies: white count 19, hematocrit 41, platelets chem-7: 127, 3.6, 88, 29, 17, 0.6, troponin was negative.',\n",
       " 'cks were negative times three.',\n",
       " 'initial blood gas showed a ph of 7.4, po2 of 66, pco2 of chest x-ray demonstrates a moderate sized hiatal hernia, segmental atelectasis, left lower lobe infiltrate versus segmental atelectasis.',\n",
       " 'ekg shows normal sinus rhythm at 113 beats per minute, normal axis, no evidence of st-t wave changes.',\n",
       " 'brief summary of hospital course: copd/dyspnea/pneumonia: the patient was initially placed on an aggressive steroid taper and admitted to the medical intensive care unit due to her difficulty with oxygenation despite cpap machine.',\n",
       " 'she was also given nebulizer treatments q.4h. as well as chest pt.',\n",
       " 'the nebulizers were increased to q.1h.',\n",
       " 'due to the fact that she continued to have labored breathing.',\n",
       " 'due to persistent respiratory failure and labored breathing, the patient was intubated on in order to improve oxygenation, ventilation, and ability to suction.',\n",
       " 'a bronchoscopy was performed on , which demonstrated marked narrowing of the airways with expiration consistent with tracheomalacia.',\n",
       " 'on , two silicone stents were placed, one in the left main stem (12 x 25 and one in the trachea 16 x 40) by doctor under rigid bronchoscopy with general anesthesia.',\n",
       " 'on , the patient was extubated to a cool mist shovel mask and her oxygen was titrated down to 2 liters nasal cannula at which time she was transferred to the medical floor.',\n",
       " 'on the medical floor, the steroids were weaned to off on , and the patient was saturating at 97% on 2 liters, 92% on room air.',\n",
       " \"on , the patient was seen again by the interventional pulmonology service, who agreed that she looked much improved and recommended that she go to pulmonary rehabilitation with followup within six weeks' time status post placement of stents in respiratory failure.\",\n",
       " 'cardiovascular: the patient was ruled out for a mi.',\n",
       " 'she did have another episode on the medical floor of chest pain, which showed no evidence of ekg changes and negative troponin, negative cks x she was continued on aspirin, imdur, and diltiazem for rate control per her outpatient regimen.',\n",
       " 'hypertension: she was maintained on diltiazem and hydrochlorothiazide with adequate blood pressure control and normalization of electrolytes.',\n",
       " 'hematuria: the patient had intermittent hematuria likely secondary to foley placement.',\n",
       " 'the foley catheter was discontinued on .',\n",
       " 'she had serial urinalyses, which were all negative for signs of infection.',\n",
       " 'hyperglycemia: patient was placed on insulin-sliding scale due to hyperglycemia, which was steroid induced.',\n",
       " 'this worked quite well and her glucose came back to normal levels once the steroids were tapered to off.',\n",
       " 'leukocytosis: patient did have a profound leukocytosis of 20 to 22 during much of her hospital course.',\n",
       " 'as the steroids were tapered to off, her white blood cell count on was 15, it was felt that the leukocytosis was secondary to both steroids as well as question of a left lower lobe pneumonia.',\n",
       " 'for the left lower lobe pneumonia, the patient had initially received a course of levofloxacin 500 p.o. q.d. from to .',\n",
       " 'this was restarted on for an additional seven day course given the fact that she still had the leukocytosis and still had marked rales at the left lower lobe.',\n",
       " 'hypothyroidism: the patient was continued on outpatient medical regimen.',\n",
       " 'depression: the patient was continued on lexapro per outpatient regimen.',\n",
       " 'it is recommended that she follow up with a therapist as an outpatient due to the fact that she did have a blunted affect throughout much of the hospital course, and did appear clinically to be depressed.',\n",
       " 'prophylaxis: she was maintained on proton-pump inhibitor with subq heparin.',\n",
       " 'sore throat: the patient did have a sore throat for much of the hospital course post extubation.',\n",
       " 'this was treated with cepacol lozenges as well as kbl liquid (a solution containing kaopectate, bismuth, and lidocaine) at bedtime.',\n",
       " 'communication/code status: the patient was full code throughout her hospital course, and communication was maintained with the patient and her husband.',\n",
       " 'muscle weakness: the patient did have profound muscle weakness and was evaluated by physical therapy, and was found to have impaired functional mobility, impaired musculoskeletal performance, impaired gas exchange, impaired endurance, impaired ventilation, and needed help with supine to sit.',\n",
       " 'however, she was able to tolerate sitting in a chair for approximately one hour.',\n",
       " 'on motor exam, her flexors and extensors of the lower extremities were at the knee, at the ankle, at the elbows, and hips.',\n",
       " 'it was felt that this weakness was most likely due to a combination of steroid myopathy as well as muscle atrophy secondary to deconditioning after a prolonged hospital course.',\n",
       " 'speech/swallow: the patient had a speech and swallow evaluation showing no evidence of dysphagia, no evidence of vocal cord damage status post tracheal stent placement.',\n",
       " 'discharge condition: the patient was able to oxygenate on room air at 93% at the time of discharge.',\n",
       " 'she was profoundly weak, but was no longer tachycardic and had a normal blood pressure.',\n",
       " 'her respirations were much improved albeit with transmitted upper airway sounds.',\n",
       " 'discharge status: the patient will be discharged to for both pulmonary and physical rehabilitation.',\n",
       " 'discharge medications: levothyroxine 75 mcg p.o. q.d. citalopram 10 mg p.o. q.d. aspirin 81 mg p.o. q.d.',\n",
       " 'fluticasone 110 mcg two puffs inhaled b.i.d.',\n",
       " 'salmeterol diskus one inhalation b.i.d. acetaminophen 325-650 mg p.o. q.4-6h. prn.',\n",
       " 'ipratropium bromide mdi two puffs inhaled q.2h. prn.',\n",
       " 'albuterol 1-2 puffs inhaled q.2h. prn. zolpidem tartrate 5 mg p.o. q.h.s. prn.',\n",
       " 'isosorbide dinitrate 10 mg p.o. t.i.d. diltiazem 60 mg p.o. q.i.d. pantoprazole 40 mg p.o. q.24h. trazodone 25 mg p.o. q.h.s. prn.',\n",
       " 'subq heparin 5000 units subcutaneous b.i.d.',\n",
       " 'until such time that the patient is able to get out of bed twice a day. cepacol lozenges q.2h. prn. levofloxacin 500 mg p.o. q.d.',\n",
       " 'for a seven day course to be completed on .',\n",
       " 'kaopectate/benadryl/lidocaine 5 ml p.o. b.i.d.',\n",
       " 'prn, not to be given around mealtimes for concern of dysphagia induced by lidocaine. lorazepam 0.5-2 mg iv q.6h. prn.',\n",
       " 'follow-up plans: the patient is recommended to followup with doctor , within two weeks of leaving of the hospital.',\n",
       " 'she is also recommended to followup with the interventional pulmonary service for followup status post stent placement.',\n",
       " 'she is also recommended to followup with a neurologist if her muscle weakness does not improve within one week on physical therapy with concern for steroid-induced myopathy.',\n",
       " 'final diagnoses: tracheomalacia status post tracheal and left main stem bronchial stent placement. hypertension. hypothyroidism. restrictive lung defect. depression.',\n",
       " 'doctor, 12-207 dictated by: medquist36 d: 11:30 t: 11:33 job#:',\n",
       " 'sex: m medicine allergies: patient recorded as having no known allergies to drugs attending: mr.',\n",
       " 'was seen at after a mechanical fall from a height of 10 feet.',\n",
       " 'ct scan noted unstable fracture of c6-7 & posterior elements.',\n",
       " 'major surgical or invasive procedure: anterior cervical osteotomy, c6-c7, with decompression and excision of ossification of the posterior longitudinal ligament.',\n",
       " 'anterior cervical deformity correction. interbody reconstruction.',\n",
       " 'anterior cervical fusion, c5-c6-cplate instrumentation, c5-c6-ccervical laminectomy c6-c7, tposterior cervical arthrodesis c4-tcervical instrumentation c4-tarthrodesis augmentation with autograft, allograft and demineralized bone matrix.',\n",
       " 'history of present illness: mr.',\n",
       " 'is a 82 year old male who had a slip and fall of approximately 10 feet from a balcony.',\n",
       " 'he was ambulatory at the scene.',\n",
       " 'he presented to the ed here at .',\n",
       " 'ct scan revealed unstable c spine fracture.',\n",
       " 'he was intubated secondary to agitation.',\n",
       " 'patient admitted to trauma surgery service past medical history: coronary artery disease s/p cabg chf htn aicd atrial fibrillation stroke social history: patient recently discharged from for severe depression.',\n",
       " 'family reports patient was very sad and attempted to kill himself by wrapping a telephone cord around his neck.',\n",
       " 'lives with his elderly wife, worked as a chemist in .',\n",
       " 'family history: non contributory physical exam: phycial exam prior to surgery was not obtained since patient was intubated and sedated.',\n",
       " 'post surgical physical exam: (tsicu per surgery team) breathing without assistance nad vitals: t 97.5, hr 61, bp 145/67, rr22, sao2 98 a-fib, rate controlled abd soft non-tender anterior/posterior cervical incisions pt is edemitous in all four extremities, no facial edema able to grossly move all four extremities, neurointact to light touch distal pulses weakly intact medicine consult: vs: tm/c 98.9 142/70 61 20 96%ra i/o bm yesterday 220/770 gen: awake, calm, cooperative and pleasant, lying in bed neck: c-collar removed cv: irregular, normal s1, sno m/r/g. lungs: cta anteriolry abd: obese, soft, ntnd, decreased bs ext: trace b/l le edema, 1+ ue edema neuro/cognition: thought , 8, not to place, pertinent results: admission labs wbc-8.4 rbc-4.43* hgb-11.9* hct-38.6* mcv-87 mch-26.9* mchc-30.9* rdw-17.3* plt ct-191 pt-20.4* ptt-28.1 inr(pt)-1.9* ck(cpk)-183* amylase-70 calcium-8.5 phos-2.0* mg-1.9 glucose-121* lactate-2.3* na-140 k-4.3 cl-101 calhco3-26 radiology ct scan c spine : impression: fracture of the c6 as described involving the right pedicle (extending to the inferior facet) and left lamina.',\n",
       " 'anterior widening at the c6-7 disc space and mild widening of left c6-7 facet also noted.',\n",
       " 'prevertebral hematoma at c6 with likely rupture of the anterior longitudinal ligament.',\n",
       " 'lucency in the right posterior c1 ring may represent a chronic injury.',\n",
       " 'likely old avulsion fracture at t2 pedicle on the left.',\n",
       " 'ossification of both anterior and posterior longitudinal ligaments with compromise of the central spinal canal.',\n",
       " 'degenerative disease is further described above.',\n",
       " 'ct abdomen/pelvis () impression: no acute injuries in the chest, abdomen, or pelvis.',\n",
       " 'three discrete pleural fluid collections in the right hemithorax, likely pseudotumors.',\n",
       " 'small hypodense lesion in the pancreatic body is of unclear etiology, may represent pseudicyst or cystic tumor.',\n",
       " 'further evaluation with mri may be performed on a non- emergent basis. bilateral renal cysts.',\n",
       " 'foley catheter balloon inflated within the prostatic urethra.',\n",
       " 'recommend emergent repositioning.',\n",
       " 'ct sinus/maxillofacial () bilateral nasal bone fractures.',\n",
       " 'left frontal scalp hematoma with preseptal soft tissue swelling.',\n",
       " 'question foreign body anterior to the left globe.',\n",
       " 'recommend clinical correlation.',\n",
       " 'small amount of extraconal hematoma in the superior aspect of the left orbit.',\n",
       " 'linear lucency in the right posterior ring of ccorrelate with ct c- spine performed concurrently.',\n",
       " 'head ct () no acute intracranial hemprrhage. left frontal scalp hematoma. nasal bone fractures.',\n",
       " 'recommend correlation with report from facial bone ct scan.',\n",
       " 'lucency in the right posterior ring of cplease refer to dedeicated ct c-spine for further detail.',\n",
       " 'left cerebellar encephalomalacia, likely due to old infarction.',\n",
       " 'chest the dobbhoff tube passes below the diaphragm with its tip most likely terminating in the stomach.',\n",
       " 'the bilateral pacemakers are demonstrated with one lead terminating in right atrium and three leads terminating in right ventricle.',\n",
       " 'the patient is in mild pulmonary edema with no change in the loculated pleural fluid within the major fissure.',\n",
       " 'ct head a tiny amount of intraventricular hemorrhage layers along the occipital horns of the ventricles bilaterally. recommend followp imaging.',\n",
       " 'left frontal scalp hematoma has decreased in size.',\n",
       " 'unchanged left cerebellar encephalomalacia.',\n",
       " 'nasal bone fractures are better evaluated on dedicated maxillofacial ct.',\n",
       " 'right shoulder x-ray () mild glenohumeral and acromioclavicular joint osteoarthritis.',\n",
       " 'nonspecific ossification projecting over the upper margin of the scapular body and adjacent to the lesser tuberosity.',\n",
       " 'diagnostic considerations include the sequela of chronic calcific bursitis, intraarticular bodies, and/or calcific tendinitis of the subscapularis tendon.',\n",
       " 'increased opacity projecting over the right hemithorax and minor fissure, better delineated on recent chest radiographs and chest ct right upper extremity ultrasound () deep venous thrombosis in the right axillary vein, extending proximally into the right subclavian vein, and distally to involve the brachial veins, portion of the basilic vein, and the right cephalic vein.',\n",
       " 'likely 2.0 cm left axillary lymph node, with unusual son features somewhat suspicious for malignancy.',\n",
       " 'followup ultrasound is recommended in 4 weeks, and fna/biopsy may be considered at that time if no interval improvement.',\n",
       " 'ct abdomen with iv contrast: there are small-to-moderate bilateral pleural effusions, on the right with a loculated appearance.',\n",
       " 'there is associated compressive atelectasis.',\n",
       " 'the visualized portion of the heart suggests mild cardiomegaly.',\n",
       " 'there is no pericardial effusion.',\n",
       " 'there is a 9-mm hypoattenuating, well-defined lesion in the left lobe of the liver (2:12) too small to accurately characterize but statistically most likely representing a cyst.',\n",
       " 'there are bilateral, partially exophytic renal cysts. the spleen is normal in size.',\n",
       " 'there is a 5-mm hypoattenuating focus in the pancreatic body, most likely representing focal fat.',\n",
       " 'the gallbladder and adrenal glands are unremarkable.',\n",
       " 'an ng tube terminates in the stomach. there is no ascites.',\n",
       " 'the large and small bowel loops appear unremarkable without wall thickening or pneumatosis.',\n",
       " 'oral contrast material has passed into the ascending colon without evidence of obstruction.',\n",
       " 'there is no ascites and no free air.',\n",
       " 'there is a small pocket of air in the left rectus muscle, tracking over a distance of approximately 10 cm.',\n",
       " 'ct pelvis with iv contrast: the pelvic small and large bowel loops, collapsed bladder containing foley catheter and seminal vesicles appear unremarkable.',\n",
       " 'the prostate is enlarged, measuring 5.9 cm in transverse diameter.',\n",
       " 'the rectum contains a moderate amount of dried stool.',\n",
       " 'there is no free air or free fluid.',\n",
       " 'bone windows: no suspicious lytic or sclerotic lesions.',\n",
       " 'there is dish of the entire visualized thoracolumbar spine.',\n",
       " 'there also are degenerative changes about the hip joints with large acetabular osteophytes.',\n",
       " 'impression: stable bilateral pleural effusions, loculated on the right.',\n",
       " 'new focus of air tracking within the left rectus muscle with associated tiny amount of extraperitoneal air (2:53).',\n",
       " 'no associated stranding or fluid collection.',\n",
       " 'please correlate clinically if this could be iatrogenic, such as due to s.q. injections.',\n",
       " '5-mm hypoattenuating focus in the pancreatic body.',\n",
       " 'this could represent focal fat, although a cystic tumor cannot be excluded.',\n",
       " 'if this is of concern, then mri is again recommended for further evaluation.',\n",
       " 'hypoattenuating focus in the left lobe of the liver, too small to accurately characterize.',\n",
       " 'bilateral partially exophytic renal cysts.',\n",
       " 'moderate amount of dried stool within the rectum.',\n",
       " 'a wet read was placed and the pertinent findings were discussed by doctor with doctor at 11:30 p.m. on .',\n",
       " 'video oropharyngeal swallow findings: real-time video fluoroscopic evaluation was performed after oral administration of thin and puree consistency of barium, in conjunction with the speech pathologist.',\n",
       " 'oral phase: normal bolus formation, bolus control, ap tongue movement, oral transit time, and no oral cavity residue.',\n",
       " 'pharyngeal phase: there is normal swallow initiation and velar elevation.',\n",
       " 'there is mild-to-moderate impairment of laryngeal elevation with absent epiglottic deflection.',\n",
       " 'there is moderate-to-severe increase in pharyngeal transit time.',\n",
       " 'there is residue in the valleculae and piriform sinuses with moderate impairment of bolus propulsion.',\n",
       " 'there was aspiration of both thin and puree barium.',\n",
       " 'impression: aspiration of thin liquids and puree.',\n",
       " \"for additional information, please see the speech and swallow therapist's report from the same day.\",\n",
       " 'ct head w/out: findings: there is a small amount of blood layering in the occipital horns of both lateral ventricles, unchanged though not as dense given evolution.',\n",
       " 'no new hemorrhage is identified.',\n",
       " 'the ventricles, cisterns, and sulci are enlarged secondary to involutional change.',\n",
       " 'periventricular white matter hyperdensities are sequelae of chronic small vessel ischemia.',\n",
       " 'encephalomalacia in the left cerebellar hemisphere secondary to old infarction is unchanged.',\n",
       " 'the osseous structures are unremarkable.',\n",
       " 'the visualized paranasal sinuses and mastoid air cells are clear.',\n",
       " 'skin staples are noted along the superior- posterior neck secondary to recent spinal surgery.',\n",
       " 'impression: no interval change with a very small intraventricular hemorrhage.',\n",
       " 'no discharge labs as patient cmo. brief hospital course: mr.',\n",
       " 'was seen at after his fall from a height of approximatly 10 feet.',\n",
       " 'ct scans of his chest, abdomen and pelvis were negative for pathology.',\n",
       " 'ct scan of his c-spine showed fracture of anterior and posterior elements at c6- he was also shown to have a right nasal bone fracture. c-spine fracture: mr.',\n",
       " 'two surgical procedures to stabilized his c-spine. :',\n",
       " 'anterior cervical decompression/fusion at c6- : cervical laminectomy c6-c7 & t1 with posterior cervical arthrodesis c4-t he tolerated the procedures well.',\n",
       " 'he was extubated without complication.',\n",
       " 'after his surgical procedures, mr.',\n",
       " 'was transfered to the medicine service at for his medical care.',\n",
       " 'while on the medicine service, patient was found to be persistently aspirating and failed his speech and swallow evaluation.',\n",
       " 'patient and family were not interested in an ng tube or peg for nutrition.',\n",
       " 'patient also developed a venous clot of the right upper extremity and the decision was made to not proceed with medical treatment.',\n",
       " 'goals of care were changed to comfort measures only.',\n",
       " 'a foley was placed after patient had difficulty with urinary retention and straight cathing.',\n",
       " 'a palliative care consult was obtained for symptom management and patient was discharged to hospice with morphine, olanzapine, and a foley in place for symptomatic relief.',\n",
       " 'medications on admission: coumadin seroquel docusate metoprolol folate lovastatin captopril asa ipratroium inhaler ferrous sulfate furosemide citalopram isosorbide meprazole discharge medications: bisacodyl 10 mg suppository sig: suppositorys rectal daily (daily) as needed for constipation.',\n",
       " 'ipratropium bromide 0.02 % solution sig: one (1) nebulizer inhalation q6h (every 6 hours) as needed for wheezing.',\n",
       " 'albuterol sulfate 2.5 mg/3 ml solution for nebulization sig: one (1) solution inhalation q6h (every 6 hours) as needed for wheezing.',\n",
       " 'morphine concentrate 20 mg/ml solution sig: 5-10 mg po q4h (every 4 hours) as needed for pain: may shorten interval as needed to control pain.',\n",
       " 'olanzapine 5 mg tablet, rapid dissolve sig: 0.5 tablet, rapid dissolve po qhs (once a day (at bedtime)) as needed for agitation.',\n",
       " 'tamsulosin 0.4 mg capsule, sust.',\n",
       " 'release 24 hr sig: one (1) capsule, sust.',\n",
       " 'release 24 hr po daily (daily): may be discontinued if patient not tolerating pills or refusing to take.',\n",
       " 'discharge disposition: extended care facility: of discharge diagnosis: cervical spondylosis with calcification of posterior longitudinal ligament.',\n",
       " 'fracture dislocation c6-cossification of the posterior longitudinal ligament.',\n",
       " 'aspiration pneumonia cervical spondylosis with calcification of posterior longitudinal ligament.',\n",
       " 'fracture dislocation c6-cossification of the posterior longitudinal ligament.',\n",
       " 'aspiration pneumonia cervical spondylosis with calcification of posterior longitudinal ligament.',\n",
       " 'fracture dislocation c6-cossification of the posterior longitudinal ligament.',\n",
       " 'aspiration pneumonia discharge condition: stable to outside facility discharge instructions: patient has been made cmo at the request of him and his family.',\n",
       " 'he has a foley placed for urinary retention.',\n",
       " 'please use morphine as needed for pain and olanzapine as needed for agitiation.',\n",
       " 'patient has known history of aspiration documented on speech and swallow.',\n",
       " \"it is the patient and the family's wish for him to continue to eat and drink as desired.\",\n",
       " 'followup instructions: follow up with your primary care physician as needed.',\n",
       " \"sex: f neurosurgery allergies: no known allergies / adverse drug reactions attending: meningioma major surgical or invasive procedure: right craniotomy history of present illness: is a 62-year-old woman, with longstanding history of rheumatoid arthritis, probable sweet's syndrome, and multiple joint complications requiring orthopedic interventions.\",\n",
       " 'she was found to hve a right cavernous sinus and nasopharyngeal mass.',\n",
       " 'she underwent a biopsy of hte nasopharyngeal mass by doctor and the pathology, including flow cytometry, was reactive for t-cell lymphoid hyperplasia only.',\n",
       " 'she has a longstanding history of rheumatoid arthritis that involved small and large joints in her body.',\n",
       " 'her disease is currently controlled by abatacept, hydroxychloroquine, and methotrexate.',\n",
       " \"she also has a remote history of erythematous nodules at her shins, dermatosis (probable sweet's disease), severe holocranial headache with an intensity of , and dysphagia.\",\n",
       " 'but her symptoms resolved with treatment for autoimmune disease.',\n",
       " 'please refer additional past medical history, past surgical history, facial history, and social history to the initial note on .',\n",
       " 'she cam to the btc for discussion about management of her right cavernous sinus mass that extends into the middle cranial fossa.',\n",
       " \"she had a recent head ct at the and woman's hospital on , when she went for a consultation there.\",\n",
       " 'she is neurologically stable without headache, nausea, vomiting, seizure, imbalance, or fall.',\n",
       " 'she has no new systemic complaints.',\n",
       " 'her neurological problem started when she experienced frontal pressure-like sensations.',\n",
       " 'there was no temporal pattern; but they may occur more often in the evening.',\n",
       " 'she had fullness in her ear and she also had a cold coinciding to the onset of her headache.',\n",
       " 'by late and early , she also developed a sharp pain intermittently in the right temple region.',\n",
       " 'she did not have nausea, vomiting, blurry vision, imbalance, or fall.',\n",
       " 'a gadolinium-enhanced head mri, performed at on , showed a bright mass involving the cavernous sinus.',\n",
       " 'past medical history: she has a history of rheumatoid arthritis unspecified dermatosis, right knee replacement, left hip replacement, and fusion of subtalar joint, and resection of a benign left parotid gland tumor.',\n",
       " 'social history: she is married.',\n",
       " 'she had smoked for approximately a year and a half when she was younger, but is not currently smoking.',\n",
       " 'she has approximately one glass of wine per week.',\n",
       " 'she is retired but was employed as a teacher.',\n",
       " 'family history: cancer, diabetes, hearing loss, and heart disease.',\n",
       " 'physical exam: af vss heent normal no lnn neck supple.',\n",
       " 'rrr cta nttp warm peripherals neurological examination: her karnofsky performance score is she is neurologically intact.',\n",
       " 'pertinent results: mri right middle cranial fossa mass likely represents a meningioma and is stable since mri of .',\n",
       " 'the previously seen midline nasopharyngeal mass has decreased in size since mri of .',\n",
       " 'direct visual inspection would be helpful for further assessment of the nasopharyngeal mass.',\n",
       " 'brief hospital course: patient presented electively for meningioma resection of .',\n",
       " 'she tolerated the procedure well and was extubated in the operating room.',\n",
       " 'she was trasnported to the icu post-operatively for management.',\n",
       " 'she had no complications and was transferred to the floor and observed for 24 hours.',\n",
       " 'prelim path is consistent with meningioma.',\n",
       " 'she has dissolvable sutures, and will need to come to neurosurgery clinic in days for wound check only.',\n",
       " 'she will need to be scheduled for brain tumor clinic.',\n",
       " 'she will complete decadron taper on and then restart her maintenance dose of prednisone.',\n",
       " 'she will also be taking keppra for seizure prophlyaxis.',\n",
       " 'her neurologic examination was intact with no deficits at discharge.',\n",
       " 'she was tolerating regular diet.',\n",
       " 'she should continue to take over the counter laxatives as needed.',\n",
       " 'medications on admission: bactrim, famotidine,folic acid, fosamax, lorezapam, methotrexate, mvi, orencia, plaquenil, prednisone 20qd discharge medications: hydroxychloroquine 200 mg tablet sig: one (1) tablet po daily (daily).',\n",
       " 'levetiracetam 500 mg tablet sig: one (1) tablet po bid (2 times a day).',\n",
       " 'disp:*60 tablet(s)* refills:*2* prednisone 10 mg tablet sig: two (2) tablet po daily (daily): start the day after decadron taper is complete-.',\n",
       " 'dexamethasone 0.5 mg tablet sig: four (4) tablet po q6h () for 2 days: take 4 tabs every 6 hours on and take 2 tabs every 6 hours on then stop.',\n",
       " 'disp:*20 tablet(s)* refills:*0* famotidine 20 mg tablet sig: one (1) tablet po bid (2 times a day).',\n",
       " 'disp:*60 tablet(s)* refills:*2* discharge disposition: home discharge diagnosis: brain lesion discharge condition: mental status: clear and coherent.',\n",
       " 'level of consciousness: alert and interactive.',\n",
       " 'activity status: ambulatory - independent. neuro exam intact.',\n",
       " 'discharge instructions: ??????',\n",
       " 'have a friend/family member check your incision daily for signs of infection. ??????',\n",
       " 'take your pain medicine as prescribed. ??????',\n",
       " 'exercise should be limited to walking; no lifting, straining, or excessive bending. ??????',\n",
       " 'you have dissolvable sutures, you must keep that area dry for 10 days. ??????',\n",
       " 'you may shower before this time using a shower cap to cover your head. ??????',\n",
       " 'increase your intake of fluids and fiber, as narcotic pain medicine can cause constipation.',\n",
       " 'we generally recommend taking an over the counter stool softener, such as docusate (colace) while taking narcotic pain medication. ??????',\n",
       " 'unless directed by your doctor, do not take any anti-inflammatory medicines such as motrin, aspirin, advil, and ibuprofen etc. ??????',\n",
       " 'if you have been prescribed dilantin (phenytoin) for anti-seizure medicine, take it as prescribed and follow up with laboratory blood drawing in one week.',\n",
       " 'this can be drawn at your pcp??????s office, but please have the results faxed to .',\n",
       " 'if you have been discharged on keppra (levetiracetam), you will not require blood work monitoring. ??????',\n",
       " 'if you are being sent home on steroid medication, make sure you are taking a medication to protect your stomach (prilosec, protonix, or pepcid), as these medications can cause stomach irritation.',\n",
       " 'make sure to take your steroid medication with meals, or a glass of milk. ??????',\n",
       " 'clearance to drive and return to work will be addressed at your post-operative office visit. ??????',\n",
       " 'make sure to continue to use your incentive spirometer while at home.',\n",
       " 'call your surgeon immediately if you experience any of the following ??????',\n",
       " 'new onset of tremors or seizures. ??????',\n",
       " 'any confusion or change in mental status. ??????',\n",
       " 'any numbness, tingling, weakness in your extremities. ??????',\n",
       " 'pain or headache that is continually increasing, or not relieved by pain medication. ??????',\n",
       " 'any signs of infection at the wound site: increasing redness, increased swelling, increased tenderness, or drainage. ??????',\n",
       " 'fever greater than or equal to 101??????',\n",
       " 'f. followup instructions: ??????',\n",
       " 'please return to the office in days (from your date of surgery) for a wound check.',\n",
       " 'this appointment can be made with the nurse practitioner.',\n",
       " 'please make this appointment by calling .',\n",
       " 'if you live quite a distance from our office, please make arrangements for the same, with your pcp.',\n",
       " 'sex: m neurosurgery allergies: no known allergies / adverse drug reactions attending: left sided brain lesion major surgical or invasive procedure: left craniotomy for mass resection history of present illness: is a 62-year-old left-handed man who is here for a follow up of his left sphenoid meningioma.',\n",
       " 'i last saw him on and his head ct showed growth of the left sphenoid meningioma. he is seizure free.',\n",
       " 'today, he is here with his wife and daughter.',\n",
       " 'does not have headache, nausea, vomiting, urinary incontinence, or fall.',\n",
       " 'his neurological problem began on when he became confused and disoriented in a hotel bathroom.',\n",
       " 'at that time, he was visiting his daughter for a wedding.',\n",
       " 'his wife found him slumped over in the bath tube.',\n",
       " 'according to her, his eyes looked funny. he could not stand up.',\n",
       " 'his verbal output did not make sense.',\n",
       " 'he was brought to hospital in placentia, ca.',\n",
       " 'he woke up 7 to 8 hours later in the emergency room.',\n",
       " 'he felt very tired after the event. he was hospitalized from to .',\n",
       " 'he had a cardiac pacemaker placement due to irregular heart rate and bradycardia.',\n",
       " 'he also had a head mri that showed a less than 1 cm diameter sphenoid meningioma.',\n",
       " 'past medical history: cardiac arrhythmia as noted above, has a pacemaker in place, prostate cancer with prostatectomy, and hypertension.',\n",
       " 'social history: lives with his wife.',\n",
       " 'retired, works parttime driving a school bus.',\n",
       " 'family history: nc physical exam: temperature is 97.8 f. his blood pressure is 150/ pulse is respiration is his skin has full turgor. heent is unremarkable. neck is supple.',\n",
       " 'cardiac examination reveals regular rate and rhythms. his lungs are clear.',\n",
       " 'his abdomen is soft with good bowel sounds.',\n",
       " 'his extremities do not show clubbing, cyanosis, or edema.',\n",
       " 'neurological examination: his karnofsky performance score is he is awake, alert, and oriented times there his language is fluent with good comprehension. his recent recall is intact.',\n",
       " 'cranial nerve examination: his pupils are equal and reactive to light, 4 mm to 2 mm bilaterally.',\n",
       " 'extraocular movements are full. there is no nystagmus.',\n",
       " 'visual fields are full to confrontation.',\n",
       " 'funduscopic examination reveals sharp disks margins bilaterally. his face is symmetric.',\n",
       " 'facial sensation is intact bilaterally.',\n",
       " 'his hearing is intact bilaterally. his tongue is midline.',\n",
       " 'palate goes up in the midline.',\n",
       " 'sternocleidomastoids and upper trapezius are strong.',\n",
       " 'motor examination: he does not have a drift.',\n",
       " 'his muscle strengths are at all muscle groups. his muscle tone is normal.',\n",
       " 'his reflexes are 0 in upper and lower extremities bilaterally. his ankle jerks are absent. his toes are down going.',\n",
       " 'sensory examination is intact to touch and proprioception.',\n",
       " 'coordination examination does not reveal dysmetria. his gait is normal. he can do tandem. he does not have a romberg.',\n",
       " 'physical exam upon discharge: non focal incision c/d/i, dissolvable sutures pertinent results: ct head: impression: likely meningioma along the greater of the left sphenoid bone, measuring 18 mm in diameter, unchanged since the most recent study of , with reactive bony changes, as above.',\n",
       " 'bifrontal cortical atrophy, which has progressed slightly over the series of studies since the earliest studies of .',\n",
       " 'ct head: impression: expected post-operative changes with the left frontal craniotomy including subcutaneous air and soft tissue swelling, moderate pneumocephalus overlying predominantly the bilateral frontal lobes, and foci of hemorrhage in the surgical bed.',\n",
       " 'no evidence of residual tumor on this non contrast ct.',\n",
       " 'cxr: findings: the lung volumes are rather low.',\n",
       " 'there is moderate cardiomegaly without evidence of overt pulmonary edema.',\n",
       " 'no areas of atelectasis or pneumonia.',\n",
       " 'right pectoral pacemaker in situ, with correct lead placement.',\n",
       " 'head ct /c contrast: impression: status post left frontal craniotomy changes with improvement of pneumocephalus and stable 3 mm left to right midline shift; focus of hemorrhage with/without residual tumor in the resection bed is similar in appearance to prior exam but now with more surrounding vasogenic edema.',\n",
       " 'stable appearance of subarachnoid hemorrhage.',\n",
       " 'followup to assess for residual tumor/ interval change.',\n",
       " 'brief hospital course: patient presented electively on for left sided craniotomy for mass resection.',\n",
       " 'he tolerated the procedure well and was taken to the trauma icu post-operatively still intubated.',\n",
       " 'shortly thereafter he was deemed fit for extubation which was done without difficulty.',\n",
       " 'at post-op check he was neurologically intact.',\n",
       " 'on he was neurologically intact and cleared for transfer to the stepdown unit.',\n",
       " 'this did not happen due to bed shortage.',\n",
       " 'a ct with contrast was ordered for post op evaluation.',\n",
       " 'on he was again stable and cleared for transfer to the floor. decadron taper was initiated.',\n",
       " 'he was seen by pt and cleared for discharge home.',\n",
       " \"on the patient was being prepped for discharge but was noted to have intermittent heart rate in the 130-170's. his other vitals were stable.\",\n",
       " 'electrophysiology was consulted and they recommended increasing the metoprolol xl dose to 100mg qday.',\n",
       " 'the patient was kept overnight to monitor this new dose.',\n",
       " 'on her remained stable neurologically and hemodynamically therefore he was cleared for discharge.',\n",
       " 'medications on admission: coumadin, keppra, toprol xl, diovan, zocor discharge medications: oxycodone 5 mg tablet sig: 1-2 tablets po q4h (every 4 hours) as needed for pain.',\n",
       " 'disp:*60 tablet(s)* refills:*0* senna 8.6 mg tablet sig: one (1) tablet po daily (daily).',\n",
       " 'docusate sodium 100 mg capsule sig: one (1) capsule po bid (2 times a day).',\n",
       " 'acetaminophen 325 mg tablet sig: two (2) tablet po q6h (every 6 hours) as needed for pain or fever > 101.valsartan 160 mg tablet sig: one (1) tablet po daily (daily).',\n",
       " 'simvastatin 10 mg tablet sig: two (2) tablet po daily (daily).',\n",
       " 'levetiracetam 250 mg tablet sig: three (3) tablet po bid (2 times a day).',\n",
       " 'pantoprazole 40 mg tablet, delayed release (e.c.)',\n",
       " 'sig: one (1) tablet, delayed release (e.c.) po q24h (every 24 hours).',\n",
       " 'disp:*30 tablet, delayed release (e.c.)(s)* refills:*2* metoprolol succinate 100 mg tablet extended release 24 hr sig: one (1) tablet extended release 24 hr po daily (daily).',\n",
       " 'disp:*30 tablet extended release 24 hr(s)* refills:*2* dexamethasone 2 mg tablet sig: taper tablet po taper for 6 days: 3mg q8hr on , then 2mg q8hr x2 day, 1mg q8hr x2 day, 1mg q12hr x1 day then d/c. disp:*qs tablet(s)* refills:*0* discharge disposition: home discharge diagnosis: left sided brain lesion discharge condition: mental status: clear and coherent.',\n",
       " 'level of consciousness: alert and interactive.',\n",
       " 'activity status: ambulatory - independent.',\n",
       " 'discharge instructions: general instructions/information ??????',\n",
       " 'have a friend/family member check your incision daily for signs of infection. ??????',\n",
       " 'take your pain medicine as prescribed. ??????',\n",
       " 'exercise should be limited to walking; no lifting, straining, or excessive bending. ??????',\n",
       " 'you have dissolvable sutures so you may wash your hair and get your incision wet day 3 after surgery.',\n",
       " 'you may shower before this time using a shower cap to cover your head. ??????',\n",
       " 'increase your intake of fluids and fiber, as narcotic pain medicine can cause constipation.',\n",
       " 'we generally recommend taking an over the counter stool softener, such as docusate (colace) & senna while taking narcotic pain medication. ??????',\n",
       " 'unless directed by your doctor, do not take any anti-inflammatory medicines such as motrin, aspirin, advil, and ibuprofen etc. ??????',\n",
       " 'if you have been discharged on keppra (levetiracetam), you will not require blood work monitoring. ??????',\n",
       " 'you are being sent home on steroid medication, make sure you are taking a medication to protect your stomach (prilosec, protonix, or pepcid), as these medications can cause stomach irritation.',\n",
       " 'make sure to take your steroid medication with meals, or a glass of milk. ??????',\n",
       " 'clearance to drive and return to work will be addressed at your post-operative office visit. ??????',\n",
       " 'make sure to continue to use your incentive spirometer while at home.',\n",
       " 'call your surgeon immediately if you experience any of the following ??????',\n",
       " 'new onset of tremors or seizures. ??????',\n",
       " 'any confusion or change in mental status. ??????',\n",
       " 'any numbness, tingling, weakness in your extremities. ??????',\n",
       " 'pain or headache that is continually increasing, or not relieved by pain medication. ??????',\n",
       " 'any signs of infection at the wound site: increasing redness, increased swelling, increased tenderness, or drainage. ??????',\n",
       " 'fever greater than or equal to 101??????',\n",
       " 'f. followup instructions: ??????',\n",
       " 'you need an appointment in the brain clinic.',\n",
       " 'the brain clinic is located on the of , in the building, . their phone number is .',\n",
       " 'they will call you with an appointment within the next 2 weeks.',\n",
       " 'please call if you do not hear from the, you need to change your appointment, or require additional directions. ??????',\n",
       " 'changes were made to your heart rate/blood pressure medication while you were in house.',\n",
       " 'you were seen by the cardiology team who made these recommendations.',\n",
       " 'please follow up with your pcp within one week to check your heart rate and blood pressure. completed by:',\n",
       " 'sex: f neurosurgery allergies: codeine attending: elective admission for radionecrosis resection due to radiosurgery of avm major surgical or invasive procedure: left craniotomy for radionecrosis resection history of present illness: presents for resection of radionecrosis s/p radiosurgery for avm past medical history: seizures,h/o radio therapy for avm has resid edema causing seizures; dysrhythmia (palps w/ panic attacks), recent upper respiratory infection social history: nc family history: nc physical exam: upon discharge: the patient was alert and oriented. she followed commands easily. perrl, eoms intact.',\n",
       " 'face symmetric, tongue midline.',\n",
       " 'strength was full throughout and sensation was intact to light touch.',\n",
       " 'incision was clean, dry, and intact.',\n",
       " 'pertinent results: 02:09pm glucose-161* urea n-10 creat-0.8 sodium-142 potassium-3.9 chloride-105 total co2-28 anion gap-13 02:09pm wbc-12.2*# rbc-4.03* hgb-11.5* hct-34.5* mcv-86 mch-28.4 mchc-33.2 rdw-13.3 pathology report from : diagnosis: brain, left frontal (a): vascular malformation consistent with arteriovenous malformation of cortical and white matter with radiation induced fibrinoid necrosis.',\n",
       " 'focal hemosiderin deposition suggesting prior hemorrhages.',\n",
       " 'left frontal radionecrosis and residual avm (b): vascular malformation consistent with arteriovenous malformation of cortical and white matter with radiation induced fibrinoid necrosis.',\n",
       " 'focal hemosiderin deposition suggesting prior hemorrhages. clinical: radionecrosis.',\n",
       " 'ct head post-op : findings: there is a left-sided frontal craniotomy with surgical resection of the enhancing mass noted in previous studies.',\n",
       " 'there is extensive confluent hypodensity in the left frontoparietal region, that likely represents post-radiation vasogenic edema with resultant 8.5-mm shift of normally-midline structures, not significantly changed from the previous mr.',\n",
       " 'there is a tiny focus of hyperdensity in the postoperative field which may represent a small amount of hemorrhage.',\n",
       " 'there is expost-operative pneumocephalus and subcutaneous air noted.',\n",
       " 'impression: status post left craniotomy and resection of avm and possible mass-like radiation necrosis, with small hyperdense focus in the operative bed, likely representing very small hemorrhage.',\n",
       " 'extensive vasogenic edema persists.',\n",
       " 'brief hospital course: post-operatively she was admitted to the icu for observation s/p resection.',\n",
       " 'her post-op head ct was negative for bleeding.',\n",
       " 'she remained intubated immediately post-op.',\n",
       " 'she was weaned and extubated on and did very well neurologically.',\n",
       " 'the patient was transferred out of the icu later that day.',\n",
       " 'she was ambulating without difficulty, her pain was well-controlled, and she was taking in food with no nausea/vomiting.',\n",
       " 'her post-operative mri was done on and showed expected post-operative changes. she was discharged on .',\n",
       " 'medications on admission: acetaminophen, effexor 50 , ibuprofen , keppra (levetiracetam) (25oomg discharge medications: docusate sodium 100 mg capsule sig: one (1) capsule po bid (2 times a day) as needed for constipation.',\n",
       " 'disp:*60 capsule(s)* refills:*0* venlafaxine 25 mg tablet sig: two (2) tablet po bid (2 times a day).',\n",
       " 'hydromorphone 2 mg tablet sig: 1-2 tablets po every six (6) hours as needed for pain: no driving while on this medication.',\n",
       " 'disp:*50 tablet(s)* refills:*0* pantoprazole 40 mg tablet, delayed release (e.c.)',\n",
       " 'sig: one (1) tablet, delayed release (e.c.) po q24h (every 24 hours).',\n",
       " 'disp:*30 tablet, delayed release (e.c.)(s)* refills:*2* dexamethasone 1 mg tablet sig: three (3) tablet po q8h (every 8 hours) for 1 doses: taper to 2mg tid x 3 doses on .',\n",
       " 'taper to 1mg tid x 3 doses on .',\n",
       " 'disp:*12 tablet(s)* refills:*0* she will continue her keppra and has a prescription at home.',\n",
       " 'discharge disposition: home discharge diagnosis: avm radionecrosis discharge condition: neurologically stable discharge instructions: discharge instructions for craniotomy/head injury ??????',\n",
       " 'have a family member check your incision daily for signs of infection ??????',\n",
       " 'take your pain medicine as prescribed ??????',\n",
       " 'exercise should be limited to walking; no lifting, straining, excessive bending ??????',\n",
       " 'you may wash your hair only after sutures have been removed ??????',\n",
       " 'you may shower before this time with assistance and use of a shower cap ??????',\n",
       " 'increase your intake of fluids and fiber as pain medicine (narcotics) can cause constipation ??????',\n",
       " 'unless directed by your doctor, do not take any anti-inflammatory medicines such as motrin, aspirin, advil, ibuprofen etc. ??????',\n",
       " 'if you have been prescribed an anti-seizure medicine, take it as prescribed and follow up with laboratory blood drawing in 7 days and fax results to . ??????',\n",
       " 'clearance to drive and return to work will be addressed at your post-operative office visit call your surgeon immediately if you experience any of the following: ??????',\n",
       " 'new onset of tremors or seizures ??????',\n",
       " 'any confusion or change in mental status ??????',\n",
       " 'any numbness, tingling, weakness in your extremities ??????',\n",
       " 'pain or headache that is continually increasing or not relieved by pain medication ??????',\n",
       " 'any signs of infection at the wound site: redness, swelling, tenderness, drainage ??????',\n",
       " 'fever greater than or equal to 101??????',\n",
       " 'f followup instructions: please return to the office in 8 days for removal of your sutures please call to schedule an appointment with doctor to be seen in 4 weeks.',\n",
       " 'you will need a cat scan of the brain without contrast prior to the appointment completed by:',\n",
       " 'sex: f neurosurgery allergies: codeine attending: skull defect major surgical or invasive procedure: s/p cranioplasty on history of present illness: 44 yo female with a h/o left frontal avm in the supplementary motor area.',\n",
       " 'the avm was treated with stereotactic radiosurgery (gamma knife)in .',\n",
       " 'in , the patient developed a seizure disorder.',\n",
       " 'she developed headaches and after an mri and a digital angiogram showed no residual pathological vessels, a contrast enhancing lesion with massive focal residual edema was diagnosed- very likely represents radionecrosis.',\n",
       " 'the patient had midline shift and mass effect.',\n",
       " 'on she had a left craniotomy for resection of the radionecrosis.',\n",
       " 'she then presented to the office in with increased left facial swelling and incision drainage, she was taken to the or for a wound washout and craniectomy.',\n",
       " 'she now returns for a cranioplasty after a long course of outpatient iv antibiotic therapy.',\n",
       " 'past medical history: seizures,h/o radio therapy for avm has resid edema causing seizures; dysrhythmia (palps w/ panic attacks), recent upper respiratory infection palpitations with panic attacks panic, anxiety depression h/o nephrolithiasis (at 20yrs old) tb as a child (treated) social history: married. lives with husband.',\n",
       " 'family history: non-contributory physical exam: on admission: aox3, perrl, face symm, tongue midline. eom intact w/o nystagmus. speech clear and fluent. comprehension intact. follows commands. no pronator.',\n",
       " 'mae upon discharge: aoxneuro intact. mae .',\n",
       " 'incision c/d/i. ambulating, tolerating pos pertinent results: ct head : (post-op) patient is status post left frontal cranioplasty.',\n",
       " 'persistent vasogenic edema in the left frontal lobe, unchanged.',\n",
       " 'no shift of normally midline structures or acute hemorrhage identified. *******************',\n",
       " '03:13pm wbc-13.8*# rbc-4.76 hgb-12.8 hct-37.6 mcv-79* mch-27.0 mchc-34.2 rdw-14.4 03:13pm plt count-555* 03:13pm calcium-9.2 phosphate-3.4 magnesium-2.3 03:13pm estgfr-using this 03:13pm glucose-128* creat-0.9 sodium-141 potassium-4.1 chloride-102 total co2-30 anion gap-13 brief hospital course: 44 yo female who was electively admitted for a cranioplasty with doctor .',\n",
       " 'immediately post-op she remained in the pacu overnight.',\n",
       " 'overnight she voided 4l and received 1l ns bolus.',\n",
       " 'pod 1 she was transferred to the floor.',\n",
       " 'prior to transfer she was noted to have increase hr, low bp, and low urine output thus received 1l of ns.',\n",
       " 'on the floor, she was oob to chair, tolerating a regular diet.',\n",
       " 'she was neurologically intact and cleared for discharge on .',\n",
       " 'medications on admission: fluticasone - (prescribed by other provider) - 50 mcg spray, suspension - 2 sprays(s) each nostril daily as needed for nasal congestion levetiracetam - 1,000 mg tablet - 1 tablet(s) by mouth twice a day - no substitution levetiracetam - 500 mg tablet - 1 tablet(s) by mouth at bedtime - no substitution levetiracetam - 250 mg tablet - 1 tablet(s) by mouth four times a day - no substitution oseltamivir - 75 mg capsule - one capsule(s) by mouth twice a day x 5 days venlafaxine - 50 mg tablet - one tablet(s) by mouth twice a day acetaminophen - (otc) - dosage uncertain ibuprofen - (otc) - 200 mg capsule - 1 capsule(s) by mouth once a day as needed for headache discharge medications: acetaminophen 325 mg tablet sig: 1-2 tablets po q4h (every 4 hours) as needed for pain/t>100/ha.',\n",
       " 'bisacodyl 5 mg tablet, delayed release (e.c.)',\n",
       " 'sig: two (2) tablet, delayed release (e.c.)',\n",
       " 'po daily (daily) as needed for constipation.',\n",
       " 'docusate sodium 100 mg capsule sig: one (1) capsule po bid (2 times a day).',\n",
       " 'disp:*60 capsule(s)* refills:*2* hydromorphone 2 mg tablet sig: 1-2 tablets po q4h (every 4 hours) as needed for pain.',\n",
       " 'disp:*30 tablet(s)* refills:*0* venlafaxine 25 mg tablet sig: two (2) tablet po bid (2 times a day).',\n",
       " 'fluticasone 50 mcg/actuation spray, suspension sig: two (2) spray nasal daily (daily) as needed for nasal congestion.',\n",
       " 'dexamethasone 2 mg tablet sig: one (1) tablet po q6h (every 6 hours) for 6 days: take 2mg q6hrs , take 2mg q12 , take 2mg q24 , then stop.',\n",
       " 'disp:*16 tablet(s)* refills:*0* levetiracetam 500 mg tablet sig: 2.5 tablets po bid (2 times a day).',\n",
       " 'discharge disposition: home discharge diagnosis: skull defect s/p cranioplasty discharge condition: neurologically stable discharge instructions: general instructions ??????',\n",
       " 'have a friend/family member check your incision daily for signs of infection. ??????',\n",
       " 'take your pain medicine as prescribed. ??????',\n",
       " 'exercise should be limited to walking; no lifting, straining, or excessive bending. ??????',\n",
       " 'you may wash your hair only after sutures and/or staples have been removed. ??????',\n",
       " 'you may shower before this time using a shower cap to cover your head. ??????',\n",
       " 'increase your intake of fluids and fiber, as narcotic pain medicine can cause constipation.',\n",
       " 'we generally recommend taking an over the counter stool softener, such as docusate (colace) while taking narcotic pain medication. ??????',\n",
       " 'unless directed by your doctor, do not take any anti-inflammatory medicines such as motrin, aspirin, advil, and ibuprofen etc. ??????',\n",
       " 'clearance to drive and return to work will be addressed at your post-operative office visit.',\n",
       " 'call your surgeon immediately if you experience any of the following ??????',\n",
       " 'new onset of tremors or seizures. ??????',\n",
       " 'any confusion or change in mental status. ??????',\n",
       " 'any numbness, tingling, weakness in your extremities. ??????',\n",
       " 'pain or headache that is continually increasing, or not relieved by pain medication. ??????',\n",
       " 'any signs of infection at the wound site: redness, swelling, tenderness, or drainage. ??????',\n",
       " 'fever greater than or equal to 101??????',\n",
       " 'f. followup instructions: you will need to see the nurse practitioner 14 days post-operatively for suture removal.',\n",
       " 'please call for the appointment.',\n",
       " 'you will need to follow up with doctor in 4 weeks with a head ct of the brain. completed by:',\n",
       " 'sex: m cardiac surgery chest pain, 3-vessel disease on catheterization.',\n",
       " 'history of present illness: the patient is a 66-year-old male transferred from to the status post catheterization, revealing 3-vessel cardiac disease.',\n",
       " 'the patient presented to with gradually increasing chest pain over the past three to four months to the point that he had chest pain with minimal exertion.',\n",
       " 'past medical history: known coronary artery disease, status post catheterization 10 years ago at . heavy smoker. hypertension.',\n",
       " 'gastroesophageal reflux disease/peptic ulcer disease.',\n",
       " 'wegener granulomatosis with complete resolution. glaucoma.',\n",
       " 'past surgical history: perforated ulcer.',\n",
       " 'medications on admission: lisinopril 20 mg p.o. q.d., prilosec 20 mg p.o. q.d.,',\n",
       " 'cosopt eyedrops, alphagan eyedrops, travatan eyedrops, lansoprazole 50 mg p.o. q.d.',\n",
       " 'allergies: no known drug allergies.',\n",
       " 'hospital course: the patient underwent an elective coronary artery bypass graft times three on with grafts being a left internal mammary artery to left anterior descending artery, saphenous vein graft to ramus, and saphenous vein graft to posterior descending artery.',\n",
       " 'he was extubated on the day of surgery.',\n",
       " 'on postoperative day one, his nasogastric tubes were discontinued.',\n",
       " 'he was transferred to the regular floor on postoperative day one.',\n",
       " 'he subsequently had a smooth postoperative course.',\n",
       " 'his pacing wires were discontinued on postoperative day three.',\n",
       " 'by postoperative day, he was ambulating well. he was comfortable on p.o.',\n",
       " 'pain medication, and he was ready for discharge home.',\n",
       " 'medications on discharge: lasix 20 mg p.o. q.d. ( for one week). kcl 20 meq p.o. q.d. ( for one week). colace 100 mg p.o. b.i.d. zantac 150 mg p.o. b.i.d.',\n",
       " 'enteric-coated aspirin 325 mg p.o. q.d. alphagan eyedrops. lopressor 50 mg p.o. b.i.d. nicoderm patch 22 mg q.d.',\n",
       " 'percocet one to two tablets p.o. q.4-6h. p.r.n.',\n",
       " 'die followup: follow up with primary care physician, . ,',\n",
       " 'in two weeks and with doctor in four weeks.',\n",
       " 'condition at discharge: condition on discharge was stable.',\n",
       " 'discharge status: discharged to home. ,',\n",
       " 'md dictated by: medquist36 d: 15:09 t: 15:31 job#:',\n",
       " 'sex: m cardiac surgery chest pain, 3-vessel disease on catheterization.',\n",
       " 'history of present illness: the patient is a 66-year-old male transferred from to the status post catheterization, revealing 3-vessel cardiac disease.',\n",
       " 'the patient presented to with gradually increasing chest pain over the past three to four months to the point that he had chest pain with minimal exertion.',\n",
       " 'past medical history: known coronary artery disease, status post catheterization 10 years ago at . heavy smoker. hypertension.',\n",
       " 'gastroesophageal reflux disease/peptic ulcer disease.',\n",
       " 'wegener granulomatosis with complete resolution. glaucoma.',\n",
       " 'past surgical history: perforated ulcer.',\n",
       " 'medications on admission: lisinopril 20 mg p.o. q.d., prilosec 20 mg p.o. q.d.,',\n",
       " 'cosopt eyedrops, alphagan eyedrops, travatan eyedrops, lansoprazole 50 mg p.o. q.d.',\n",
       " 'allergies: no known drug allergies.',\n",
       " 'hospital course: the patient underwent an elective coronary artery bypass graft times three on with grafts being a left internal mammary artery to left anterior descending artery, saphenous vein graft to ramus, and saphenous vein graft to posterior descending artery.',\n",
       " 'he was extubated on the day of surgery.',\n",
       " 'on postoperative day one, his nasogastric tubes were discontinued.',\n",
       " 'he was transferred to the regular floor on postoperative day one.',\n",
       " 'he subsequently had a smooth postoperative course.',\n",
       " 'his pacing wires were discontinued on postoperative day three.',\n",
       " 'by postoperative day, he was ambulating well. he was comfortable on p.o.',\n",
       " 'pain medication, and he was ready for discharge home.',\n",
       " 'medications on discharge: lasix 20 mg p.o. q.d. ( for one week). kcl 20 meq p.o. q.d. ( for one week). colace 100 mg p.o. b.i.d. zantac 150 mg p.o. b.i.d.',\n",
       " 'enteric-coated aspirin 325 mg p.o. q.d. alphagan eyedrops. lopressor 50 mg p.o. b.i.d. nicoderm patch 22 mg q.d.',\n",
       " 'percocet one to two tablets p.o. q.4-6h. p.r.n.',\n",
       " 'die followup: follow up with primary care physician, . ,',\n",
       " 'in two weeks and with doctor in four weeks.',\n",
       " 'condition at discharge: condition on discharge was stable.',\n",
       " 'discharge status: discharged to home. ,',\n",
       " 'md dictated by: medquist36 d: 15:09 t: 15:31 job#:',\n",
       " 'sex: m trauma surgery history of the present illness: mr.',\n",
       " 'is a 37-year-old male who was stabbed by a four inch knife to the left upper abdomen.',\n",
       " 'in the field, his blood pressure was 120/palpable, heart rate a pressure dressing was applied to the wound.',\n",
       " 'reportedly, the knife penetrated about 1.5 inches.',\n",
       " 'past medical history: hiv positive for 21 years.',\n",
       " 'history of intravenous drug abuse. hypertension. congestive heart failure.',\n",
       " 'right above the knee amputation after being hit by a truck in the past. tricuspid regurgitation.',\n",
       " 'admission medications: epivir. ziagen. bactrim double strength. lasix. methadone. lopressor. prilosec. risperdal. aldactone. folate. multivitamins. thiamine.',\n",
       " 'allergies: the patient has an allergy to penicillin.',\n",
       " 'physical examination on admission: vital signs: temperature 97.3, heart rate 116, blood pressure 140/palpable, respiratory rate 16, pulse oximetry of 100%.',\n",
       " 'general: he was alert and oriented times three with a gcs of heent: normocephalic, atraumatic.',\n",
       " 'extraocular motions were intact.',\n",
       " 'the pupils were equal, round, and reactive to light and accommodation. the oropharynx was clear. the tms were clear.',\n",
       " 'chest: clear to auscultation bilaterally with no subcutaneous air noted.',\n",
       " 'cardiac: no murmurs, rubs, or gallops. regular rate and rhythm.',\n",
       " 'abdomen: there was a 1.5 cm left upper quadrant wound, otherwise diffusely tender. back: no step-off. no deformities. nontender.',\n",
       " 'extremities: a right above the knee amputation with prosthesis.',\n",
       " 'left leg with chronic venostasis changes. rectal: good tone.',\n",
       " 'contaminated by external blood.',\n",
       " 'neurological: no focal deficits.',\n",
       " 'laboratory data upon admission: chemistries generally normal with creatinine of 1.',\n",
       " 'blood gas 7.39/49/341/31/4, lactate 2.5, amylase 107, fibrinogen pt 15.8, ptt 36.1, inr 1.',\n",
       " 'his white blood count was 5.1, hematocrit 34.',\n",
       " 'urine toxicology was not performed.',\n",
       " 'a chest x-ray was within normal limits, status post left subclavian line placement which was in place.',\n",
       " 'hospital course: the patient was taken to the operating room for wound exploration directly from the trauma room.',\n",
       " 'the patient was taken to the operating room, as mentioned above, for an exploratory laparotomy, extensive lysis of adhesions, and control of rectus and omental bleeding.',\n",
       " 'the estimated blood loss was approximately 1,000 cc.',\n",
       " 'please see the operative note dictated by doctor on for complete report.',\n",
       " 'the patient was then transferred to the sicu where his coagulopathy was corrected.',\n",
       " 'he received 4 units of packed red cells, 4 units of ffp, and 1 cryoprecipitate.',\n",
       " 'while on the unit, he was extubated on , sicu day number three and he was noted to have progressive thrombocytopenia. his home p.o.',\n",
       " 'medications were restarted as well.',\n",
       " 'on , hospital day number four, the patient was transferred to the floor.',\n",
       " 'his diet was advanced and he was placed on an aggressive bowel regimen to get his bowels moving postsurgically.',\n",
       " \"the pain service was also consulted because of the patient's history of narcotic abuse and his continued complaints of pain.\",\n",
       " 'they recommended increasing his dose of klonopin and starting msir.',\n",
       " 'on hospital day number five, the patient was noted to have a heparin-induced antibody which may be one of the reasons he was coagulopathic on admission, although his hiv disease and other drug abuse cannot be ruled out as cause.',\n",
       " 'his platelet count remained relatively stable, however, as did his hematocrit.',\n",
       " 'by hospital day number six, the patient was doing somewhat better; however, after being noted to be somewhat sedated, his klonopin dose as well as msir and methadone were decreased.',\n",
       " 'the patient did work with physical therapy and was able to ambulate, hop a bit out of bed.',\n",
       " \"additionally, case management spoke with the patient's long-term nurse practitioner, who stated that at baseline he normally uses a wheelchair and occasionally walks on his prosthesis.\",\n",
       " 'additionally, the nurse practitioner stated that the patient does chronically abuse drugs, both prescriptions and illicits, and advised not to give the patient any pain prescriptions upon discharge as he had more than enough at home.',\n",
       " 'it was also discussed that the patient would often try to prolong his hospital courses in the past in an attempt to get more narcotics.',\n",
       " 'on the date of discharge, the patient will be set up with vna services for home to change his dressings.',\n",
       " 'he will also be instructed to follow-up with his primary care doctor or trauma clinic to have the staples removed from his abdominal wound.',\n",
       " 'condition on discharge: stable.',\n",
       " 'discharge status: discharged to home with services.',\n",
       " 'discharge medications: same as on admission.',\n",
       " 'follow-up plans: as mentioned above, with the trauma clinic and his primary care doctor. ,',\n",
       " 'md dictated by: medquist36 d: 11:15 t: 08:56 job#:']"
      ]
     },
     "execution_count": 28,
     "metadata": {},
     "output_type": "execute_result"
    }
   ],
   "source": [
    "training_sentences"
   ]
  },
  {
   "cell_type": "code",
   "execution_count": 28,
   "id": "c836fcb2",
   "metadata": {},
   "outputs": [
    {
     "data": {
      "text/plain": [
       "['addendum: radiologic studies: radiologic studies also included a chest ct, which confirmed cavitary lesions in the left lung apex consistent with infectious process/tuberculosis.',\n",
       " 'this also moderate-sized left pleural effusion.',\n",
       " 'head ct: head ct showed no intracranial hemorrhage or mass effect, but old infarction consistent with past medical history.',\n",
       " 'abdominal ct: abdominal ct showed lesions of t10 and sacrum most likely secondary to osteoporosis.',\n",
       " 'these can be followed by repeat imaging as an outpatient. ,',\n",
       " 'md dictated by: medquist36 d: 12:11 t: 12:21 job#:']"
      ]
     },
     "execution_count": 28,
     "metadata": {},
     "output_type": "execute_result"
    }
   ],
   "source": [
    "training_sentences[0]"
   ]
  },
  {
   "cell_type": "code",
   "execution_count": 31,
   "id": "09bf5411",
   "metadata": {},
   "outputs": [
    {
     "data": {
      "text/plain": [
       "\"addendum: radiologic studies: radiologic studies also included a chest ct, which confirmed cavitary lesions in the left lung apex consistent with infectious process/tuberculosis. this also moderate-sized left pleural effusion. head ct: head ct showed no intracranial hemorrhage or mass effect, but old infarction consistent with past medical history. abdominal ct: abdominal ct showed lesions of t10 and sacrum most likely secondary to osteoporosis. these can be followed by repeat imaging as an outpatient. , md dictated by: medquist36 d: 12:11 t: 12:21 job#: sex: f micu and then to medicine history of present illness: this is an 81-year-old female with a history of emphysema (not on home o2), who presents with three days of shortness of breath thought by her primary care doctor to be a copd flare. two days prior to admission, she was started on a prednisone taper and one day prior to admission she required oxygen at home in order to maintain oxygen saturation greater than 90%. she has also been on levofloxacin and nebulizers, and was not getting better, and presented to the emergency room. in the emergency room, her oxygen saturation was 100% on cpap. she was not able to be weaned off of this despite nebulizer treatment and solu-medrol 125 mg iv x review of systems is negative for the following: fevers, chills, nausea, vomiting, night sweats, change in weight, gastrointestinal complaints, neurologic changes, rashes, palpitations, orthopnea. is positive for the following: chest pressure occasionally with shortness of breath with exertion, some shortness of breath that is positionally related, but is improved with nebulizer treatment. past medical history: copd. last pulmonary function tests in demonstrated a fvc of 52% of predicted, a fev1 of 54% of predicted, a mmf of 23% of predicted, and a fev1:fvc ratio of 67% of predicted, that does not improve with bronchodilator treatment. the fvc, however, does significantly improve with bronchodilator treatment consistent with her known reversible air flow obstruction in addition to an underlying restrictive ventilatory defect. the patient has never been on home oxygen prior to this recent episode. she has never been on steroid taper or been intubated in the past. lacunar cva. mri of the head in demonstrates mild degree of multiple small foci of high t2 signal within the white matter of both cerebral hemispheres as well as the pons, in the latter region predominantly to the right of midline. the abnormalities, while nonspecific in etiology, are most likely secondary to chronic microvascular infarction. there is no mass, lesion, shift of the normal midline strictures or hydrocephalus. the major vascular flow patterns are preserved. there is moderate right maxillary, moderate bilateral ethmoid, mild left maxillary, minimal right sphenoid, and frontal sinus mucosal thickening. these abnormalities could represent an allergic or some other type of inflammatory process. additionally noted is a moderately enlarged subtotally empty sella turcica. angina: most recent stress test was in going for four minutes with a rate pressure product of 10,000, 64% of maximum predicted heart rate without evidence of ischemic ekg changes or symptoms. the imaging portion of the study demonstrated no evidence of myocardial ischemia and a calculated ejection fraction of 84%. the patient denies angina at rest and gets angina with walking a few blocks. are alleviated by sublingual nitroglycerin. hypothyroidism on synthroid. depression on lexapro. motor vehicle accident with head injury approximately 10 years ago. medications on admission: hydrochlorothiazide 25 q.d. prednisone 60 mg, 50 mg, 40 mg, 20 mg. levofloxacin 500 mg q.d. imdur 60 mg q.d. synthroid 75 mcg q.d. pulmicort nebulizer b.i.d. albuterol nebulizer q.prn. lexapro 10 mg q.d. protonix 40 mg q.d. aspirin 81 mg q.d. allergies: norvasc leads to lightheadedness and headache. family history: noncontributory. social history: lives with her husband, doctor an eminent pediatric neurologist at . the patient is a prior smoker, but has not smoked in over 10 years. she has no known alcohol use and she is a full code. physical exam at time of admission: blood pressure 142/76, heart rate 100 and regular, respirations at 17-21, and 97% axillary temperature. she was saturating at 100% on cpap with dry mucous membranes. an elderly female in no apparent distress. pupils are equal, round, and reactive to light and accommodation. extraocular movements are intact. oropharynx difficult to assess due to cpap machine. no evidence of jugular venous pressure, however, the strap from the cpap machine obscures the neck exam. cranial nerves ii through xii are grossly intact. neck is supple without lymphadenopathy. heart exam: tachycardic, regular, obscured by loud bilateral wheezing with increase in the expiratory phase as well as profuse scattered rhonchi throughout the lung fields. positive bowel sounds, soft, nontender, nondistended, obese, no masses. mild edema of the lower extremities without clubbing or cyanosis, no rashes. there is a right hand hematoma. strength is assessed as in the lower extremities, in the upper extremities with a normal mental status and cognition. laboratory studies: white count 19, hematocrit 41, platelets chem-7: 127, 3.6, 88, 29, 17, 0.6, troponin was negative. cks were negative times three. initial blood gas showed a ph of 7.4, po2 of 66, pco2 of chest x-ray demonstrates a moderate sized hiatal hernia, segmental atelectasis, left lower lobe infiltrate versus segmental atelectasis. ekg shows normal sinus rhythm at 113 beats per minute, normal axis, no evidence of st-t wave changes. brief summary of hospital course: copd/dyspnea/pneumonia: the patient was initially placed on an aggressive steroid taper and admitted to the medical intensive care unit due to her difficulty with oxygenation despite cpap machine. she was also given nebulizer treatments q.4h. as well as chest pt. the nebulizers were increased to q.1h. due to the fact that she continued to have labored breathing. due to persistent respiratory failure and labored breathing, the patient was intubated on in order to improve oxygenation, ventilation, and ability to suction. a bronchoscopy was performed on , which demonstrated marked narrowing of the airways with expiration consistent with tracheomalacia. on , two silicone stents were placed, one in the left main stem (12 x 25 and one in the trachea 16 x 40) by doctor under rigid bronchoscopy with general anesthesia. on , the patient was extubated to a cool mist shovel mask and her oxygen was titrated down to 2 liters nasal cannula at which time she was transferred to the medical floor. on the medical floor, the steroids were weaned to off on , and the patient was saturating at 97% on 2 liters, 92% on room air. on , the patient was seen again by the interventional pulmonology service, who agreed that she looked much improved and recommended that she go to pulmonary rehabilitation with followup within six weeks' time status post placement of stents in respiratory failure. cardiovascular: the patient was ruled out for a mi. she did have another episode on the medical floor of chest pain, which showed no evidence of ekg changes and negative troponin, negative cks x she was continued on aspirin, imdur, and diltiazem for rate control per her outpatient regimen. hypertension: she was maintained on diltiazem and hydrochlorothiazide with adequate blood pressure control and normalization of electrolytes. hematuria: the patient had intermittent hematuria likely secondary to foley placement. the foley catheter was discontinued on . she had serial urinalyses, which were all negative for signs of infection. hyperglycemia: patient was placed on insulin-sliding scale due to hyperglycemia, which was steroid induced. this worked quite well and her glucose came back to normal levels once the steroids were tapered to off. leukocytosis: patient did have a profound leukocytosis of 20 to 22 during much of her hospital course. as the steroids were tapered to off, her white blood cell count on was 15, it was felt that the leukocytosis was secondary to both steroids as well as question of a left lower lobe pneumonia. for the left lower lobe pneumonia, the patient had initially received a course of levofloxacin 500 p.o. q.d. from to . this was restarted on for an additional seven day course given the fact that she still had the leukocytosis and still had marked rales at the left lower lobe. hypothyroidism: the patient was continued on outpatient medical regimen. depression: the patient was continued on lexapro per outpatient regimen. it is recommended that she follow up with a therapist as an outpatient due to the fact that she did have a blunted affect throughout much of the hospital course, and did appear clinically to be depressed. prophylaxis: she was maintained on proton-pump inhibitor with subq heparin. sore throat: the patient did have a sore throat for much of the hospital course post extubation. this was treated with cepacol lozenges as well as kbl liquid (a solution containing kaopectate, bismuth, and lidocaine) at bedtime. communication/code status: the patient was full code throughout her hospital course, and communication was maintained with the patient and her husband. muscle weakness: the patient did have profound muscle weakness and was evaluated by physical therapy, and was found to have impaired functional mobility, impaired musculoskeletal performance, impaired gas exchange, impaired endurance, impaired ventilation, and needed help with supine to sit. however, she was able to tolerate sitting in a chair for approximately one hour. on motor exam, her flexors and extensors of the lower extremities were at the knee, at the ankle, at the elbows, and hips. it was felt that this weakness was most likely due to a combination of steroid myopathy as well as muscle atrophy secondary to deconditioning after a prolonged hospital course. speech/swa\""
      ]
     },
     "execution_count": 31,
     "metadata": {},
     "output_type": "execute_result"
    }
   ],
   "source": [
    "train_text[:10000]"
   ]
  },
  {
   "cell_type": "code",
   "execution_count": 34,
   "id": "cb73cc05",
   "metadata": {},
   "outputs": [
    {
     "name": "stdout",
     "output_type": "stream",
     "text": [
      "67.5 ms ± 191 µs per loop (mean ± std. dev. of 7 runs, 10 loops each)\n"
     ]
    }
   ],
   "source": [
    "%%timeit\n",
    "train_spacy_sentences = toSentence(train_text[:100000])"
   ]
  },
  {
   "cell_type": "code",
   "execution_count": 18,
   "id": "6040386e",
   "metadata": {},
   "outputs": [],
   "source": [
    "# pretrain_sent.values"
   ]
  },
  {
   "cell_type": "code",
   "execution_count": 30,
   "id": "d6c888c6",
   "metadata": {},
   "outputs": [],
   "source": [
    "\n",
    "# file=open(f\"{grouped_save_dir}/sentences_train.txt\",'w')\n",
    "file=open(f\"./sentences_train.txt\",'w')\n",
    "# pretrain_sent = pretrain_sent.values\n",
    "# #random sample 500,000 documents \n",
    "# pretrain_sent = np.random.choice(pretrain_sent,500000)\n"
   ]
  },
  {
   "cell_type": "code",
   "execution_count": 19,
   "id": "c45260c4",
   "metadata": {},
   "outputs": [],
   "source": [
    "pretrain_sent = pretrain_sent.values"
   ]
  },
  {
   "cell_type": "code",
   "execution_count": 21,
   "id": "cfd7111d",
   "metadata": {},
   "outputs": [
    {
     "data": {
      "text/plain": [
       "['service: addendum: radiologic studies: radiologic studies also included a chest ct, which confirmed cavitary lesions in the left lung apex consistent with infectious process/tuberculosis.',\n",
       " 'this also moderate-sized left pleural effusion.',\n",
       " 'head ct: head ct showed no intracranial hemorrhage or mass effect, but old infarction consistent with past medical history.',\n",
       " 'abdominal ct: abdominal ct showed lesions of t10 and sacrum most likely secondary to osteoporosis.',\n",
       " 'these can be followed by repeat imaging as an outpatient. ,',\n",
       " 'md dictated by: medquist36 d: 12:11 t: 12:21 job#:']"
      ]
     },
     "execution_count": 21,
     "metadata": {},
     "output_type": "execute_result"
    }
   ],
   "source": [
    "pretrain_sent[0]"
   ]
  },
  {
   "cell_type": "code",
   "execution_count": 31,
   "id": "00b68c6a",
   "metadata": {},
   "outputs": [
    {
     "name": "stderr",
     "output_type": "stream",
     "text": [
      "100%|██████████| 1079151/1079151 [00:06<00:00, 155963.21it/s]\n"
     ]
    }
   ],
   "source": [
    "#write the txt file for building dataset, empty lines between docs (for NSP task)\n",
    "for i in tqdm(range(len(pretrain_sent))):\n",
    "    if len(pretrain_sent[i]) > 0:\n",
    "        # remove the one token note\n",
    "        note = pretrain_sent[i]\n",
    "        for sent in note:\n",
    "            file.write(sent+'\\n')\n",
    "        file.write('\\n')"
   ]
  },
  {
   "cell_type": "code",
   "execution_count": 11,
   "id": "6a696955",
   "metadata": {},
   "outputs": [],
   "source": [
    "processed_sentences =  pd.read_csv(f\"./sentences_train.txt\", sep = \"\\t\", header = None)"
   ]
  },
  {
   "attachments": {},
   "cell_type": "markdown",
   "id": "28cc9e46",
   "metadata": {},
   "source": [
    "# Train Tokenizer\n",
    "Only when you pretrain from scratch!"
   ]
  },
  {
   "cell_type": "code",
   "execution_count": null,
   "id": "0b7c57cf",
   "metadata": {},
   "outputs": [],
   "source": [
    "from pathlib import Path\n",
    "from tokenizers import ByteLevelBPETokenizer"
   ]
  },
  {
   "cell_type": "code",
   "execution_count": null,
   "id": "f4d3e464",
   "metadata": {},
   "outputs": [],
   "source": [
    "paths = [str(x) for x in Path(data_path).glob(\"*.txt\")]"
   ]
  },
  {
   "cell_type": "code",
   "execution_count": null,
   "id": "a2878b11",
   "metadata": {},
   "outputs": [],
   "source": [
    "tokenizer = ByteLevelBPETokenizer()"
   ]
  },
  {
   "cell_type": "code",
   "execution_count": null,
   "id": "7dcf6c88",
   "metadata": {},
   "outputs": [],
   "source": [
    "tokenizer.train(files=paths, vocab_size=52_000, min_frequency=2, special_tokens=[\n",
    "    \"<s>\",\n",
    "    \"<pad>\",\n",
    "    \"</s>\",\n",
    "    \"<unk>\",\n",
    "    \"<mask>\",\n",
    "])\n",
    "tokenizer.save_model(\".\", \"Tokenizer_Name\")"
   ]
  },
  {
   "attachments": {},
   "cell_type": "markdown",
   "id": "7ff48cee",
   "metadata": {},
   "source": [
    "# Clinical-PubMedBERT"
   ]
  },
  {
   "cell_type": "code",
   "execution_count": null,
   "id": "a34ef7c2",
   "metadata": {},
   "outputs": [],
   "source": [
    "from transformers import AutoTokenizer, AutoModelForMaskedLM\n",
    "from transformers import TextDataset\n",
    "from transformers import DataCollatorForLanguageModeling, DataCollatorForWholeWordMask\n",
    "from transformers import Trainer, TrainingArguments\n",
    "from transformers import pipeline"
   ]
  },
  {
   "cell_type": "code",
   "execution_count": null,
   "id": "219c8362",
   "metadata": {},
   "outputs": [],
   "source": [
    "tokenizer = AutoTokenizer.from_pretrained(\"microsoft/BiomedNLP-PubMedBERT-base-uncased-abstract\")\n",
    "\n",
    "model = AutoModelForMaskedLM.from_pretrained(\"microsoft/BiomedNLP-PubMedBERT-base-uncased-abstract\")"
   ]
  },
  {
   "cell_type": "code",
   "execution_count": null,
   "id": "b723c8dc",
   "metadata": {
    "scrolled": true
   },
   "outputs": [],
   "source": [
    "dataset = TextDataset(\n",
    "    tokenizer=tokenizer,\n",
    "    file_path='your text data path',\n",
    "    block_size=128,\n",
    "    # You can also use 512 block_size to train the model, also adjust batch size.\n",
    ")"
   ]
  },
  {
   "cell_type": "code",
   "execution_count": null,
   "id": "429b338a",
   "metadata": {},
   "outputs": [],
   "source": [
    "# Use Whole Word Masking instead of ordinary masking\n",
    "data_collator = DataCollatorForWholeWordMask(\n",
    "    tokenizer=tokenizer, mlm=True, mlm_probability=0.15\n",
    ")"
   ]
  },
  {
   "cell_type": "code",
   "execution_count": null,
   "id": "c140303b",
   "metadata": {},
   "outputs": [],
   "source": [
    "# we use 5000 steps to warm-up, other optimization parameters are default\n",
    "training_args = TrainingArguments(\n",
    "    output_dir=\"your_output_directory\",\n",
    "    overwrite_output_dir=True,\n",
    "    num_train_epochs=5,\n",
    "    per_device_train_batch_size=16,\n",
    "    save_steps=2_500,\n",
    "    save_total_limit=3,\n",
    "    prediction_loss_only=True,\n",
    "    warmup_steps = 5000\n",
    ")\n",
    "\n",
    "trainer = Trainer(\n",
    "    model=model,\n",
    "    args=training_args,\n",
    "    data_collator=data_collator,\n",
    "    train_dataset=dataset,\n",
    ")"
   ]
  },
  {
   "cell_type": "code",
   "execution_count": null,
   "id": "f50f44f9",
   "metadata": {},
   "outputs": [],
   "source": [
    "trainer.train()"
   ]
  },
  {
   "cell_type": "code",
   "execution_count": null,
   "id": "471c0100",
   "metadata": {},
   "outputs": [],
   "source": [
    "trainer.save_model(\"your_model_directory\")"
   ]
  },
  {
   "cell_type": "code",
   "execution_count": null,
   "id": "4b38b8fb",
   "metadata": {},
   "outputs": [],
   "source": [
    "#You can try some examples to check the learned model!\n",
    "fill_mask = pipeline(\n",
    "    \"fill-mask\",\n",
    "    model=\"your_model_directory\",\n",
    "    tokenizer=tokenizer\n",
    ")"
   ]
  },
  {
   "attachments": {},
   "cell_type": "markdown",
   "id": "125f2732",
   "metadata": {},
   "source": [
    "# MIMIC - IV"
   ]
  },
  {
   "cell_type": "code",
   "execution_count": 2,
   "id": "0082c039",
   "metadata": {},
   "outputs": [],
   "source": [
    "data_dir = \"/mnt/sdg/niallt/mimic_4/note/\""
   ]
  },
  {
   "cell_type": "code",
   "execution_count": 4,
   "id": "84bad64f",
   "metadata": {},
   "outputs": [
    {
     "name": "stdout",
     "output_type": "stream",
     "text": [
      "discharge.csv  discharge_detail.csv  radiology.csv  radiology_detail.csv\n"
     ]
    }
   ],
   "source": [
    "!ls $data_dir"
   ]
  },
  {
   "cell_type": "code",
   "execution_count": 5,
   "id": "ca54e7e5",
   "metadata": {},
   "outputs": [],
   "source": [
    "discharge_df = pd.read_csv(f\"{data_dir}/discharge.csv\")"
   ]
  },
  {
   "cell_type": "code",
   "execution_count": 6,
   "id": "e44b997b",
   "metadata": {},
   "outputs": [
    {
     "data": {
      "text/html": [
       "<div>\n",
       "<style scoped>\n",
       "    .dataframe tbody tr th:only-of-type {\n",
       "        vertical-align: middle;\n",
       "    }\n",
       "\n",
       "    .dataframe tbody tr th {\n",
       "        vertical-align: top;\n",
       "    }\n",
       "\n",
       "    .dataframe thead th {\n",
       "        text-align: right;\n",
       "    }\n",
       "</style>\n",
       "<table border=\"1\" class=\"dataframe\">\n",
       "  <thead>\n",
       "    <tr style=\"text-align: right;\">\n",
       "      <th></th>\n",
       "      <th>note_id</th>\n",
       "      <th>subject_id</th>\n",
       "      <th>hadm_id</th>\n",
       "      <th>note_type</th>\n",
       "      <th>note_seq</th>\n",
       "      <th>charttime</th>\n",
       "      <th>storetime</th>\n",
       "      <th>text</th>\n",
       "    </tr>\n",
       "  </thead>\n",
       "  <tbody>\n",
       "    <tr>\n",
       "      <th>0</th>\n",
       "      <td>10000032-DS-21</td>\n",
       "      <td>10000032</td>\n",
       "      <td>22595853</td>\n",
       "      <td>DS</td>\n",
       "      <td>21</td>\n",
       "      <td>2180-05-07 00:00:00</td>\n",
       "      <td>2180-05-09 15:26:00</td>\n",
       "      <td>\\nName:  ___                     Unit No:   _...</td>\n",
       "    </tr>\n",
       "    <tr>\n",
       "      <th>1</th>\n",
       "      <td>10000032-DS-22</td>\n",
       "      <td>10000032</td>\n",
       "      <td>22841357</td>\n",
       "      <td>DS</td>\n",
       "      <td>22</td>\n",
       "      <td>2180-06-27 00:00:00</td>\n",
       "      <td>2180-07-01 10:15:00</td>\n",
       "      <td>\\nName:  ___                     Unit No:   _...</td>\n",
       "    </tr>\n",
       "    <tr>\n",
       "      <th>2</th>\n",
       "      <td>10000032-DS-23</td>\n",
       "      <td>10000032</td>\n",
       "      <td>29079034</td>\n",
       "      <td>DS</td>\n",
       "      <td>23</td>\n",
       "      <td>2180-07-25 00:00:00</td>\n",
       "      <td>2180-07-25 21:42:00</td>\n",
       "      <td>\\nName:  ___                     Unit No:   _...</td>\n",
       "    </tr>\n",
       "    <tr>\n",
       "      <th>3</th>\n",
       "      <td>10000032-DS-24</td>\n",
       "      <td>10000032</td>\n",
       "      <td>25742920</td>\n",
       "      <td>DS</td>\n",
       "      <td>24</td>\n",
       "      <td>2180-08-07 00:00:00</td>\n",
       "      <td>2180-08-10 05:43:00</td>\n",
       "      <td>\\nName:  ___                     Unit No:   _...</td>\n",
       "    </tr>\n",
       "    <tr>\n",
       "      <th>4</th>\n",
       "      <td>10000084-DS-17</td>\n",
       "      <td>10000084</td>\n",
       "      <td>23052089</td>\n",
       "      <td>DS</td>\n",
       "      <td>17</td>\n",
       "      <td>2160-11-25 00:00:00</td>\n",
       "      <td>2160-11-25 15:09:00</td>\n",
       "      <td>\\nName:  ___                    Unit No:   __...</td>\n",
       "    </tr>\n",
       "  </tbody>\n",
       "</table>\n",
       "</div>"
      ],
      "text/plain": [
       "          note_id  subject_id   hadm_id note_type  note_seq  \\\n",
       "0  10000032-DS-21    10000032  22595853        DS        21   \n",
       "1  10000032-DS-22    10000032  22841357        DS        22   \n",
       "2  10000032-DS-23    10000032  29079034        DS        23   \n",
       "3  10000032-DS-24    10000032  25742920        DS        24   \n",
       "4  10000084-DS-17    10000084  23052089        DS        17   \n",
       "\n",
       "             charttime            storetime  \\\n",
       "0  2180-05-07 00:00:00  2180-05-09 15:26:00   \n",
       "1  2180-06-27 00:00:00  2180-07-01 10:15:00   \n",
       "2  2180-07-25 00:00:00  2180-07-25 21:42:00   \n",
       "3  2180-08-07 00:00:00  2180-08-10 05:43:00   \n",
       "4  2160-11-25 00:00:00  2160-11-25 15:09:00   \n",
       "\n",
       "                                                text  \n",
       "0   \\nName:  ___                     Unit No:   _...  \n",
       "1   \\nName:  ___                     Unit No:   _...  \n",
       "2   \\nName:  ___                     Unit No:   _...  \n",
       "3   \\nName:  ___                     Unit No:   _...  \n",
       "4   \\nName:  ___                    Unit No:   __...  "
      ]
     },
     "execution_count": 6,
     "metadata": {},
     "output_type": "execute_result"
    }
   ],
   "source": [
    "discharge_df.head(\n",
    ")"
   ]
  },
  {
   "cell_type": "code",
   "execution_count": 7,
   "id": "beef4d84",
   "metadata": {},
   "outputs": [
    {
     "data": {
      "text/plain": [
       "(331794, 8)"
      ]
     },
     "execution_count": 7,
     "metadata": {},
     "output_type": "execute_result"
    }
   ],
   "source": [
    "discharge_df.shape"
   ]
  },
  {
   "cell_type": "code",
   "execution_count": 8,
   "id": "80bcc664",
   "metadata": {},
   "outputs": [
    {
     "data": {
      "text/plain": [
       "DS    331794\n",
       "Name: note_type, dtype: int64"
      ]
     },
     "execution_count": 8,
     "metadata": {},
     "output_type": "execute_result"
    }
   ],
   "source": [
    "discharge_df.note_type.value_counts()"
   ]
  },
  {
   "attachments": {},
   "cell_type": "markdown",
   "id": "be2d39eb",
   "metadata": {},
   "source": [
    "### Prepare for pretraining"
   ]
  },
  {
   "cell_type": "code",
   "execution_count": 4,
   "id": "321e057b",
   "metadata": {},
   "outputs": [
    {
     "name": "stderr",
     "output_type": "stream",
     "text": [
      "/tmp/ipykernel_35889/2492503032.py:3: DtypeWarning: Columns (4,5) have mixed types. Specify dtype option on import or set low_memory=False.\n",
      "  train_df = pd.read_csv(data_dir)\n"
     ]
    }
   ],
   "source": [
    "data_dir = \"/mnt/sdc/niallt/mimic_iii/processed/HADM_ID_split/train_df_notes_interim_preprocessed.csv\"\n",
    "test_data_dir = \"/mnt/sdc/niallt/mimic_iii/processed/HADM_ID_split/test_df_notes_interim_preprocessed_10000.csv\"\n",
    "train_df = pd.read_csv(data_dir)\n",
    "test_df = pd.read_csv(test_data_dir)"
   ]
  },
  {
   "cell_type": "code",
   "execution_count": null,
   "id": "d57b9053",
   "metadata": {},
   "outputs": [],
   "source": []
  },
  {
   "cell_type": "code",
   "execution_count": 5,
   "id": "08da5bf3",
   "metadata": {},
   "outputs": [],
   "source": [
    "cat_col = \"CATEGORY\"\n",
    "# now encode the labels - and sort by the value counts rather than string value - this well help keep ordering when subetting by class frequency\n",
    "class_list, idx_to_class, class_to_idx = encode_classes(train_df,\n",
    "                                                        label_col=cat_col,\n",
    "                                                        sort_by_value_count=True)"
   ]
  },
  {
   "cell_type": "code",
   "execution_count": 6,
   "id": "1aa40e12",
   "metadata": {},
   "outputs": [
    {
     "data": {
      "text/plain": [
       "(['Nursing/other',\n",
       "  'Radiology',\n",
       "  'Nursing',\n",
       "  'Physician ',\n",
       "  'ECG',\n",
       "  'Discharge summary',\n",
       "  'Echo',\n",
       "  'Respiratory ',\n",
       "  'Nutrition',\n",
       "  'General',\n",
       "  'Rehab Services',\n",
       "  'Pharmacy',\n",
       "  'Consult'],\n",
       " {0: 'Nursing/other',\n",
       "  1: 'Radiology',\n",
       "  2: 'Nursing',\n",
       "  3: 'Physician ',\n",
       "  4: 'ECG',\n",
       "  5: 'Discharge summary',\n",
       "  6: 'Echo',\n",
       "  7: 'Respiratory ',\n",
       "  8: 'Nutrition',\n",
       "  9: 'General',\n",
       "  10: 'Rehab Services',\n",
       "  11: 'Pharmacy',\n",
       "  12: 'Consult'},\n",
       " {'Nursing/other': 0,\n",
       "  'Radiology': 1,\n",
       "  'Nursing': 2,\n",
       "  'Physician ': 3,\n",
       "  'ECG': 4,\n",
       "  'Discharge summary': 5,\n",
       "  'Echo': 6,\n",
       "  'Respiratory ': 7,\n",
       "  'Nutrition': 8,\n",
       "  'General': 9,\n",
       "  'Rehab Services': 10,\n",
       "  'Pharmacy': 11,\n",
       "  'Consult': 12})"
      ]
     },
     "execution_count": 6,
     "metadata": {},
     "output_type": "execute_result"
    }
   ],
   "source": [
    "class_list, idx_to_class, class_to_idx"
   ]
  },
  {
   "cell_type": "code",
   "execution_count": 7,
   "id": "02535ba2",
   "metadata": {},
   "outputs": [],
   "source": [
    "# convert create label column from categories mapped to label int\n",
    "train_df['label'] = train_df[cat_col].map(class_to_idx)\n",
    "test_df['label'] = test_df[cat_col].map(class_to_idx)\n",
    "    "
   ]
  },
  {
   "cell_type": "code",
   "execution_count": 8,
   "id": "a6f5fc4f",
   "metadata": {},
   "outputs": [
    {
     "data": {
      "text/html": [
       "<div>\n",
       "<style scoped>\n",
       "    .dataframe tbody tr th:only-of-type {\n",
       "        vertical-align: middle;\n",
       "    }\n",
       "\n",
       "    .dataframe tbody tr th {\n",
       "        vertical-align: top;\n",
       "    }\n",
       "\n",
       "    .dataframe thead th {\n",
       "        text-align: right;\n",
       "    }\n",
       "</style>\n",
       "<table border=\"1\" class=\"dataframe\">\n",
       "  <thead>\n",
       "    <tr style=\"text-align: right;\">\n",
       "      <th></th>\n",
       "      <th>ROW_ID</th>\n",
       "      <th>SUBJECT_ID</th>\n",
       "      <th>HADM_ID</th>\n",
       "      <th>CHARTDATE</th>\n",
       "      <th>CHARTTIME</th>\n",
       "      <th>STORETIME</th>\n",
       "      <th>CATEGORY</th>\n",
       "      <th>DESCRIPTION</th>\n",
       "      <th>CGID</th>\n",
       "      <th>ISERROR</th>\n",
       "      <th>TEXT</th>\n",
       "      <th>num_words</th>\n",
       "      <th>label</th>\n",
       "    </tr>\n",
       "  </thead>\n",
       "  <tbody>\n",
       "    <tr>\n",
       "      <th>0</th>\n",
       "      <td>174</td>\n",
       "      <td>22532</td>\n",
       "      <td>167853.0</td>\n",
       "      <td>2151-08-04</td>\n",
       "      <td>NaN</td>\n",
       "      <td>NaN</td>\n",
       "      <td>Discharge summary</td>\n",
       "      <td>Report</td>\n",
       "      <td>NaN</td>\n",
       "      <td>NaN</td>\n",
       "      <td>addendum: radiologic studies: radiologic studi...</td>\n",
       "      <td>110</td>\n",
       "      <td>5</td>\n",
       "    </tr>\n",
       "    <tr>\n",
       "      <th>1</th>\n",
       "      <td>175</td>\n",
       "      <td>13702</td>\n",
       "      <td>107527.0</td>\n",
       "      <td>2118-06-14</td>\n",
       "      <td>NaN</td>\n",
       "      <td>NaN</td>\n",
       "      <td>Discharge summary</td>\n",
       "      <td>Report</td>\n",
       "      <td>NaN</td>\n",
       "      <td>NaN</td>\n",
       "      <td>sex: f micu and then to medicine history of pr...</td>\n",
       "      <td>1943</td>\n",
       "      <td>5</td>\n",
       "    </tr>\n",
       "    <tr>\n",
       "      <th>2</th>\n",
       "      <td>178</td>\n",
       "      <td>26880</td>\n",
       "      <td>135453.0</td>\n",
       "      <td>2162-03-25</td>\n",
       "      <td>NaN</td>\n",
       "      <td>NaN</td>\n",
       "      <td>Discharge summary</td>\n",
       "      <td>Report</td>\n",
       "      <td>NaN</td>\n",
       "      <td>NaN</td>\n",
       "      <td>sex: m medicine allergies: patient recorded as...</td>\n",
       "      <td>2099</td>\n",
       "      <td>5</td>\n",
       "    </tr>\n",
       "    <tr>\n",
       "      <th>3</th>\n",
       "      <td>179</td>\n",
       "      <td>53181</td>\n",
       "      <td>170490.0</td>\n",
       "      <td>2172-03-08</td>\n",
       "      <td>NaN</td>\n",
       "      <td>NaN</td>\n",
       "      <td>Discharge summary</td>\n",
       "      <td>Report</td>\n",
       "      <td>NaN</td>\n",
       "      <td>NaN</td>\n",
       "      <td>sex: f neurosurgery allergies: no known allerg...</td>\n",
       "      <td>1165</td>\n",
       "      <td>5</td>\n",
       "    </tr>\n",
       "    <tr>\n",
       "      <th>4</th>\n",
       "      <td>181</td>\n",
       "      <td>42130</td>\n",
       "      <td>114236.0</td>\n",
       "      <td>2150-03-01</td>\n",
       "      <td>NaN</td>\n",
       "      <td>NaN</td>\n",
       "      <td>Discharge summary</td>\n",
       "      <td>Report</td>\n",
       "      <td>NaN</td>\n",
       "      <td>NaN</td>\n",
       "      <td>sex: m neurosurgery allergies: no known allerg...</td>\n",
       "      <td>1524</td>\n",
       "      <td>5</td>\n",
       "    </tr>\n",
       "    <tr>\n",
       "      <th>...</th>\n",
       "      <td>...</td>\n",
       "      <td>...</td>\n",
       "      <td>...</td>\n",
       "      <td>...</td>\n",
       "      <td>...</td>\n",
       "      <td>...</td>\n",
       "      <td>...</td>\n",
       "      <td>...</td>\n",
       "      <td>...</td>\n",
       "      <td>...</td>\n",
       "      <td>...</td>\n",
       "      <td>...</td>\n",
       "      <td>...</td>\n",
       "    </tr>\n",
       "    <tr>\n",
       "      <th>1167816</th>\n",
       "      <td>2070657</td>\n",
       "      <td>31097</td>\n",
       "      <td>115637.0</td>\n",
       "      <td>2132-01-21</td>\n",
       "      <td>2132-01-21 03:27:00</td>\n",
       "      <td>2132-01-21 03:38:00</td>\n",
       "      <td>Nursing/other</td>\n",
       "      <td>Report</td>\n",
       "      <td>17581.0</td>\n",
       "      <td>NaN</td>\n",
       "      <td>npn #1 infant remains in ra with o2 sats &gt;96%....</td>\n",
       "      <td>143</td>\n",
       "      <td>0</td>\n",
       "    </tr>\n",
       "    <tr>\n",
       "      <th>1167817</th>\n",
       "      <td>2070658</td>\n",
       "      <td>31097</td>\n",
       "      <td>115637.0</td>\n",
       "      <td>2132-01-21</td>\n",
       "      <td>2132-01-21 09:50:00</td>\n",
       "      <td>2132-01-21 09:53:00</td>\n",
       "      <td>Nursing/other</td>\n",
       "      <td>Report</td>\n",
       "      <td>19211.0</td>\n",
       "      <td>NaN</td>\n",
       "      <td>neonatology dol #5, cga 36 weeks. cvr: continu...</td>\n",
       "      <td>95</td>\n",
       "      <td>0</td>\n",
       "    </tr>\n",
       "    <tr>\n",
       "      <th>1167818</th>\n",
       "      <td>2070659</td>\n",
       "      <td>31097</td>\n",
       "      <td>115637.0</td>\n",
       "      <td>2132-01-21</td>\n",
       "      <td>2132-01-21 16:42:00</td>\n",
       "      <td>2132-01-21 16:44:00</td>\n",
       "      <td>Nursing/other</td>\n",
       "      <td>Report</td>\n",
       "      <td>20104.0</td>\n",
       "      <td>NaN</td>\n",
       "      <td>family meeting note family meeting held with b...</td>\n",
       "      <td>81</td>\n",
       "      <td>0</td>\n",
       "    </tr>\n",
       "    <tr>\n",
       "      <th>1167819</th>\n",
       "      <td>2070660</td>\n",
       "      <td>31097</td>\n",
       "      <td>115637.0</td>\n",
       "      <td>2132-01-21</td>\n",
       "      <td>2132-01-21 18:05:00</td>\n",
       "      <td>2132-01-21 18:16:00</td>\n",
       "      <td>Nursing/other</td>\n",
       "      <td>Report</td>\n",
       "      <td>16023.0</td>\n",
       "      <td>NaN</td>\n",
       "      <td>npn 1800 #1 resp: remains in ra w/ rr 20's-o2s...</td>\n",
       "      <td>328</td>\n",
       "      <td>0</td>\n",
       "    </tr>\n",
       "    <tr>\n",
       "      <th>1167820</th>\n",
       "      <td>2070661</td>\n",
       "      <td>31097</td>\n",
       "      <td>115637.0</td>\n",
       "      <td>2132-01-21</td>\n",
       "      <td>2132-01-21 18:05:00</td>\n",
       "      <td>2132-01-21 18:31:00</td>\n",
       "      <td>Nursing/other</td>\n",
       "      <td>Report</td>\n",
       "      <td>16023.0</td>\n",
       "      <td>NaN</td>\n",
       "      <td>npn 1800 nursing addendum: was changed from pe...</td>\n",
       "      <td>14</td>\n",
       "      <td>0</td>\n",
       "    </tr>\n",
       "  </tbody>\n",
       "</table>\n",
       "<p>1167821 rows × 13 columns</p>\n",
       "</div>"
      ],
      "text/plain": [
       "          ROW_ID  SUBJECT_ID   HADM_ID   CHARTDATE            CHARTTIME  \\\n",
       "0            174       22532  167853.0  2151-08-04                  NaN   \n",
       "1            175       13702  107527.0  2118-06-14                  NaN   \n",
       "2            178       26880  135453.0  2162-03-25                  NaN   \n",
       "3            179       53181  170490.0  2172-03-08                  NaN   \n",
       "4            181       42130  114236.0  2150-03-01                  NaN   \n",
       "...          ...         ...       ...         ...                  ...   \n",
       "1167816  2070657       31097  115637.0  2132-01-21  2132-01-21 03:27:00   \n",
       "1167817  2070658       31097  115637.0  2132-01-21  2132-01-21 09:50:00   \n",
       "1167818  2070659       31097  115637.0  2132-01-21  2132-01-21 16:42:00   \n",
       "1167819  2070660       31097  115637.0  2132-01-21  2132-01-21 18:05:00   \n",
       "1167820  2070661       31097  115637.0  2132-01-21  2132-01-21 18:05:00   \n",
       "\n",
       "                   STORETIME           CATEGORY DESCRIPTION     CGID  ISERROR  \\\n",
       "0                        NaN  Discharge summary      Report      NaN      NaN   \n",
       "1                        NaN  Discharge summary      Report      NaN      NaN   \n",
       "2                        NaN  Discharge summary      Report      NaN      NaN   \n",
       "3                        NaN  Discharge summary      Report      NaN      NaN   \n",
       "4                        NaN  Discharge summary      Report      NaN      NaN   \n",
       "...                      ...                ...         ...      ...      ...   \n",
       "1167816  2132-01-21 03:38:00      Nursing/other      Report  17581.0      NaN   \n",
       "1167817  2132-01-21 09:53:00      Nursing/other      Report  19211.0      NaN   \n",
       "1167818  2132-01-21 16:44:00      Nursing/other      Report  20104.0      NaN   \n",
       "1167819  2132-01-21 18:16:00      Nursing/other      Report  16023.0      NaN   \n",
       "1167820  2132-01-21 18:31:00      Nursing/other      Report  16023.0      NaN   \n",
       "\n",
       "                                                      TEXT  num_words  label  \n",
       "0        addendum: radiologic studies: radiologic studi...        110      5  \n",
       "1        sex: f micu and then to medicine history of pr...       1943      5  \n",
       "2        sex: m medicine allergies: patient recorded as...       2099      5  \n",
       "3        sex: f neurosurgery allergies: no known allerg...       1165      5  \n",
       "4        sex: m neurosurgery allergies: no known allerg...       1524      5  \n",
       "...                                                    ...        ...    ...  \n",
       "1167816  npn #1 infant remains in ra with o2 sats >96%....        143      0  \n",
       "1167817  neonatology dol #5, cga 36 weeks. cvr: continu...         95      0  \n",
       "1167818  family meeting note family meeting held with b...         81      0  \n",
       "1167819  npn 1800 #1 resp: remains in ra w/ rr 20's-o2s...        328      0  \n",
       "1167820  npn 1800 nursing addendum: was changed from pe...         14      0  \n",
       "\n",
       "[1167821 rows x 13 columns]"
      ]
     },
     "execution_count": 8,
     "metadata": {},
     "output_type": "execute_result"
    }
   ],
   "source": [
    "train_df"
   ]
  },
  {
   "cell_type": "code",
   "execution_count": 9,
   "id": "269d5002",
   "metadata": {},
   "outputs": [],
   "source": [
    "# subset columns we need\n",
    "n_test_samples = 10000\n",
    "train_df_subset = train_df[[\"TEXT\",\"CATEGORY\",\"label\"]].dropna()\n",
    "test_df_subset = test_df[[\"TEXT\",\"CATEGORY\",\"label\"]].sample(n_test_samples).dropna()"
   ]
  },
  {
   "cell_type": "code",
   "execution_count": 10,
   "id": "7a7303ef",
   "metadata": {},
   "outputs": [
    {
     "data": {
      "text/plain": [
       "((1167774, 3), (10000, 13))"
      ]
     },
     "execution_count": 10,
     "metadata": {},
     "output_type": "execute_result"
    }
   ],
   "source": [
    "train_df_subset.shape, test_df.shape"
   ]
  },
  {
   "cell_type": "code",
   "execution_count": 11,
   "id": "e46b7ca9",
   "metadata": {},
   "outputs": [],
   "source": [
    "# save to file\n",
    "\n",
    "save_dir = \"/mnt/sdc/niallt/mimic_iii/processed/HADM_ID_split/\"\n",
    "\n"
   ]
  },
  {
   "cell_type": "code",
   "execution_count": 12,
   "id": "dd08fe2b",
   "metadata": {},
   "outputs": [],
   "source": [
    "train_df_subset.to_csv(f\"{save_dir}/lm_pretraining_train.csv\", index= None)\n",
    "test_df_subset.to_csv(f\"{save_dir}/lm_pretraining_test_{n_test_samples}.csv\", index=None)\n"
   ]
  },
  {
   "cell_type": "code",
   "execution_count": 5,
   "id": "f210328d",
   "metadata": {},
   "outputs": [],
   "source": [
    "# read back in\n",
    "reloaded_train_df = pd.read_csv(f\"{save_dir}/lm_pretraining_train_250000.csv\")"
   ]
  },
  {
   "cell_type": "code",
   "execution_count": 6,
   "id": "4654ab8e",
   "metadata": {},
   "outputs": [
    {
     "data": {
      "text/html": [
       "<div>\n",
       "<style scoped>\n",
       "    .dataframe tbody tr th:only-of-type {\n",
       "        vertical-align: middle;\n",
       "    }\n",
       "\n",
       "    .dataframe tbody tr th {\n",
       "        vertical-align: top;\n",
       "    }\n",
       "\n",
       "    .dataframe thead th {\n",
       "        text-align: right;\n",
       "    }\n",
       "</style>\n",
       "<table border=\"1\" class=\"dataframe\">\n",
       "  <thead>\n",
       "    <tr style=\"text-align: right;\">\n",
       "      <th></th>\n",
       "      <th>TEXT</th>\n",
       "      <th>CATEGORY</th>\n",
       "      <th>label</th>\n",
       "    </tr>\n",
       "  </thead>\n",
       "  <tbody>\n",
       "    <tr>\n",
       "      <th>0</th>\n",
       "      <td>10:42 am mr head w &amp; w/o contrast clip # reaso...</td>\n",
       "      <td>Radiology</td>\n",
       "      <td>1</td>\n",
       "    </tr>\n",
       "    <tr>\n",
       "      <th>1</th>\n",
       "      <td>t-sicu npn 1900-0700 neuro: sedated on propofo...</td>\n",
       "      <td>Nursing/other</td>\n",
       "      <td>0</td>\n",
       "    </tr>\n",
       "    <tr>\n",
       "      <th>2</th>\n",
       "      <td>3:59 pm ct chest w/o contrast clip # reason: r...</td>\n",
       "      <td>Radiology</td>\n",
       "      <td>1</td>\n",
       "    </tr>\n",
       "    <tr>\n",
       "      <th>3</th>\n",
       "      <td>11:08 am ct chest w/contrast; lab reconstructi...</td>\n",
       "      <td>Radiology</td>\n",
       "      <td>1</td>\n",
       "    </tr>\n",
       "    <tr>\n",
       "      <th>4</th>\n",
       "      <td>cardiac perfusion clip # reason: liver tx eval...</td>\n",
       "      <td>Radiology</td>\n",
       "      <td>1</td>\n",
       "    </tr>\n",
       "    <tr>\n",
       "      <th>...</th>\n",
       "      <td>...</td>\n",
       "      <td>...</td>\n",
       "      <td>...</td>\n",
       "    </tr>\n",
       "    <tr>\n",
       "      <th>995</th>\n",
       "      <td>npnote #remains in ra ir, bbs clear, equal, ea...</td>\n",
       "      <td>Nursing/other</td>\n",
       "      <td>0</td>\n",
       "    </tr>\n",
       "    <tr>\n",
       "      <th>996</th>\n",
       "      <td>npn 1900-0700 neuro: slept fair once given ser...</td>\n",
       "      <td>Nursing/other</td>\n",
       "      <td>0</td>\n",
       "    </tr>\n",
       "    <tr>\n",
       "      <th>997</th>\n",
       "      <td>np note pe: pale pink sl jaundiced premature i...</td>\n",
       "      <td>Nursing/other</td>\n",
       "      <td>0</td>\n",
       "    </tr>\n",
       "    <tr>\n",
       "      <th>998</th>\n",
       "      <td>npn neuro: pt conts on fent and midaz - 30 mcg...</td>\n",
       "      <td>Nursing/other</td>\n",
       "      <td>0</td>\n",
       "    </tr>\n",
       "    <tr>\n",
       "      <th>999</th>\n",
       "      <td>24 hour events: ultrasound - at 06:44 pm event...</td>\n",
       "      <td>Physician</td>\n",
       "      <td>3</td>\n",
       "    </tr>\n",
       "  </tbody>\n",
       "</table>\n",
       "<p>1000 rows × 3 columns</p>\n",
       "</div>"
      ],
      "text/plain": [
       "                                                  TEXT       CATEGORY  label\n",
       "0    10:42 am mr head w & w/o contrast clip # reaso...      Radiology      1\n",
       "1    t-sicu npn 1900-0700 neuro: sedated on propofo...  Nursing/other      0\n",
       "2    3:59 pm ct chest w/o contrast clip # reason: r...      Radiology      1\n",
       "3    11:08 am ct chest w/contrast; lab reconstructi...      Radiology      1\n",
       "4    cardiac perfusion clip # reason: liver tx eval...      Radiology      1\n",
       "..                                                 ...            ...    ...\n",
       "995  npnote #remains in ra ir, bbs clear, equal, ea...  Nursing/other      0\n",
       "996  npn 1900-0700 neuro: slept fair once given ser...  Nursing/other      0\n",
       "997  np note pe: pale pink sl jaundiced premature i...  Nursing/other      0\n",
       "998  npn neuro: pt conts on fent and midaz - 30 mcg...  Nursing/other      0\n",
       "999  24 hour events: ultrasound - at 06:44 pm event...     Physician       3\n",
       "\n",
       "[1000 rows x 3 columns]"
      ]
     },
     "execution_count": 6,
     "metadata": {},
     "output_type": "execute_result"
    }
   ],
   "source": [
    "n_test_samples = 1000\n",
    "reloaded_test_df = pd.read_csv(f\"{save_dir}/lm_pretraining_test_{n_test_samples}.csv\")\n",
    "reloaded_test_df"
   ]
  },
  {
   "cell_type": "code",
   "execution_count": 24,
   "id": "c9efba6e",
   "metadata": {},
   "outputs": [
    {
     "data": {
      "text/plain": [
       "Nursing/other        119875\n",
       "Radiology             54743\n",
       "Nursing               32855\n",
       "Physician             20649\n",
       "Discharge summary      8911\n",
       "Echo                   4930\n",
       "Respiratory            4600\n",
       "Nutrition              1339\n",
       "General                1256\n",
       "Rehab Services          796\n",
       "Pharmacy                 23\n",
       "Consult                  17\n",
       "Name: CATEGORY, dtype: int64"
      ]
     },
     "execution_count": 24,
     "metadata": {},
     "output_type": "execute_result"
    }
   ],
   "source": [
    "train_df_subset.CATEGORY.value_counts()"
   ]
  },
  {
   "cell_type": "code",
   "execution_count": 28,
   "id": "82b1c159",
   "metadata": {},
   "outputs": [
    {
     "data": {
      "text/html": [
       "<div>\n",
       "<style scoped>\n",
       "    .dataframe tbody tr th:only-of-type {\n",
       "        vertical-align: middle;\n",
       "    }\n",
       "\n",
       "    .dataframe tbody tr th {\n",
       "        vertical-align: top;\n",
       "    }\n",
       "\n",
       "    .dataframe thead th {\n",
       "        text-align: right;\n",
       "    }\n",
       "</style>\n",
       "<table border=\"1\" class=\"dataframe\">\n",
       "  <thead>\n",
       "    <tr style=\"text-align: right;\">\n",
       "      <th></th>\n",
       "      <th>TEXT</th>\n",
       "      <th>CATEGORY</th>\n",
       "      <th>label</th>\n",
       "    </tr>\n",
       "  </thead>\n",
       "  <tbody>\n",
       "    <tr>\n",
       "      <th>830</th>\n",
       "      <td>title: passy-muir valve evaluation / dispense ...</td>\n",
       "      <td>Rehab Services</td>\n",
       "      <td>9</td>\n",
       "    </tr>\n",
       "    <tr>\n",
       "      <th>1339</th>\n",
       "      <td>title: bedside swallow evaluation patient was ...</td>\n",
       "      <td>Rehab Services</td>\n",
       "      <td>9</td>\n",
       "    </tr>\n",
       "    <tr>\n",
       "      <th>1435</th>\n",
       "      <td>title: rehab services received consult and app...</td>\n",
       "      <td>Rehab Services</td>\n",
       "      <td>9</td>\n",
       "    </tr>\n",
       "    <tr>\n",
       "      <th>1514</th>\n",
       "      <td>consult receive and appreciated, patient remai...</td>\n",
       "      <td>Rehab Services</td>\n",
       "      <td>9</td>\n",
       "    </tr>\n",
       "    <tr>\n",
       "      <th>1750</th>\n",
       "      <td>attending physician: date: medical diagnosis /...</td>\n",
       "      <td>Rehab Services</td>\n",
       "      <td>9</td>\n",
       "    </tr>\n",
       "    <tr>\n",
       "      <th>...</th>\n",
       "      <td>...</td>\n",
       "      <td>...</td>\n",
       "      <td>...</td>\n",
       "    </tr>\n",
       "    <tr>\n",
       "      <th>248623</th>\n",
       "      <td>attending physician: referral date: medical di...</td>\n",
       "      <td>Rehab Services</td>\n",
       "      <td>9</td>\n",
       "    </tr>\n",
       "    <tr>\n",
       "      <th>248625</th>\n",
       "      <td>history attending md: referral date: reason fo...</td>\n",
       "      <td>Rehab Services</td>\n",
       "      <td>9</td>\n",
       "    </tr>\n",
       "    <tr>\n",
       "      <th>249259</th>\n",
       "      <td>attending physician: referral date: medical di...</td>\n",
       "      <td>Rehab Services</td>\n",
       "      <td>9</td>\n",
       "    </tr>\n",
       "    <tr>\n",
       "      <th>249494</th>\n",
       "      <td>attending physician: referral date: medical di...</td>\n",
       "      <td>Rehab Services</td>\n",
       "      <td>9</td>\n",
       "    </tr>\n",
       "    <tr>\n",
       "      <th>249807</th>\n",
       "      <td>attending physician: date: medical diagnosis /...</td>\n",
       "      <td>Rehab Services</td>\n",
       "      <td>9</td>\n",
       "    </tr>\n",
       "  </tbody>\n",
       "</table>\n",
       "<p>796 rows × 3 columns</p>\n",
       "</div>"
      ],
      "text/plain": [
       "                                                     TEXT        CATEGORY  \\\n",
       "830     title: passy-muir valve evaluation / dispense ...  Rehab Services   \n",
       "1339    title: bedside swallow evaluation patient was ...  Rehab Services   \n",
       "1435    title: rehab services received consult and app...  Rehab Services   \n",
       "1514    consult receive and appreciated, patient remai...  Rehab Services   \n",
       "1750    attending physician: date: medical diagnosis /...  Rehab Services   \n",
       "...                                                   ...             ...   \n",
       "248623  attending physician: referral date: medical di...  Rehab Services   \n",
       "248625  history attending md: referral date: reason fo...  Rehab Services   \n",
       "249259  attending physician: referral date: medical di...  Rehab Services   \n",
       "249494  attending physician: referral date: medical di...  Rehab Services   \n",
       "249807  attending physician: date: medical diagnosis /...  Rehab Services   \n",
       "\n",
       "        label  \n",
       "830         9  \n",
       "1339        9  \n",
       "1435        9  \n",
       "1514        9  \n",
       "1750        9  \n",
       "...       ...  \n",
       "248623      9  \n",
       "248625      9  \n",
       "249259      9  \n",
       "249494      9  \n",
       "249807      9  \n",
       "\n",
       "[796 rows x 3 columns]"
      ]
     },
     "execution_count": 28,
     "metadata": {},
     "output_type": "execute_result"
    }
   ],
   "source": [
    "train_df_subset.query(\"CATEGORY == 'Rehab Services'\")"
   ]
  },
  {
   "cell_type": "code",
   "execution_count": 9,
   "id": "df708b13",
   "metadata": {},
   "outputs": [],
   "source": [
    "\n",
    "# create new class \"other\" \n",
    "cat_col = \"CATEGORY\"\n",
    "n_classes_keep = 4\n",
    "classes_to_keep = list(reloaded_train_df[cat_col].value_counts().keys()[:n_classes_keep])\n",
    "\n"
   ]
  },
  {
   "cell_type": "code",
   "execution_count": 23,
   "id": "b1b43a80",
   "metadata": {},
   "outputs": [
    {
     "data": {
      "text/plain": [
       "['Nursing/other',\n",
       " 'Radiology',\n",
       " 'Nursing',\n",
       " 'Physician ',\n",
       " 'Discharge summary',\n",
       " 'Echo',\n",
       " 'Respiratory ',\n",
       " 'Nutrition']"
      ]
     },
     "execution_count": 23,
     "metadata": {},
     "output_type": "execute_result"
    }
   ],
   "source": [
    "classes_to_keep"
   ]
  },
  {
   "cell_type": "code",
   "execution_count": null,
   "id": "7f3162a1",
   "metadata": {},
   "outputs": [],
   "source": []
  },
  {
   "cell_type": "code",
   "execution_count": 11,
   "id": "d70e2aa7",
   "metadata": {},
   "outputs": [],
   "source": [
    "# get new DFs with only the top N classes in\n",
    "\n",
    "train_df = reloaded_train_df[reloaded_train_df[cat_col].isin(classes_to_keep)]\n",
    "val_df = reloaded_test_df[reloaded_test_df[cat_col].isin(classes_to_keep)]"
   ]
  },
  {
   "cell_type": "code",
   "execution_count": 14,
   "id": "69a79336",
   "metadata": {},
   "outputs": [
    {
     "data": {
      "text/plain": [
       "Nursing/other    119875\n",
       "Radiology         54743\n",
       "Nursing           32855\n",
       "Physician         20649\n",
       "Name: CATEGORY, dtype: int64"
      ]
     },
     "execution_count": 14,
     "metadata": {},
     "output_type": "execute_result"
    }
   ],
   "source": [
    "train_df.CATEGORY.value_counts()"
   ]
  },
  {
   "cell_type": "code",
   "execution_count": null,
   "id": "07344c97",
   "metadata": {},
   "outputs": [],
   "source": []
  }
 ],
 "metadata": {
  "kernelspec": {
   "display_name": "Python 3.9.13 ('39nlp': venv)",
   "language": "python",
   "name": "python3"
  },
  "language_info": {
   "codemirror_mode": {
    "name": "ipython",
    "version": 3
   },
   "file_extension": ".py",
   "mimetype": "text/x-python",
   "name": "python",
   "nbconvert_exporter": "python",
   "pygments_lexer": "ipython3",
   "version": "3.9.16"
  },
  "vscode": {
   "interpreter": {
    "hash": "4bf09d40e77d3786deb49768c5a0e6c92c433b20cf5c332bc185780ac9d11fb5"
   }
  }
 },
 "nbformat": 4,
 "nbformat_minor": 5
}
