{
 "cells": [
  {
   "cell_type": "code",
   "execution_count": 1,
   "metadata": {},
   "outputs": [],
   "source": [
    "from datasets import load_dataset, load_from_disk\n",
    "\n"
   ]
  },
  {
   "attachments": {},
   "cell_type": "markdown",
   "metadata": {},
   "source": [
    "### note \n",
    "the load_datasets for local files is weird - as providing the data_dir as argument is dumb as fuck\n",
    "\n",
    "I manually edited the datasets library file to force the data_dir variable and it worked for now."
   ]
  },
  {
   "cell_type": "code",
   "execution_count": 2,
   "metadata": {},
   "outputs": [
    {
     "name": "stderr",
     "output_type": "stream",
     "text": [
      "No config specified, defaulting to: mednli/mednli_source\n",
      "Found cached dataset mednli (/home/niallt/.cache/huggingface/datasets/bigbio___mednli/mednli_source/1.0.0/f18e31046c4bf68bbdc505fbf3dab924a4ea60082a7f41346e3a84b54f453535)\n"
     ]
    },
    {
     "name": "stdout",
     "output_type": "stream",
     "text": [
      "BUILDER_CONFIGS: [BigBioConfig(name='mednli_source', version=1.0.0, data_dir='/mnt/sdd/niallt/', data_files=None, description='MedNLI source schema', schema='source', subset_id='mednli'), BigBioConfig(name='mednli_bigbio_te', version=1.0.0, data_dir='/mnt/sdd/niallt/', data_files=None, description='MedNLI BigBio schema', schema='bigbio_te', subset_id='mednli')]\n",
      "inside mednli.py\n",
      "inside mednli.py _info self.config.schema: BigBioConfig(name='mednli_source', version=1.0.0, data_dir='/mnt/sdd/niallt/', data_files=None, description='MedNLI source schema', schema='source', subset_id='mednli')\n"
     ]
    },
    {
     "data": {
      "application/vnd.jupyter.widget-view+json": {
       "model_id": "67b526d7d1ed4b9084eb91eb08418602",
       "version_major": 2,
       "version_minor": 0
      },
      "text/plain": [
       "  0%|          | 0/3 [00:00<?, ?it/s]"
      ]
     },
     "metadata": {},
     "output_type": "display_data"
    }
   ],
   "source": [
    "\n",
    "dataset = load_dataset(\"bigbio/mednli\")"
   ]
  },
  {
   "cell_type": "code",
   "execution_count": 3,
   "metadata": {},
   "outputs": [
    {
     "data": {
      "text/plain": [
       "DatasetDict({\n",
       "    train: Dataset({\n",
       "        features: ['pairID', 'gold_label', 'sentence1', 'sentence2', 'sentence1_parse', 'sentence2_parse', 'sentence1_binary_parse', 'sentence2_binary_parse'],\n",
       "        num_rows: 11232\n",
       "    })\n",
       "    test: Dataset({\n",
       "        features: ['pairID', 'gold_label', 'sentence1', 'sentence2', 'sentence1_parse', 'sentence2_parse', 'sentence1_binary_parse', 'sentence2_binary_parse'],\n",
       "        num_rows: 1422\n",
       "    })\n",
       "    validation: Dataset({\n",
       "        features: ['pairID', 'gold_label', 'sentence1', 'sentence2', 'sentence1_parse', 'sentence2_parse', 'sentence1_binary_parse', 'sentence2_binary_parse'],\n",
       "        num_rows: 1395\n",
       "    })\n",
       "})"
      ]
     },
     "execution_count": 3,
     "metadata": {},
     "output_type": "execute_result"
    }
   ],
   "source": [
    "dataset"
   ]
  },
  {
   "cell_type": "code",
   "execution_count": 6,
   "metadata": {},
   "outputs": [
    {
     "data": {
      "text/plain": [
       "{'pairID': '23eb979c-66c7-11e7-b76c-f45c89b91419',\n",
       " 'gold_label': 'contradiction',\n",
       " 'sentence1': 'Labs were notable for Cr 1.7 (baseline 0.5 per old records) and lactate 2.4.',\n",
       " 'sentence2': ' Patient has normal Cr',\n",
       " 'sentence1_parse': '(ROOT (S (NP (NNPS Labs)) (VP (VBD were) (ADJP (JJ notable) (PP (IN for) (NP (NP (NP (NN Cr) (CD 1.7)) (PRN (-LRB- -LRB-) (NP (NP (NN baseline) (CD 0.5)) (PP (IN per) (NP (JJ old) (NNS records)))) (-RRB- -RRB-))) (CC and) (NP (NN lactate) (CD 2.4)))))) (. .)))',\n",
       " 'sentence2_parse': '(ROOT (S (NP (NN Patient)) (VP (VBZ has) (NP (JJ normal) (NN Cr)))))',\n",
       " 'sentence1_binary_parse': '( Labs ( ( were ( notable ( for ( ( ( ( Cr 1.7 ) ( -LRB- ( ( ( baseline 0.5 ) ( per ( old records ) ) ) -RRB- ) ) ) and ) ( lactate 2.4 ) ) ) ) ) . ) )',\n",
       " 'sentence2_binary_parse': '( Patient ( has ( normal Cr ) ) )'}"
      ]
     },
     "execution_count": 6,
     "metadata": {},
     "output_type": "execute_result"
    }
   ],
   "source": [
    "dataset[\"train\"][1]"
   ]
  },
  {
   "cell_type": "code",
   "execution_count": 7,
   "metadata": {},
   "outputs": [
    {
     "data": {
      "text/plain": [
       "{'pairID': '1f2a8538-66c7-11e7-8228-f45c89b91419',\n",
       " 'gold_label': 'contradiction',\n",
       " 'sentence1': 'In the ED, initial VS revealed T 98.9, HR 73, BP 121/90, RR 15, O2 sat 98% on RA.',\n",
       " 'sentence2': ' The patient is hemodynamically unstable.',\n",
       " 'sentence1_parse': '(ROOT (S (PP (IN In) (NP (DT the) (NNP ED))) (, ,) (NP (JJ initial) (NNS VS)) (VP (VBD revealed) (NP (NP (NN T) (CD 98.9)) (, ,) (NP (NN HR) (CD 73)) (, ,) (NP (NP (NNP BP)) (NP (CD 121/90))) (, ,) (NP (NN RR) (CD 15)) (, ,) (NP (CD O2)) (VP (VBD sat) (NP (CD 98) (NN %)) (PP (IN on) (NP (NN RA)))))) (. .)))',\n",
       " 'sentence2_parse': '(ROOT (S (NP (DT The) (NN patient)) (VP (VBZ is) (ADJP (RB hemodynamically) (JJ unstable))) (. .)))',\n",
       " 'sentence1_binary_parse': '( ( In ( the ED ) ) ( , ( ( initial VS ) ( ( revealed ( ( ( ( ( ( ( ( ( ( T 98.9 ) , ) ( HR 73 ) ) , ) ( BP 121/90 ) ) , ) ( RR 15 ) ) , ) O2 ) ( ( sat ( 98 % ) ) ( on RA ) ) ) ) . ) ) ) )',\n",
       " 'sentence2_binary_parse': '( ( The patient ) ( ( is ( hemodynamically unstable ) ) . ) )'}"
      ]
     },
     "execution_count": 7,
     "metadata": {},
     "output_type": "execute_result"
    }
   ],
   "source": [
    "dataset[\"test\"][1]"
   ]
  },
  {
   "cell_type": "code",
   "execution_count": 8,
   "metadata": {},
   "outputs": [
    {
     "data": {
      "application/vnd.jupyter.widget-view+json": {
       "model_id": "df332e00c62f4d91bd297a2c52468809",
       "version_major": 2,
       "version_minor": 0
      },
      "text/plain": [
       "Saving the dataset (0/1 shards):   0%|          | 0/11232 [00:00<?, ? examples/s]"
      ]
     },
     "metadata": {},
     "output_type": "display_data"
    },
    {
     "data": {
      "application/vnd.jupyter.widget-view+json": {
       "model_id": "1e8f96d09fb345c487c40a2f38388aeb",
       "version_major": 2,
       "version_minor": 0
      },
      "text/plain": [
       "Saving the dataset (0/1 shards):   0%|          | 0/1422 [00:00<?, ? examples/s]"
      ]
     },
     "metadata": {},
     "output_type": "display_data"
    },
    {
     "data": {
      "application/vnd.jupyter.widget-view+json": {
       "model_id": "1699c2ee62fb4f46b9e8ebae9516e7c3",
       "version_major": 2,
       "version_minor": 0
      },
      "text/plain": [
       "Saving the dataset (0/1 shards):   0%|          | 0/1395 [00:00<?, ? examples/s]"
      ]
     },
     "metadata": {},
     "output_type": "display_data"
    }
   ],
   "source": [
    "# save local\n",
    "dataset.save_to_disk(\"/mnt/sdd/niallt/mednli/hf_dataset/\")"
   ]
  },
  {
   "cell_type": "code",
   "execution_count": 11,
   "metadata": {},
   "outputs": [],
   "source": [
    "reload_dataset = load_from_disk(\"/mnt/sdd/niallt/mednli/hf_dataset/\")"
   ]
  },
  {
   "cell_type": "code",
   "execution_count": 12,
   "metadata": {},
   "outputs": [
    {
     "data": {
      "text/plain": [
       "DatasetDict({\n",
       "    train: Dataset({\n",
       "        features: ['pairID', 'gold_label', 'sentence1', 'sentence2', 'sentence1_parse', 'sentence2_parse', 'sentence1_binary_parse', 'sentence2_binary_parse'],\n",
       "        num_rows: 11232\n",
       "    })\n",
       "    test: Dataset({\n",
       "        features: ['pairID', 'gold_label', 'sentence1', 'sentence2', 'sentence1_parse', 'sentence2_parse', 'sentence1_binary_parse', 'sentence2_binary_parse'],\n",
       "        num_rows: 1422\n",
       "    })\n",
       "    validation: Dataset({\n",
       "        features: ['pairID', 'gold_label', 'sentence1', 'sentence2', 'sentence1_parse', 'sentence2_parse', 'sentence1_binary_parse', 'sentence2_binary_parse'],\n",
       "        num_rows: 1395\n",
       "    })\n",
       "})"
      ]
     },
     "execution_count": 12,
     "metadata": {},
     "output_type": "execute_result"
    }
   ],
   "source": [
    "reload_dataset"
   ]
  },
  {
   "attachments": {},
   "cell_type": "markdown",
   "metadata": {},
   "source": [
    "## PubMed QA"
   ]
  },
  {
   "attachments": {},
   "cell_type": "markdown",
   "metadata": {},
   "source": [
    "# you can use any of the following config names as a second argument:\n",
    "\"pqa_artificial\", \"pqa_labeled\", \"pqa_unlabeled\""
   ]
  },
  {
   "cell_type": "code",
   "execution_count": 2,
   "metadata": {},
   "outputs": [
    {
     "data": {
      "application/vnd.jupyter.widget-view+json": {
       "model_id": "f224c9a76fc34dd9a20fc699617fbda0",
       "version_major": 2,
       "version_minor": 0
      },
      "text/plain": [
       "Downloading builder script:   0%|          | 0.00/11.1k [00:00<?, ?B/s]"
      ]
     },
     "metadata": {},
     "output_type": "display_data"
    },
    {
     "data": {
      "application/vnd.jupyter.widget-view+json": {
       "model_id": "4d44e89ed4614d75a29613aac336f45e",
       "version_major": 2,
       "version_minor": 0
      },
      "text/plain": [
       "Downloading metadata:   0%|          | 0.00/12.7k [00:00<?, ?B/s]"
      ]
     },
     "metadata": {},
     "output_type": "display_data"
    },
    {
     "data": {
      "application/vnd.jupyter.widget-view+json": {
       "model_id": "c1b1d42edbbe4df986d81f8dd86da8d1",
       "version_major": 2,
       "version_minor": 0
      },
      "text/plain": [
       "Downloading readme:   0%|          | 0.00/4.58k [00:00<?, ?B/s]"
      ]
     },
     "metadata": {},
     "output_type": "display_data"
    },
    {
     "name": "stdout",
     "output_type": "stream",
     "text": [
      "Downloading and preparing dataset pubmed_qa/pqa_labeled to /home/niallt/.cache/huggingface/datasets/pubmed_qa/pqa_labeled/1.0.0/dd4c39f031a958c7e782595fa4dd1b1330484e8bbadd4d9212e5046f27e68924...\n"
     ]
    },
    {
     "data": {
      "application/vnd.jupyter.widget-view+json": {
       "model_id": "e086c7e89e594787954ccf29c0abce6f",
       "version_major": 2,
       "version_minor": 0
      },
      "text/plain": [
       "Downloading data files:   0%|          | 0/3 [00:00<?, ?it/s]"
      ]
     },
     "metadata": {},
     "output_type": "display_data"
    },
    {
     "data": {
      "application/vnd.jupyter.widget-view+json": {
       "model_id": "8d793f50b60e40e8b799dc098eec1f6c",
       "version_major": 2,
       "version_minor": 0
      },
      "text/plain": [
       "Downloading data:   0%|          | 0.00/709k [00:00<?, ?B/s]"
      ]
     },
     "metadata": {},
     "output_type": "display_data"
    },
    {
     "data": {
      "application/vnd.jupyter.widget-view+json": {
       "model_id": "cd18b2a989cb41d9ae8fca0f789c43c7",
       "version_major": 2,
       "version_minor": 0
      },
      "text/plain": [
       "Downloading data:   0%|          | 0.00/152M [00:00<?, ?B/s]"
      ]
     },
     "metadata": {},
     "output_type": "display_data"
    },
    {
     "data": {
      "application/vnd.jupyter.widget-view+json": {
       "model_id": "7c7e878ff4764b879f244ff85cb2cd67",
       "version_major": 2,
       "version_minor": 0
      },
      "text/plain": [
       "Downloading data:   0%|          | 0.00/533M [00:00<?, ?B/s]"
      ]
     },
     "metadata": {},
     "output_type": "display_data"
    },
    {
     "data": {
      "application/vnd.jupyter.widget-view+json": {
       "model_id": "5c9fd9f6b0cf43a6bd66843c061492df",
       "version_major": 2,
       "version_minor": 0
      },
      "text/plain": [
       "Extracting data files:   0%|          | 0/3 [00:00<?, ?it/s]"
      ]
     },
     "metadata": {},
     "output_type": "display_data"
    },
    {
     "data": {
      "application/vnd.jupyter.widget-view+json": {
       "model_id": "71dcd9693d25477eb2076f4c31082d12",
       "version_major": 2,
       "version_minor": 0
      },
      "text/plain": [
       "Generating train split:   0%|          | 0/1000 [00:00<?, ? examples/s]"
      ]
     },
     "metadata": {},
     "output_type": "display_data"
    },
    {
     "name": "stdout",
     "output_type": "stream",
     "text": [
      "Dataset pubmed_qa downloaded and prepared to /home/niallt/.cache/huggingface/datasets/pubmed_qa/pqa_labeled/1.0.0/dd4c39f031a958c7e782595fa4dd1b1330484e8bbadd4d9212e5046f27e68924. Subsequent calls will reuse this data.\n"
     ]
    },
    {
     "data": {
      "application/vnd.jupyter.widget-view+json": {
       "model_id": "34d151e9b5234189aab71eb0431532e2",
       "version_major": 2,
       "version_minor": 0
      },
      "text/plain": [
       "  0%|          | 0/1 [00:00<?, ?it/s]"
      ]
     },
     "metadata": {},
     "output_type": "display_data"
    }
   ],
   "source": [
    "\n",
    "\n",
    "dataset = load_dataset(\"pubmed_qa\", \"pqa_labeled\")"
   ]
  },
  {
   "cell_type": "code",
   "execution_count": 3,
   "metadata": {},
   "outputs": [
    {
     "data": {
      "text/plain": [
       "DatasetDict({\n",
       "    train: Dataset({\n",
       "        features: ['pubid', 'question', 'context', 'long_answer', 'final_decision'],\n",
       "        num_rows: 1000\n",
       "    })\n",
       "})"
      ]
     },
     "execution_count": 3,
     "metadata": {},
     "output_type": "execute_result"
    }
   ],
   "source": [
    "dataset"
   ]
  },
  {
   "cell_type": "code",
   "execution_count": 4,
   "metadata": {},
   "outputs": [
    {
     "data": {
      "application/vnd.jupyter.widget-view+json": {
       "model_id": "5ce33012feda4f61a983186deb0a1a34",
       "version_major": 2,
       "version_minor": 0
      },
      "text/plain": [
       "Saving the dataset (0/1 shards):   0%|          | 0/1000 [00:00<?, ? examples/s]"
      ]
     },
     "metadata": {},
     "output_type": "display_data"
    }
   ],
   "source": [
    "# lets save to disk anyway - just for ease of sharing etc\n",
    "\n",
    "dataset.save_to_disk(\"/mnt/sdd/niallt/pubmed_qa/hf_dataset/\")"
   ]
  }
 ],
 "metadata": {
  "kernelspec": {
   "display_name": "39nlp",
   "language": "python",
   "name": "python3"
  },
  "language_info": {
   "codemirror_mode": {
    "name": "ipython",
    "version": 3
   },
   "file_extension": ".py",
   "mimetype": "text/x-python",
   "name": "python",
   "nbconvert_exporter": "python",
   "pygments_lexer": "ipython3",
   "version": "3.9.16"
  },
  "orig_nbformat": 4
 },
 "nbformat": 4,
 "nbformat_minor": 2
}
